{
 "cells": [
  {
   "cell_type": "code",
   "execution_count": 5,
   "id": "intense-residence",
   "metadata": {},
   "outputs": [],
   "source": [
    "import os\n",
    "import docx\n",
    "import re\n",
    "import pandas as pd \n",
    "import numpy as np\n",
    "import pickle\n",
    "\n",
    "import matplotlib.pyplot as plt \n",
    "import seaborn as sns\n",
    "\n",
    "from sklearn import metrics\n",
    "from sklearn.svm import SVC, LinearSVC, NuSVC\n",
    "from sklearn.preprocessing import LabelEncoder\n",
    "from sklearn.feature_extraction.text import CountVectorizer, TfidfVectorizer\n",
    "from sklearn.model_selection import train_test_split\n",
    "from sklearn.naive_bayes import GaussianNB,MultinomialNB,BernoulliNB\n",
    "from sklearn.linear_model import LogisticRegression\n",
    "from sklearn.metrics import classification_report, confusion_matrix, accuracy_score\n",
    "\n",
    "import nltk\n",
    "from nltk.corpus import stopwords\n",
    "from nltk.stem.porter import PorterStemmer\n",
    "from nltk.stem import WordNetLemmatizer\n",
    "from nltk.stem import SnowballStemmer as snow\n",
    "\n"
   ]
  },
  {
   "cell_type": "code",
   "execution_count": 3,
   "id": "ranging-today",
   "metadata": {},
   "outputs": [],
   "source": [
    "# Загрузка модели \n",
    "def get_model(path_model):\n",
    "    with open(path_model, 'rb') as file:\n",
    "        pickle_model = pickle.load(file)\n",
    "    return pickle_model\n"
   ]
  },
  {
   "cell_type": "code",
   "execution_count": 6,
   "id": "flush-anthropology",
   "metadata": {},
   "outputs": [],
   "source": [
    "# Поставить местоположение у тебя\n",
    "path_model = r\"C:\\Users\\79219\\Desktop\\digital_xakaton\\model\\LinearSVC_model.pkl\"\n",
    "model = get_model(path_model)"
   ]
  },
  {
   "cell_type": "code",
   "execution_count": 7,
   "id": "modified-influence",
   "metadata": {},
   "outputs": [],
   "source": [
    "def load_file(path_to_file):\n",
    "    doc = docx.Document(path_to_file)\n",
    "    all_paragraphs = doc.paragraphs\n",
    "    list_text_doc = [par.text for par in all_paragraphs]\n",
    "    len_doc_paragraph = len(all_paragraphs)\n",
    "    return list_text_doc, len_doc_paragraph"
   ]
  },
  {
   "cell_type": "code",
   "execution_count": 9,
   "id": "exempt-mattress",
   "metadata": {},
   "outputs": [],
   "source": [
    "path_document = r\"C:\\Users\\79219\\Desktop\\digital_xakaton\\document\\Postanovlenie_Pravitelstva_Rossiyskoy_Federatsii_ot_07_04_2022_612.docx\"\n",
    "list_text_doc, len_paragraph = load_file(path_document)"
   ]
  },
  {
   "cell_type": "code",
   "execution_count": 10,
   "id": "actual-modern",
   "metadata": {},
   "outputs": [],
   "source": [
    "def pandas_df_text(text_doc):\n",
    "    df = pd.DataFrame(text_doc, columns=['text'])\n",
    "    return df"
   ]
  },
  {
   "cell_type": "code",
   "execution_count": 11,
   "id": "yellow-edition",
   "metadata": {},
   "outputs": [],
   "source": [
    "df = pandas_df_text(list_text_doc)"
   ]
  },
  {
   "cell_type": "code",
   "execution_count": null,
   "id": "korean-acrylic",
   "metadata": {},
   "outputs": [],
   "source": []
  }
 ],
 "metadata": {
  "kernelspec": {
   "display_name": "Python 3",
   "language": "python",
   "name": "python3"
  },
  "language_info": {
   "codemirror_mode": {
    "name": "ipython",
    "version": 3
   },
   "file_extension": ".py",
   "mimetype": "text/x-python",
   "name": "python",
   "nbconvert_exporter": "python",
   "pygments_lexer": "ipython3",
   "version": "3.8.3"
  }
 },
 "nbformat": 4,
 "nbformat_minor": 5
}
