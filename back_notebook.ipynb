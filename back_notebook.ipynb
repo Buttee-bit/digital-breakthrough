{
 "cells": [
  {
   "cell_type": "markdown",
   "id": "attended-artist",
   "metadata": {},
   "source": [
    "# Импорт необходимых библиотек"
   ]
  },
  {
   "cell_type": "code",
   "execution_count": 29,
   "id": "intense-residence",
   "metadata": {},
   "outputs": [],
   "source": [
    "import os\n",
    "import docx\n",
    "import re\n",
    "import pandas as pd \n",
    "import numpy as np\n",
    "import pickle\n",
    "\n",
    "import matplotlib.pyplot as plt \n",
    "import seaborn as sns\n",
    "\n",
    "from collections import Counter\n",
    "\n",
    "from sklearn import metrics\n",
    "from sklearn.svm import SVC, LinearSVC, NuSVC\n",
    "from sklearn.preprocessing import LabelEncoder\n",
    "from sklearn.feature_extraction.text import CountVectorizer, TfidfVectorizer\n",
    "from sklearn.model_selection import train_test_split\n",
    "from sklearn.naive_bayes import GaussianNB,MultinomialNB,BernoulliNB\n",
    "from sklearn.linear_model import LogisticRegression\n",
    "from sklearn.metrics import classification_report, confusion_matrix, accuracy_score\n",
    "\n",
    "import nltk\n",
    "from nltk.corpus import stopwords\n",
    "from nltk.stem.porter import PorterStemmer\n",
    "from nltk.stem import WordNetLemmatizer\n",
    "from nltk.stem import SnowballStemmer as snow\n",
    "\n"
   ]
  },
  {
   "cell_type": "markdown",
   "id": "romance-custody",
   "metadata": {},
   "source": [
    "# Загрузка модели"
   ]
  },
  {
   "cell_type": "code",
   "execution_count": 30,
   "id": "ranging-today",
   "metadata": {},
   "outputs": [],
   "source": [
    "# Загрузка модели \n",
    "def get_model(path_model):\n",
    "    with open(path_model, 'rb') as file:\n",
    "        pickle_model = pickle.load(file)\n",
    "    return pickle_model\n"
   ]
  },
  {
   "cell_type": "code",
   "execution_count": 31,
   "id": "flush-anthropology",
   "metadata": {},
   "outputs": [],
   "source": [
    "# Поставить местоположение у тебя\n",
    "path_model = r\"model\\LinearSVC_model_2700.pkl\"\n",
    "model = get_model(path_model)\n"
   ]
  },
  {
   "cell_type": "markdown",
   "id": "sporting-assessment",
   "metadata": {},
   "source": [
    "# Загрузка файла"
   ]
  },
  {
   "cell_type": "code",
   "execution_count": 32,
   "id": "modified-influence",
   "metadata": {},
   "outputs": [],
   "source": [
    "def load_file(path_to_file):\n",
    "    doc = docx.Document(path_to_file)\n",
    "    all_paragraphs = doc.paragraphs\n",
    "    list_text_doc = [par.text for par in all_paragraphs]\n",
    "    len_doc_paragraph = len(all_paragraphs)\n",
    "    return list_text_doc, len_doc_paragraph"
   ]
  },
  {
   "cell_type": "code",
   "execution_count": 33,
   "id": "silent-mauritius",
   "metadata": {},
   "outputs": [],
   "source": [
    "path_document = r\"C:\\Users\\79219\\Desktop\\digital_xakaton\\document\\Postanovlenie_Pravitelstva_Rossiyskoy_Federatsii_ot_04_03_2021__314.docx\"\n",
    "list_text_doc, len_paragraph = load_file(path_document)"
   ]
  },
  {
   "cell_type": "code",
   "execution_count": 34,
   "id": "flying-bacteria",
   "metadata": {},
   "outputs": [],
   "source": [
    "def load_file(path_to_file):\n",
    "    doc = docx.Document(path_to_file)\n",
    "    all_paragraphs = doc.paragraphs\n",
    "    list_text_doc = [par.text for par in all_paragraphs]\n",
    "    len_doc_paragraph = len(all_paragraphs)\n",
    "    return list_text_doc, len_doc_paragraph"
   ]
  },
  {
   "cell_type": "code",
   "execution_count": 35,
   "id": "electoral-listing",
   "metadata": {},
   "outputs": [],
   "source": [
    "list_text_doc, len_paragraph = load_file(path_document)"
   ]
  },
  {
   "cell_type": "code",
   "execution_count": 36,
   "id": "contemporary-count",
   "metadata": {},
   "outputs": [],
   "source": [
    "def pandas_df_text(text_doc):\n",
    "    df = pd.DataFrame(text_doc, columns=['text'])\n",
    "    return df"
   ]
  },
  {
   "cell_type": "code",
   "execution_count": 37,
   "id": "tested-tactics",
   "metadata": {},
   "outputs": [],
   "source": [
    "df = pandas_df_text(list_text_doc)"
   ]
  },
  {
   "cell_type": "markdown",
   "id": "conceptual-uruguay",
   "metadata": {},
   "source": [
    "# Обработка текста "
   ]
  },
  {
   "cell_type": "code",
   "execution_count": 38,
   "id": "abandoned-registrar",
   "metadata": {},
   "outputs": [],
   "source": [
    "stop_words = set(stopwords.words('russian'))\n",
    "stemmer = snow('russian')\n",
    "text_cleaning_re = \"[A-Za-z0-9!#$%&'()*+,./:;<=>?@[\\]^_`{|}~—\\\"\\-]+\"\n",
    "\n",
    "def clear_text(text):\n",
    "    tokens = []\n",
    "    text = re.sub(text_cleaning_re, ' ', str(text).lower()).strip()\n",
    "    text = re.sub(r'\\s+', ' ', text)\n",
    "    for token in text.split():\n",
    "        if token not in stop_words:\n",
    "            token = \"\".join(c for c in token if token.isalnum())\n",
    "            tokens.append(token)\n",
    "    return \" \".join(tokens)\n",
    "\n",
    "def pre_process(text):\n",
    "    tokens = []\n",
    "    for token in text.split():\n",
    "        tokens.append(stemmer.stem(token))\n",
    "    return \" \".join(tokens)\n"
   ]
  },
  {
   "cell_type": "code",
   "execution_count": 39,
   "id": "ceramic-volume",
   "metadata": {},
   "outputs": [],
   "source": [
    "def preprocess_text(df_text_doc):\n",
    "    texts_ = df_text_doc.text.apply(lambda x: clear_text(x))\n",
    "    texts_stemm = texts_.apply(lambda x: pre_process(x))\n",
    "    return  texts_stemm"
   ]
  },
  {
   "cell_type": "code",
   "execution_count": 40,
   "id": "invalid-latino",
   "metadata": {},
   "outputs": [],
   "source": [
    "clear_stem_text = preprocess_text(df)"
   ]
  },
  {
   "cell_type": "markdown",
   "id": "naked-giving",
   "metadata": {},
   "source": [
    "# Создание TFiDF"
   ]
  },
  {
   "cell_type": "code",
   "execution_count": 41,
   "id": "settled-money",
   "metadata": {},
   "outputs": [],
   "source": [
    "tfidf_doc=TfidfVectorizer(max_features=2745,ngram_range=(1,4))"
   ]
  },
  {
   "cell_type": "markdown",
   "id": "fifty-friendship",
   "metadata": {},
   "source": [
    "# Создание переменной X\n"
   ]
  },
  {
   "cell_type": "code",
   "execution_count": 42,
   "id": "occupied-marijuana",
   "metadata": {},
   "outputs": [],
   "source": [
    "X = tfidf_doc.fit_transform(clear_stem_text)"
   ]
  },
  {
   "cell_type": "markdown",
   "id": "twelve-float",
   "metadata": {},
   "source": [
    "# Ответ модели "
   ]
  },
  {
   "cell_type": "code",
   "execution_count": 43,
   "id": "complimentary-leather",
   "metadata": {},
   "outputs": [],
   "source": [
    "Ypredict = model.predict(X)\n",
    "Ypredict = Ypredict.tolist()"
   ]
  },
  {
   "cell_type": "markdown",
   "id": "blocked-techno",
   "metadata": {},
   "source": [
    "# Создание списка таргетов"
   ]
  },
  {
   "cell_type": "code",
   "execution_count": 44,
   "id": "black-seafood",
   "metadata": {},
   "outputs": [],
   "source": [
    "range_ = [i for i in range(len(Ypredict))]\n",
    "dict_={}\n",
    "for i in range_:\n",
    "    dict_[i] = Ypredict[i]"
   ]
  },
  {
   "cell_type": "markdown",
   "id": "psychological-investor",
   "metadata": {},
   "source": [
    "# Сортировка таргетов, которые присутствуют в документе "
   ]
  },
  {
   "cell_type": "code",
   "execution_count": 45,
   "id": "mobile-equality",
   "metadata": {},
   "outputs": [],
   "source": [
    "class_ = [str(i) for i in range(1,41)]\n",
    "class_[-1] = 'non'\n",
    "\n",
    "def get_info_class_loss(Ypredict, class_):\n",
    "    list_class = []\n",
    "    for i in Ypredict:\n",
    "        if i not in list_class:\n",
    "            list_class.append(i)\n",
    "    return sorted(list_class)\n",
    "        "
   ]
  },
  {
   "cell_type": "code",
   "execution_count": 46,
   "id": "fallen-nicaragua",
   "metadata": {},
   "outputs": [],
   "source": [
    "x = get_info_class_loss(Ypredict, class_)"
   ]
  },
  {
   "cell_type": "markdown",
   "id": "detected-orientation",
   "metadata": {},
   "source": [
    "# Количество классов в документе"
   ]
  },
  {
   "cell_type": "code",
   "execution_count": 47,
   "id": "impossible-tiffany",
   "metadata": {},
   "outputs": [
    {
     "data": {
      "text/plain": [
       "[('non', 54),\n",
       " ('11', 12),\n",
       " ('35', 8),\n",
       " ('10', 7),\n",
       " ('22', 3),\n",
       " ('18', 2),\n",
       " ('19', 2),\n",
       " ('12', 2),\n",
       " ('15', 2),\n",
       " ('24', 2),\n",
       " ('38', 2),\n",
       " ('20', 1),\n",
       " ('27', 1),\n",
       " ('36', 1),\n",
       " ('30', 1),\n",
       " ('13', 1)]"
      ]
     },
     "execution_count": 47,
     "metadata": {},
     "output_type": "execute_result"
    }
   ],
   "source": [
    "cnt = Counter(Ypredict)\n",
    "cnt.most_common()"
   ]
  },
  {
   "cell_type": "code",
   "execution_count": null,
   "id": "split-leadership",
   "metadata": {},
   "outputs": [],
   "source": []
  }
 ],
 "metadata": {
  "kernelspec": {
   "display_name": "Python 3",
   "language": "python",
   "name": "python3"
  },
  "language_info": {
   "codemirror_mode": {
    "name": "ipython",
    "version": 3
   },
   "file_extension": ".py",
   "mimetype": "text/x-python",
   "name": "python",
   "nbconvert_exporter": "python",
   "pygments_lexer": "ipython3",
   "version": "3.8.3"
  }
 },
 "nbformat": 4,
 "nbformat_minor": 5
}
