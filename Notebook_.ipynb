{
 "cells": [
  {
   "cell_type": "markdown",
   "id": "criminal-pitch",
   "metadata": {},
   "source": [
    "# Импортирование библиотек"
   ]
  },
  {
   "cell_type": "code",
   "execution_count": 5,
   "id": "minimal-toilet",
   "metadata": {},
   "outputs": [
    {
     "name": "stderr",
     "output_type": "stream",
     "text": [
      "C:\\Prog\\lib\\site-packages\\numpy\\_distributor_init.py:30: UserWarning: loaded more than 1 DLL from .libs:\n",
      "C:\\Prog\\lib\\site-packages\\numpy\\.libs\\libopenblas.GK7GX5KEQ4F6UYO3P26ULGBQYHGQO7J4.gfortran-win_amd64.dll\n",
      "C:\\Prog\\lib\\site-packages\\numpy\\.libs\\libopenblas.WCDJNK7YVMPZQ2ME2ZZHJJRJ3JIKNDB7.gfortran-win_amd64.dll\n",
      "  warnings.warn(\"loaded more than 1 DLL from .libs:\"\n"
     ]
    },
    {
     "ename": "RuntimeError",
     "evalue": "module compiled against API version 0xe but this version of numpy is 0xd",
     "output_type": "error",
     "traceback": [
      "\u001b[1;31m---------------------------------------------------------------------------\u001b[0m",
      "\u001b[1;31mRuntimeError\u001b[0m                              Traceback (most recent call last)",
      "\u001b[1;31mRuntimeError\u001b[0m: module compiled against API version 0xe but this version of numpy is 0xd"
     ]
    },
    {
     "ename": "RuntimeError",
     "evalue": "module compiled against API version 0xe but this version of numpy is 0xd",
     "output_type": "error",
     "traceback": [
      "\u001b[1;31m---------------------------------------------------------------------------\u001b[0m",
      "\u001b[1;31mRuntimeError\u001b[0m                              Traceback (most recent call last)",
      "\u001b[1;31mRuntimeError\u001b[0m: module compiled against API version 0xe but this version of numpy is 0xd"
     ]
    },
    {
     "ename": "RuntimeError",
     "evalue": "module compiled against API version 0xe but this version of numpy is 0xd",
     "output_type": "error",
     "traceback": [
      "\u001b[1;31m---------------------------------------------------------------------------\u001b[0m",
      "\u001b[1;31mRuntimeError\u001b[0m                              Traceback (most recent call last)",
      "\u001b[1;31mRuntimeError\u001b[0m: module compiled against API version 0xe but this version of numpy is 0xd"
     ]
    },
    {
     "ename": "RuntimeError",
     "evalue": "module compiled against API version 0xe but this version of numpy is 0xd",
     "output_type": "error",
     "traceback": [
      "\u001b[1;31m---------------------------------------------------------------------------\u001b[0m",
      "\u001b[1;31mRuntimeError\u001b[0m                              Traceback (most recent call last)",
      "\u001b[1;31mRuntimeError\u001b[0m: module compiled against API version 0xe but this version of numpy is 0xd"
     ]
    }
   ],
   "source": [
    "import os\n",
    "import docx\n",
    "import re\n",
    "import pandas as pd \n",
    "import numpy as np\n",
    "\n",
    "\n",
    "\n",
    "import matplotlib.pyplot as plt \n",
    "import seaborn as sns\n",
    "\n",
    "import spacy\n",
    "\n",
    "from sklearn import metrics\n",
    "from sklearn.svm import SVC, LinearSVC, NuSVC\n",
    "from sklearn.preprocessing import LabelEncoder\n",
    "from sklearn.feature_extraction.text import CountVectorizer, TfidfVectorizer\n",
    "from sklearn.model_selection import train_test_split\n",
    "from sklearn.naive_bayes import GaussianNB,MultinomialNB,BernoulliNB\n",
    "from sklearn.linear_model import LogisticRegression\n",
    "from sklearn.metrics import classification_report, confusion_matrix, accuracy_score\n",
    "\n",
    "import nltk\n",
    "from nltk.corpus import stopwords\n",
    "from nltk.stem.porter import PorterStemmer\n",
    "from nltk.stem import WordNetLemmatizer\n",
    "from nltk.stem import SnowballStemmer as snow\n",
    "\n"
   ]
  },
  {
   "cell_type": "markdown",
   "id": "fuzzy-abortion",
   "metadata": {},
   "source": [
    "# Переход в необходимую территорю"
   ]
  },
  {
   "cell_type": "code",
   "execution_count": 125,
   "id": "forbidden-monday",
   "metadata": {},
   "outputs": [],
   "source": [
    "def get_list_doc(folder):\n",
    "    paths = []\n",
    "    for root, dirs, files in os.walk(folder):\n",
    "        for file in files:\n",
    "            if file.endswith('docx') and not file.startswith('~'):\n",
    "                paths.append(os.path.join(file))\n",
    "    return paths"
   ]
  },
  {
   "cell_type": "code",
   "execution_count": 126,
   "id": "convinced-cowboy",
   "metadata": {},
   "outputs": [],
   "source": [
    "path =get_list_doc(r\"C:\\Users\\79219\\Desktop\\digital_xakaton\\document\")"
   ]
  },
  {
   "cell_type": "code",
   "execution_count": 128,
   "id": "express-defendant",
   "metadata": {},
   "outputs": [
    {
     "data": {
      "text/plain": [
       "str"
      ]
     },
     "execution_count": 128,
     "metadata": {},
     "output_type": "execute_result"
    }
   ],
   "source": [
    "type(path[0])"
   ]
  },
  {
   "cell_type": "markdown",
   "id": "specified-oracle",
   "metadata": {},
   "source": [
    "# Последовательно "
   ]
  },
  {
   "cell_type": "code",
   "execution_count": 134,
   "id": "suspected-resistance",
   "metadata": {},
   "outputs": [],
   "source": [
    "def get_all_paragrah_target_test(doc):\n",
    "    str_falsee = \"{\"\n",
    "    dict_target = {}\n",
    "    doc = docx.Document(doc)\n",
    "    print(len(doc.paragraphs))\n",
    "    for paragraph in doc.paragraphs:\n",
    "        if  str_falsee not in  paragraph.text:\n",
    "                dict_target[paragraph.text] = 'nan'\n",
    "        for str_ in range(len(paragraph.text)):\n",
    "            if paragraph.text[str_] == '{':\n",
    "                star_ = str_\n",
    "            if paragraph.text[str_] == '}':\n",
    "                end_ = str_\n",
    "                range_ = end_ - star_\n",
    "                string_text_target = paragraph.text[end_+1:-end_-1]\n",
    "                target = paragraph.text[star_+1:end_]\n",
    "                dict_target[string_text_target] = target\n",
    "                \n",
    "\n",
    "    return dict_target"
   ]
  },
  {
   "cell_type": "code",
   "execution_count": 135,
   "id": "minute-satin",
   "metadata": {},
   "outputs": [
    {
     "data": {
      "text/plain": [
       "'C:\\\\Users\\\\79219\\\\Desktop\\\\digital_xakaton\\\\document\\\\Postanovlenie_Pravitelstva_Rossiyskoy_Federatsii_ot_04_03_2021__314.docx'"
      ]
     },
     "execution_count": 135,
     "metadata": {},
     "output_type": "execute_result"
    }
   ],
   "source": [
    "path_document"
   ]
  },
  {
   "cell_type": "code",
   "execution_count": 136,
   "id": "ideal-cabinet",
   "metadata": {},
   "outputs": [
    {
     "name": "stdout",
     "output_type": "stream",
     "text": [
      "101\n"
     ]
    }
   ],
   "source": [
    "\n",
    "dict_target  = get_all_paragrah_target_test(path_document)"
   ]
  },
  {
   "cell_type": "code",
   "execution_count": 137,
   "id": "graphic-recruitment",
   "metadata": {},
   "outputs": [
    {
     "data": {
      "text/plain": [
       "86"
      ]
     },
     "execution_count": 137,
     "metadata": {},
     "output_type": "execute_result"
    }
   ],
   "source": [
    "len(dict_target)"
   ]
  },
  {
   "cell_type": "code",
   "execution_count": 138,
   "id": "threatened-investigator",
   "metadata": {},
   "outputs": [],
   "source": [
    "df_test = pd.DataFrame(list(dict_target.items()),\n",
    "                   columns=['text', 'target'])"
   ]
  },
  {
   "cell_type": "code",
   "execution_count": 143,
   "id": "changed-zealand",
   "metadata": {},
   "outputs": [
    {
     "data": {
      "text/html": [
       "<div>\n",
       "<style scoped>\n",
       "    .dataframe tbody tr th:only-of-type {\n",
       "        vertical-align: middle;\n",
       "    }\n",
       "\n",
       "    .dataframe tbody tr th {\n",
       "        vertical-align: top;\n",
       "    }\n",
       "\n",
       "    .dataframe thead th {\n",
       "        text-align: right;\n",
       "    }\n",
       "</style>\n",
       "<table border=\"1\" class=\"dataframe\">\n",
       "  <thead>\n",
       "    <tr style=\"text-align: right;\">\n",
       "      <th></th>\n",
       "      <th>text</th>\n",
       "      <th>target</th>\n",
       "    </tr>\n",
       "  </thead>\n",
       "  <tbody>\n",
       "    <tr>\n",
       "      <th>0</th>\n",
       "      <td>Документ предоставлен \\n</td>\n",
       "      <td>nan</td>\n",
       "    </tr>\n",
       "    <tr>\n",
       "      <th>1</th>\n",
       "      <td></td>\n",
       "      <td>nan</td>\n",
       "    </tr>\n",
       "    <tr>\n",
       "      <th>2</th>\n",
       "      <td>ПРАВИТЕЛЬСТВО РОССИЙСКОЙ ФЕДЕРАЦИИ</td>\n",
       "      <td>nan</td>\n",
       "    </tr>\n",
       "    <tr>\n",
       "      <th>3</th>\n",
       "      <td>ПОСТАНОВЛЕНИЕ</td>\n",
       "      <td>nan</td>\n",
       "    </tr>\n",
       "    <tr>\n",
       "      <th>4</th>\n",
       "      <td>от 4 марта 2021 г. N 314</td>\n",
       "      <td>nan</td>\n",
       "    </tr>\n",
       "    <tr>\n",
       "      <th>...</th>\n",
       "      <td>...</td>\n",
       "      <td>...</td>\n",
       "    </tr>\n",
       "    <tr>\n",
       "      <th>81</th>\n",
       "      <td>В случае установления по итогам проверок, про...</td>\n",
       "      <td>38</td>\n",
       "    </tr>\n",
       "    <tr>\n",
       "      <th>82</th>\n",
       "      <td>{38} а также недостижения зна</td>\n",
       "      <td>38</td>\n",
       "    </tr>\n",
       "    <tr>\n",
       "      <th>83</th>\n",
       "      <td>а также недостижения</td>\n",
       "      <td>38</td>\n",
       "    </tr>\n",
       "    <tr>\n",
       "      <th>84</th>\n",
       "      <td>требования Министерства цифрового развития, с...</td>\n",
       "      <td>38</td>\n",
       "    </tr>\n",
       "    <tr>\n",
       "      <th>85</th>\n",
       "      <td>представления и (или) предписания органа госу...</td>\n",
       "      <td>38</td>\n",
       "    </tr>\n",
       "  </tbody>\n",
       "</table>\n",
       "<p>86 rows × 2 columns</p>\n",
       "</div>"
      ],
      "text/plain": [
       "                                                 text target\n",
       "0                            Документ предоставлен \\n    nan\n",
       "1                                                        nan\n",
       "2                  ПРАВИТЕЛЬСТВО РОССИЙСКОЙ ФЕДЕРАЦИИ    nan\n",
       "3                                       ПОСТАНОВЛЕНИЕ    nan\n",
       "4                            от 4 марта 2021 г. N 314    nan\n",
       "..                                                ...    ...\n",
       "81   В случае установления по итогам проверок, про...     38\n",
       "82                      {38} а также недостижения зна     38\n",
       "83                               а также недостижения     38\n",
       "84   требования Министерства цифрового развития, с...     38\n",
       "85   представления и (или) предписания органа госу...     38\n",
       "\n",
       "[86 rows x 2 columns]"
      ]
     },
     "execution_count": 143,
     "metadata": {},
     "output_type": "execute_result"
    }
   ],
   "source": [
    "df_test"
   ]
  },
  {
   "cell_type": "markdown",
   "id": "mysterious-affect",
   "metadata": {},
   "source": [
    "# Словарь по таргетам "
   ]
  },
  {
   "cell_type": "code",
   "execution_count": 18,
   "id": "collected-comparison",
   "metadata": {},
   "outputs": [],
   "source": [
    "def get_all_paragrah_target(list_doc):\n",
    "    str_falsee = \"{\"\n",
    "    dict_non_targe = {}\n",
    "    dict_text_target = {}\n",
    "    count = 0\n",
    "    for doc in list_doc:\n",
    "        print(count+1)\n",
    "        doc = docx.Document(doc)\n",
    "        for paragraph in doc.paragraphs:\n",
    "            if  str_falsee not in  paragraph.text:\n",
    "                    dict_non_targe[paragraph.text] = 'nan'\n",
    "            for str_ in range(len(paragraph.text)):\n",
    "                if paragraph.text[str_] == '{':\n",
    "                    star_ = str_\n",
    "                if paragraph.text[str_] == '}':\n",
    "                    end_ = str_\n",
    "                    range_ = end_ - star_\n",
    "                    string_text_target = paragraph.text[end_+1:-end_-1]\n",
    "                    target = paragraph.text[star_+1:end_]\n",
    "                    dict_text_target[string_text_target] = target\n",
    "                \n",
    "        count +=1\n",
    "\n",
    "\n",
    "    return dict_text_target,dict_non_targe"
   ]
  },
  {
   "cell_type": "code",
   "execution_count": 122,
   "id": "affecting-manhattan",
   "metadata": {},
   "outputs": [
    {
     "name": "stdout",
     "output_type": "stream",
     "text": [
      "C:\\Users\\79219\\Desktop\\digital_xakaton\\document\\Postanovlenie_Pravitelstva_Rossiyskoy_Federatsii_ot_04_03_2021__314.docx\n",
      "CPU times: total: 0 ns\n",
      "Wall time: 0 ns\n"
     ]
    }
   ],
   "source": [
    "%%time\n",
    "print(path_document)\n",
    "dict_text_target,dict_nan_target  = get_all_paragrah_target(path_document)"
   ]
  },
  {
   "cell_type": "code",
   "execution_count": 21,
   "id": "varied-approach",
   "metadata": {},
   "outputs": [
    {
     "name": "stdout",
     "output_type": "stream",
     "text": [
      "5018\n"
     ]
    }
   ],
   "source": [
    "print(len(dict_nan_target))\n"
   ]
  },
  {
   "cell_type": "code",
   "execution_count": 22,
   "id": "interstate-greek",
   "metadata": {},
   "outputs": [
    {
     "name": "stdout",
     "output_type": "stream",
     "text": [
      "16272\n"
     ]
    }
   ],
   "source": [
    "print(len(dict_text_target))"
   ]
  },
  {
   "cell_type": "code",
   "execution_count": 23,
   "id": "equal-force",
   "metadata": {},
   "outputs": [
    {
     "data": {
      "text/plain": [
       "21290"
      ]
     },
     "execution_count": 23,
     "metadata": {},
     "output_type": "execute_result"
    }
   ],
   "source": [
    "len(dict_nan_target) + len(dict_text_target)"
   ]
  },
  {
   "cell_type": "markdown",
   "id": "shaped-february",
   "metadata": {},
   "source": [
    "# Создание Df"
   ]
  },
  {
   "cell_type": "code",
   "execution_count": 24,
   "id": "annual-universal",
   "metadata": {},
   "outputs": [],
   "source": [
    "df_target = pd.DataFrame(list(dict_text_target.items()),\n",
    "                   columns=['text', 'target'])"
   ]
  },
  {
   "cell_type": "code",
   "execution_count": 25,
   "id": "voluntary-wholesale",
   "metadata": {},
   "outputs": [
    {
     "data": {
      "text/html": [
       "<div>\n",
       "<style scoped>\n",
       "    .dataframe tbody tr th:only-of-type {\n",
       "        vertical-align: middle;\n",
       "    }\n",
       "\n",
       "    .dataframe tbody tr th {\n",
       "        vertical-align: top;\n",
       "    }\n",
       "\n",
       "    .dataframe thead th {\n",
       "        text-align: right;\n",
       "    }\n",
       "</style>\n",
       "<table border=\"1\" class=\"dataframe\">\n",
       "  <thead>\n",
       "    <tr style=\"text-align: right;\">\n",
       "      <th></th>\n",
       "      <th>text</th>\n",
       "      <th>target</th>\n",
       "    </tr>\n",
       "  </thead>\n",
       "  <tbody>\n",
       "    <tr>\n",
       "      <th>0</th>\n",
       "      <td>Настоящие Правила устанавливают цели, условия ...</td>\n",
       "      <td>2</td>\n",
       "    </tr>\n",
       "    <tr>\n",
       "      <th>1</th>\n",
       "      <td></td>\n",
       "      <td>18</td>\n",
       "    </tr>\n",
       "    <tr>\n",
       "      <th>2</th>\n",
       "      <td>Сведения о субсидии размещаются на едином порт...</td>\n",
       "      <td>7</td>\n",
       "    </tr>\n",
       "    <tr>\n",
       "      <th>3</th>\n",
       "      <td>Понятия, используемые в настоящих Правилах, оз...</td>\n",
       "      <td>1</td>\n",
       "    </tr>\n",
       "    <tr>\n",
       "      <th>4</th>\n",
       "      <td>\"вознаграждение\" - процентные отчисления, выпл...</td>\n",
       "      <td>1</td>\n",
       "    </tr>\n",
       "    <tr>\n",
       "      <th>...</th>\n",
       "      <td>...</td>\n",
       "      <td>...</td>\n",
       "    </tr>\n",
       "    <tr>\n",
       "      <th>16267</th>\n",
       "      <td>Ответственность за нарушение условий, цели и п...</td>\n",
       "      <td>38</td>\n",
       "    </tr>\n",
       "    <tr>\n",
       "      <th>16268</th>\n",
       "      <td>возврат средств субсидии в федеральный бюджет ...</td>\n",
       "      <td>38</td>\n",
       "    </tr>\n",
       "    <tr>\n",
       "      <th>16269</th>\n",
       "      <td>штрафные санкции, рассчитываемые в соответстви...</td>\n",
       "      <td>38</td>\n",
       "    </tr>\n",
       "    <tr>\n",
       "      <th>16270</th>\n",
       "      <td>В случае если требование, указанное в  настоящ...</td>\n",
       "      <td>38</td>\n",
       "    </tr>\n",
       "    <tr>\n",
       "      <th>16271</th>\n",
       "      <td>на основании требования Министерства экономиче...</td>\n",
       "      <td>18</td>\n",
       "    </tr>\n",
       "  </tbody>\n",
       "</table>\n",
       "<p>16272 rows × 2 columns</p>\n",
       "</div>"
      ],
      "text/plain": [
       "                                                    text target\n",
       "0      Настоящие Правила устанавливают цели, условия ...      2\n",
       "1                                                            18\n",
       "2      Сведения о субсидии размещаются на едином порт...      7\n",
       "3      Понятия, используемые в настоящих Правилах, оз...      1\n",
       "4      \"вознаграждение\" - процентные отчисления, выпл...      1\n",
       "...                                                  ...    ...\n",
       "16267  Ответственность за нарушение условий, цели и п...     38\n",
       "16268  возврат средств субсидии в федеральный бюджет ...     38\n",
       "16269  штрафные санкции, рассчитываемые в соответстви...     38\n",
       "16270  В случае если требование, указанное в  настоящ...     38\n",
       "16271  на основании требования Министерства экономиче...     18\n",
       "\n",
       "[16272 rows x 2 columns]"
      ]
     },
     "execution_count": 25,
     "metadata": {},
     "output_type": "execute_result"
    }
   ],
   "source": [
    "df_target"
   ]
  },
  {
   "cell_type": "code",
   "execution_count": 26,
   "id": "choice-raleigh",
   "metadata": {},
   "outputs": [],
   "source": [
    "raw = df_target[df_target['target'] == '']"
   ]
  },
  {
   "cell_type": "code",
   "execution_count": 27,
   "id": "solid-geneva",
   "metadata": {},
   "outputs": [
    {
     "data": {
      "text/plain": [
       "Int64Index([11379], dtype='int64')"
      ]
     },
     "execution_count": 27,
     "metadata": {},
     "output_type": "execute_result"
    }
   ],
   "source": [
    "raw.index"
   ]
  },
  {
   "cell_type": "code",
   "execution_count": 28,
   "id": "therapeutic-numbers",
   "metadata": {},
   "outputs": [],
   "source": [
    "df_target.drop(labels = [11379],axis = 0, inplace = True)"
   ]
  },
  {
   "cell_type": "code",
   "execution_count": 29,
   "id": "sorted-cross",
   "metadata": {},
   "outputs": [],
   "source": [
    "df_non_target = pd.DataFrame(list(dict_nan_target.items()),\n",
    "                   columns=['text', 'target'])"
   ]
  },
  {
   "cell_type": "code",
   "execution_count": 30,
   "id": "later-membrane",
   "metadata": {},
   "outputs": [
    {
     "data": {
      "text/plain": [
       "nan    5018\n",
       "Name: target, dtype: int64"
      ]
     },
     "execution_count": 30,
     "metadata": {},
     "output_type": "execute_result"
    }
   ],
   "source": [
    "df_non_target.target.value_counts()"
   ]
  },
  {
   "cell_type": "markdown",
   "id": "fewer-canyon",
   "metadata": {},
   "source": [
    "# Слияние Df"
   ]
  },
  {
   "cell_type": "code",
   "execution_count": 31,
   "id": "impossible-management",
   "metadata": {},
   "outputs": [
    {
     "name": "stderr",
     "output_type": "stream",
     "text": [
      "<ipython-input-31-ca48f2f8f6ec>:1: FutureWarning: The frame.append method is deprecated and will be removed from pandas in a future version. Use pandas.concat instead.\n",
      "  df_append = df_non_target.append(df_target, ignore_index=True)\n"
     ]
    }
   ],
   "source": [
    "df_append = df_non_target.append(df_target, ignore_index=True)"
   ]
  },
  {
   "cell_type": "code",
   "execution_count": 34,
   "id": "boolean-rebate",
   "metadata": {},
   "outputs": [],
   "source": [
    "df_append = df_append.sample(frac=1)"
   ]
  },
  {
   "cell_type": "code",
   "execution_count": 35,
   "id": "contrary-gallery",
   "metadata": {},
   "outputs": [
    {
     "data": {
      "text/html": [
       "<div>\n",
       "<style scoped>\n",
       "    .dataframe tbody tr th:only-of-type {\n",
       "        vertical-align: middle;\n",
       "    }\n",
       "\n",
       "    .dataframe tbody tr th {\n",
       "        vertical-align: top;\n",
       "    }\n",
       "\n",
       "    .dataframe thead th {\n",
       "        text-align: right;\n",
       "    }\n",
       "</style>\n",
       "<table border=\"1\" class=\"dataframe\">\n",
       "  <thead>\n",
       "    <tr style=\"text-align: right;\">\n",
       "      <th></th>\n",
       "      <th>text</th>\n",
       "      <th>target</th>\n",
       "    </tr>\n",
       "  </thead>\n",
       "  <tbody>\n",
       "    <tr>\n",
       "      <th>16150</th>\n",
       "      <td>в целях реализации соци</td>\n",
       "      <td>2</td>\n",
       "    </tr>\n",
       "    <tr>\n",
       "      <th>20773</th>\n",
       "      <td>{38}на основании требования Министерства эконо...</td>\n",
       "      <td>38</td>\n",
       "    </tr>\n",
       "    <tr>\n",
       "      <th>16530</th>\n",
       "      <td>Организация в 5-дневный срок со дня получения ...</td>\n",
       "      <td>36</td>\n",
       "    </tr>\n",
       "    <tr>\n",
       "      <th>9982</th>\n",
       "      <td>{38} Министерство цифрового развития, связи и...</td>\n",
       "      <td>38</td>\n",
       "    </tr>\n",
       "    <tr>\n",
       "      <th>790</th>\n",
       "      <td>некоммерческой организации</td>\n",
       "      <td>nan</td>\n",
       "    </tr>\n",
       "    <tr>\n",
       "      <th>...</th>\n",
       "      <td>...</td>\n",
       "      <td>...</td>\n",
       "    </tr>\n",
       "    <tr>\n",
       "      <th>20814</th>\n",
       "      <td>описание проекта, содержащее в том числе сведе...</td>\n",
       "      <td>19</td>\n",
       "    </tr>\n",
       "    <tr>\n",
       "      <th>21092</th>\n",
       "      <td>значения результата предоставления субсидии, с...</td>\n",
       "      <td>27</td>\n",
       "    </tr>\n",
       "    <tr>\n",
       "      <th>14065</th>\n",
       "      <td>специальный тариф применяется для расчета стои...</td>\n",
       "      <td>35</td>\n",
       "    </tr>\n",
       "    <tr>\n",
       "      <th>18675</th>\n",
       "      <td>Управляющая компания при заключении договоров,...</td>\n",
       "      <td>22</td>\n",
       "    </tr>\n",
       "    <tr>\n",
       "      <th>7387</th>\n",
       "      <td>Российская авиакомпания, заключившая соглашени...</td>\n",
       "      <td>36</td>\n",
       "    </tr>\n",
       "  </tbody>\n",
       "</table>\n",
       "<p>21289 rows × 2 columns</p>\n",
       "</div>"
      ],
      "text/plain": [
       "                                                    text target\n",
       "16150                            в целях реализации соци      2\n",
       "20773  {38}на основании требования Министерства эконо...     38\n",
       "16530  Организация в 5-дневный срок со дня получения ...     36\n",
       "9982    {38} Министерство цифрового развития, связи и...     38\n",
       "790                           некоммерческой организации    nan\n",
       "...                                                  ...    ...\n",
       "20814  описание проекта, содержащее в том числе сведе...     19\n",
       "21092  значения результата предоставления субсидии, с...     27\n",
       "14065  специальный тариф применяется для расчета стои...     35\n",
       "18675  Управляющая компания при заключении договоров,...     22\n",
       "7387   Российская авиакомпания, заключившая соглашени...     36\n",
       "\n",
       "[21289 rows x 2 columns]"
      ]
     },
     "execution_count": 35,
     "metadata": {},
     "output_type": "execute_result"
    }
   ],
   "source": [
    "df_append"
   ]
  },
  {
   "cell_type": "code",
   "execution_count": 22,
   "id": "drawn-damage",
   "metadata": {},
   "outputs": [
    {
     "data": {
      "text/plain": [
       "21289"
      ]
     },
     "execution_count": 22,
     "metadata": {},
     "output_type": "execute_result"
    }
   ],
   "source": [
    "df_append['target'].value_counts()[:].sum()"
   ]
  },
  {
   "cell_type": "markdown",
   "id": "perfect-declaration",
   "metadata": {},
   "source": [
    "# Сохранение Df"
   ]
  },
  {
   "cell_type": "code",
   "execution_count": 6,
   "id": "plastic-preservation",
   "metadata": {},
   "outputs": [
    {
     "ename": "NameError",
     "evalue": "name 'df_append' is not defined",
     "output_type": "error",
     "traceback": [
      "\u001b[1;31m---------------------------------------------------------------------------\u001b[0m",
      "\u001b[1;31mNameError\u001b[0m                                 Traceback (most recent call last)",
      "Input \u001b[1;32mIn [6]\u001b[0m, in \u001b[0;36m<cell line: 1>\u001b[1;34m()\u001b[0m\n\u001b[1;32m----> 1\u001b[0m \u001b[43mdf_append\u001b[49m\u001b[38;5;241m.\u001b[39mto_csv(\u001b[38;5;124mr\u001b[39m\u001b[38;5;124m'\u001b[39m\u001b[38;5;124mC:\u001b[39m\u001b[38;5;124m\\\u001b[39m\u001b[38;5;124mUsers\u001b[39m\u001b[38;5;124m\\\u001b[39m\u001b[38;5;124m79219\u001b[39m\u001b[38;5;124m\\\u001b[39m\u001b[38;5;124mDesktop\u001b[39m\u001b[38;5;124m\\\u001b[39m\u001b[38;5;124mdigital_xakaton\u001b[39m\u001b[38;5;124m\\\u001b[39m\u001b[38;5;124mdata.csv\u001b[39m\u001b[38;5;124m'\u001b[39m, index\u001b[38;5;241m=\u001b[39m\u001b[38;5;28;01mFalse\u001b[39;00m)\n",
      "\u001b[1;31mNameError\u001b[0m: name 'df_append' is not defined"
     ]
    }
   ],
   "source": [
    "df_append.to_csv(r'C:\\Users\\79219\\Desktop\\digital_xakaton\\data.csv', index=False)"
   ]
  },
  {
   "cell_type": "code",
   "execution_count": 7,
   "id": "absent-ordering",
   "metadata": {},
   "outputs": [],
   "source": [
    "df_test = pd.read_csv(r'C:\\Users\\79219\\Desktop\\digital_xakaton\\data.csv')"
   ]
  },
  {
   "cell_type": "code",
   "execution_count": 8,
   "id": "humanitarian-carolina",
   "metadata": {},
   "outputs": [
    {
     "data": {
      "text/html": [
       "<div>\n",
       "<style scoped>\n",
       "    .dataframe tbody tr th:only-of-type {\n",
       "        vertical-align: middle;\n",
       "    }\n",
       "\n",
       "    .dataframe tbody tr th {\n",
       "        vertical-align: top;\n",
       "    }\n",
       "\n",
       "    .dataframe thead th {\n",
       "        text-align: right;\n",
       "    }\n",
       "</style>\n",
       "<table border=\"1\" class=\"dataframe\">\n",
       "  <thead>\n",
       "    <tr style=\"text-align: right;\">\n",
       "      <th></th>\n",
       "      <th>text</th>\n",
       "      <th>target</th>\n",
       "    </tr>\n",
       "  </thead>\n",
       "  <tbody>\n",
       "    <tr>\n",
       "      <th>0</th>\n",
       "      <td>Отчетность об осуществлении расходов, источни...</td>\n",
       "      <td>36</td>\n",
       "    </tr>\n",
       "    <tr>\n",
       "      <th>1</th>\n",
       "      <td>кредитный договор (соглашение) предусматривае...</td>\n",
       "      <td>24</td>\n",
       "    </tr>\n",
       "    <tr>\n",
       "      <th>2</th>\n",
       "      <td>Отчетность, указанная в  и  настоящих Правил, ...</td>\n",
       "      <td>36</td>\n",
       "    </tr>\n",
       "    <tr>\n",
       "      <th>3</th>\n",
       "      <td>Основаниями для отклонения Министерством экон...</td>\n",
       "      <td>17</td>\n",
       "    </tr>\n",
       "    <tr>\n",
       "      <th>4</th>\n",
       "      <td>В случае если значение выражения  более 1, его...</td>\n",
       "      <td>22</td>\n",
       "    </tr>\n",
       "    <tr>\n",
       "      <th>...</th>\n",
       "      <td>...</td>\n",
       "      <td>...</td>\n",
       "    </tr>\n",
       "    <tr>\n",
       "      <th>21284</th>\n",
       "      <td>информация, содержащаяся в документах, указанн...</td>\n",
       "      <td>17</td>\n",
       "    </tr>\n",
       "    <tr>\n",
       "      <th>21285</th>\n",
       "      <td>значения результата предоставления субсидии, ...</td>\n",
       "      <td>24</td>\n",
       "    </tr>\n",
       "    <tr>\n",
       "      <th>21286</th>\n",
       "      <td>значение результатов предоставления субсидии,...</td>\n",
       "      <td>27</td>\n",
       "    </tr>\n",
       "    <tr>\n",
       "      <th>21287</th>\n",
       "      <td>обязанность организации направлять сведения о ...</td>\n",
       "      <td>24</td>\n",
       "    </tr>\n",
       "    <tr>\n",
       "      <th>21288</th>\n",
       "      <td>организации выявления и сопровождения дальнейш...</td>\n",
       "      <td>2</td>\n",
       "    </tr>\n",
       "  </tbody>\n",
       "</table>\n",
       "<p>21289 rows × 2 columns</p>\n",
       "</div>"
      ],
      "text/plain": [
       "                                                    text target\n",
       "0       Отчетность об осуществлении расходов, источни...     36\n",
       "1       кредитный договор (соглашение) предусматривае...     24\n",
       "2      Отчетность, указанная в  и  настоящих Правил, ...     36\n",
       "3       Основаниями для отклонения Министерством экон...     17\n",
       "4      В случае если значение выражения  более 1, его...     22\n",
       "...                                                  ...    ...\n",
       "21284  информация, содержащаяся в документах, указанн...     17\n",
       "21285   значения результата предоставления субсидии, ...     24\n",
       "21286   значение результатов предоставления субсидии,...     27\n",
       "21287  обязанность организации направлять сведения о ...     24\n",
       "21288  организации выявления и сопровождения дальнейш...      2\n",
       "\n",
       "[21289 rows x 2 columns]"
      ]
     },
     "execution_count": 8,
     "metadata": {},
     "output_type": "execute_result"
    }
   ],
   "source": [
    "df_test"
   ]
  },
  {
   "cell_type": "markdown",
   "id": "closing-duplicate",
   "metadata": {},
   "source": [
    "# Анализ Df "
   ]
  },
  {
   "cell_type": "code",
   "execution_count": 50,
   "id": "overhead-titanium",
   "metadata": {},
   "outputs": [],
   "source": [
    "df_append = df_test.copy()"
   ]
  },
  {
   "cell_type": "code",
   "execution_count": 51,
   "id": "collective-belize",
   "metadata": {},
   "outputs": [
    {
     "data": {
      "image/png": "[encoded data removed]",
      "text/plain": [
       "<Figure size 640x480 with 1 Axes>"
      ]
     },
     "metadata": {},
     "output_type": "display_data"
    }
   ],
   "source": [
    "data = df_append.target.value_counts()\n",
    "list_x = data.index\n",
    "list_y = data.values\n",
    "plt.bar(list_x[:15],list_y[:15])\n",
    "plt.show()\n"
   ]
  },
  {
   "cell_type": "code",
   "execution_count": 52,
   "id": "abstract-privacy",
   "metadata": {
    "scrolled": true
   },
   "outputs": [
    {
     "data": {
      "text/plain": [
       "array(['36', '24', '17', '22', '1', 'non', '30', '32', '2', '10', '11',\n",
       "       '20', '38', '35', '19', '21', '13', '27', '15', '8', '18', '7',\n",
       "       '16', '3', '12', '4', '31', '37', '5', '6', '25', '26', '9', '29',\n",
       "       '14', '28', '34', '39', '33', '23'], dtype=object)"
      ]
     },
     "execution_count": 52,
     "metadata": {},
     "output_type": "execute_result"
    }
   ],
   "source": [
    "df_append['target'].unique()\n"
   ]
  },
  {
   "cell_type": "code",
   "execution_count": 53,
   "id": "threaded-affiliate",
   "metadata": {
    "scrolled": false
   },
   "outputs": [
    {
     "data": {
      "text/plain": [
       "array([5018, 1432, 1266, 1183, 1056,  942,  927,  909,  880,  740,  656,\n",
       "        645,  602,  556,  523,  438,  329,  312,  291,  263,  233,  227,\n",
       "        209,  202,  175,  151,  144,  114,  109,  105,  102,   95,   85,\n",
       "         80,   72,   62,   46,   41,   38,   31], dtype=int64)"
      ]
     },
     "execution_count": 53,
     "metadata": {},
     "output_type": "execute_result"
    }
   ],
   "source": [
    "x = df_append.target.value_counts()\n",
    "x.values"
   ]
  },
  {
   "cell_type": "code",
   "execution_count": 54,
   "id": "refined-pressure",
   "metadata": {},
   "outputs": [
    {
     "data": {
      "text/plain": [
       "40"
      ]
     },
     "execution_count": 54,
     "metadata": {},
     "output_type": "execute_result"
    }
   ],
   "source": [
    "len(df_append.target.unique())"
   ]
  },
  {
   "cell_type": "code",
   "execution_count": 55,
   "id": "compressed-alloy",
   "metadata": {},
   "outputs": [
    {
     "data": {
      "text/plain": [
       "text      2\n",
       "target    0\n",
       "dtype: int64"
      ]
     },
     "execution_count": 55,
     "metadata": {},
     "output_type": "execute_result"
    }
   ],
   "source": [
    "df_append.isnull().sum()"
   ]
  },
  {
   "cell_type": "code",
   "execution_count": null,
   "id": "processed-crash",
   "metadata": {},
   "outputs": [],
   "source": []
  },
  {
   "cell_type": "code",
   "execution_count": 56,
   "id": "arranged-translator",
   "metadata": {
    "scrolled": true
   },
   "outputs": [
    {
     "data": {
      "text/html": [
       "<div>\n",
       "<style scoped>\n",
       "    .dataframe tbody tr th:only-of-type {\n",
       "        vertical-align: middle;\n",
       "    }\n",
       "\n",
       "    .dataframe tbody tr th {\n",
       "        vertical-align: top;\n",
       "    }\n",
       "\n",
       "    .dataframe thead th {\n",
       "        text-align: right;\n",
       "    }\n",
       "</style>\n",
       "<table border=\"1\" class=\"dataframe\">\n",
       "  <thead>\n",
       "    <tr style=\"text-align: right;\">\n",
       "      <th></th>\n",
       "      <th>text</th>\n",
       "      <th>target</th>\n",
       "    </tr>\n",
       "  </thead>\n",
       "  <tbody>\n",
       "    <tr>\n",
       "      <th>0</th>\n",
       "      <td>Отчетность об осуществлении расходов, источни...</td>\n",
       "      <td>36</td>\n",
       "    </tr>\n",
       "    <tr>\n",
       "      <th>1</th>\n",
       "      <td>кредитный договор (соглашение) предусматривае...</td>\n",
       "      <td>24</td>\n",
       "    </tr>\n",
       "    <tr>\n",
       "      <th>2</th>\n",
       "      <td>Отчетность, указанная в  и  настоящих Правил, ...</td>\n",
       "      <td>36</td>\n",
       "    </tr>\n",
       "    <tr>\n",
       "      <th>3</th>\n",
       "      <td>Основаниями для отклонения Министерством экон...</td>\n",
       "      <td>17</td>\n",
       "    </tr>\n",
       "    <tr>\n",
       "      <th>4</th>\n",
       "      <td>В случае если значение выражения  более 1, его...</td>\n",
       "      <td>22</td>\n",
       "    </tr>\n",
       "    <tr>\n",
       "      <th>...</th>\n",
       "      <td>...</td>\n",
       "      <td>...</td>\n",
       "    </tr>\n",
       "    <tr>\n",
       "      <th>21284</th>\n",
       "      <td>информация, содержащаяся в документах, указанн...</td>\n",
       "      <td>17</td>\n",
       "    </tr>\n",
       "    <tr>\n",
       "      <th>21285</th>\n",
       "      <td>значения результата предоставления субсидии, ...</td>\n",
       "      <td>24</td>\n",
       "    </tr>\n",
       "    <tr>\n",
       "      <th>21286</th>\n",
       "      <td>значение результатов предоставления субсидии,...</td>\n",
       "      <td>27</td>\n",
       "    </tr>\n",
       "    <tr>\n",
       "      <th>21287</th>\n",
       "      <td>обязанность организации направлять сведения о ...</td>\n",
       "      <td>24</td>\n",
       "    </tr>\n",
       "    <tr>\n",
       "      <th>21288</th>\n",
       "      <td>организации выявления и сопровождения дальнейш...</td>\n",
       "      <td>2</td>\n",
       "    </tr>\n",
       "  </tbody>\n",
       "</table>\n",
       "<p>21289 rows × 2 columns</p>\n",
       "</div>"
      ],
      "text/plain": [
       "                                                    text target\n",
       "0       Отчетность об осуществлении расходов, источни...     36\n",
       "1       кредитный договор (соглашение) предусматривае...     24\n",
       "2      Отчетность, указанная в  и  настоящих Правил, ...     36\n",
       "3       Основаниями для отклонения Министерством экон...     17\n",
       "4      В случае если значение выражения  более 1, его...     22\n",
       "...                                                  ...    ...\n",
       "21284  информация, содержащаяся в документах, указанн...     17\n",
       "21285   значения результата предоставления субсидии, ...     24\n",
       "21286   значение результатов предоставления субсидии,...     27\n",
       "21287  обязанность организации направлять сведения о ...     24\n",
       "21288  организации выявления и сопровождения дальнейш...      2\n",
       "\n",
       "[21289 rows x 2 columns]"
      ]
     },
     "execution_count": 56,
     "metadata": {},
     "output_type": "execute_result"
    }
   ],
   "source": [
    "df_append.fillna(0)"
   ]
  },
  {
   "cell_type": "code",
   "execution_count": 57,
   "id": "composed-vanilla",
   "metadata": {},
   "outputs": [
    {
     "data": {
      "text/plain": [
       "text      2\n",
       "target    0\n",
       "dtype: int64"
      ]
     },
     "execution_count": 57,
     "metadata": {},
     "output_type": "execute_result"
    }
   ],
   "source": [
    "df_append.isnull().sum()"
   ]
  },
  {
   "cell_type": "code",
   "execution_count": 58,
   "id": "fifth-preview",
   "metadata": {
    "scrolled": true
   },
   "outputs": [
    {
     "data": {
      "text/plain": [
       "24"
      ]
     },
     "execution_count": 58,
     "metadata": {},
     "output_type": "execute_result"
    }
   ],
   "source": [
    "df_append.text.duplicated().sum()"
   ]
  },
  {
   "cell_type": "markdown",
   "id": "affiliated-academy",
   "metadata": {},
   "source": [
    "# Функции для предобработки "
   ]
  },
  {
   "cell_type": "code",
   "execution_count": 59,
   "id": "brief-custom",
   "metadata": {},
   "outputs": [],
   "source": [
    "stop_words = set(stopwords.words('russian'))\n",
    "nlp = spacy.load('ru_core_news_lg')\n",
    "stemmer = snow('russian')\n",
    "text_cleaning_re = \"[A-Za-z0-9!#$%&'()*+,./:;<=>?@[\\]^_`{|}~—\\\"\\-]+\"\n"
   ]
  },
  {
   "cell_type": "code",
   "execution_count": 60,
   "id": "sticky-mozambique",
   "metadata": {},
   "outputs": [],
   "source": [
    "def clear_text(text):\n",
    "    tokens = []\n",
    "    text = re.sub(text_cleaning_re, ' ', str(text).lower()).strip()\n",
    "    text = re.sub(r'\\s+', ' ', text)\n",
    "    for token in text.split():\n",
    "        if token not in stop_words:\n",
    "            token = \"\".join(c for c in token if token.isalnum())\n",
    "            if len(token) != 2:\n",
    "                tokens.append(token)\n",
    "    return \" \".join(tokens)\n",
    "\n",
    "def pre_process(text):\n",
    "    tokens = []\n",
    "    for token in text.split():\n",
    "        tokens.append(stemmer.stem(token))\n",
    "    return \" \".join(tokens)\n",
    "\n",
    "\n",
    "def lemm_text_test(doc):\n",
    "    tokens = []\n",
    "    sentense = nlp(doc)\n",
    "    for token in sentense:\n",
    "        tokens.append(token.lemma_)\n",
    "        \n",
    "    return \" \".join(tokens)"
   ]
  },
  {
   "cell_type": "code",
   "execution_count": 61,
   "id": "polish-poster",
   "metadata": {},
   "outputs": [
    {
     "name": "stdout",
     "output_type": "stream",
     "text": [
      "CPU times: total: 1.94 s\n",
      "Wall time: 1.93 s\n"
     ]
    }
   ],
   "source": [
    "%%time\n",
    "texts_ = df_append.text.apply(lambda x: clear_text(x))"
   ]
  },
  {
   "cell_type": "code",
   "execution_count": 62,
   "id": "cleared-vault",
   "metadata": {},
   "outputs": [
    {
     "name": "stdout",
     "output_type": "stream",
     "text": [
      "CPU times: total: 20.2 s\n",
      "Wall time: 20.2 s\n"
     ]
    }
   ],
   "source": [
    "%%time\n",
    "texts_stemm = texts_.apply(lambda x: pre_process(x))"
   ]
  },
  {
   "cell_type": "markdown",
   "id": "comparative-omega",
   "metadata": {},
   "source": [
    "# TFiDF"
   ]
  },
  {
   "cell_type": "code",
   "execution_count": 63,
   "id": "residential-geometry",
   "metadata": {},
   "outputs": [],
   "source": [
    "tfidf=TfidfVectorizer(max_features=2400,ngram_range=(1,3),min_df=5,\n",
    "                      stop_words=stop_words)"
   ]
  },
  {
   "cell_type": "markdown",
   "id": "prospective-laugh",
   "metadata": {},
   "source": [
    "# Создание X , Y"
   ]
  },
  {
   "cell_type": "code",
   "execution_count": 64,
   "id": "earned-david",
   "metadata": {},
   "outputs": [],
   "source": [
    "X = texts_stemm\n",
    "y = df_append.target.values"
   ]
  },
  {
   "cell_type": "code",
   "execution_count": 65,
   "id": "arabic-answer",
   "metadata": {},
   "outputs": [
    {
     "data": {
      "text/plain": [
       "['отчетн осуществлен расход источник финансов обеспечен котор явля субсид состоян е числ месяц след отчетн период представля организац министерств цифров развит связ массов коммуникац российск федерац ежеквартальн поздн числ месяц след отчетн квартал ежегодн поздн числ месяц след отчетн период соответств соглашен',\n",
       " 'кредитн договор соглашен предусматрива получен заемщик кредит льготн процентн ставк рассчита размер разниц процентн ставк кредитн договор учет субсидирован ставк субсидирован']"
      ]
     },
     "execution_count": 65,
     "metadata": {},
     "output_type": "execute_result"
    }
   ],
   "source": [
    "X[:2].values.tolist()"
   ]
  },
  {
   "cell_type": "code",
   "execution_count": 66,
   "id": "separated-japan",
   "metadata": {
    "scrolled": true
   },
   "outputs": [
    {
     "data": {
      "text/plain": [
       "(21289,)"
      ]
     },
     "execution_count": 66,
     "metadata": {},
     "output_type": "execute_result"
    }
   ],
   "source": [
    "X.shape"
   ]
  },
  {
   "cell_type": "code",
   "execution_count": 67,
   "id": "blocked-pencil",
   "metadata": {},
   "outputs": [
    {
     "data": {
      "text/plain": [
       "(21289,)"
      ]
     },
     "execution_count": 67,
     "metadata": {},
     "output_type": "execute_result"
    }
   ],
   "source": [
    "y.shape"
   ]
  },
  {
   "cell_type": "code",
   "execution_count": 68,
   "id": "stainless-witness",
   "metadata": {},
   "outputs": [],
   "source": [
    "X_test = tfidf.fit_transform(X)"
   ]
  },
  {
   "cell_type": "markdown",
   "id": "valid-illinois",
   "metadata": {},
   "source": [
    "# разделение выборки"
   ]
  },
  {
   "cell_type": "code",
   "execution_count": 69,
   "id": "pressing-status",
   "metadata": {},
   "outputs": [],
   "source": [
    "X_train,X_test,y_train,y_test=train_test_split(X,y,test_size=0.35,random_state=56)"
   ]
  },
  {
   "cell_type": "code",
   "execution_count": 70,
   "id": "vulnerable-mobility",
   "metadata": {},
   "outputs": [],
   "source": [
    "X_train_vector = tfidf.fit_transform(X_train)\n",
    "X_test_vector = tfidf.transform(X_test)"
   ]
  },
  {
   "cell_type": "markdown",
   "id": "korean-metabolism",
   "metadata": {},
   "source": [
    "# Первая модель ML"
   ]
  },
  {
   "cell_type": "code",
   "execution_count": 71,
   "id": "unknown-ensemble",
   "metadata": {},
   "outputs": [],
   "source": [
    "LR = LogisticRegression( random_state=64, solver='lbfgs',\n",
    "                        max_iter=10000, n_jobs=-1)\n"
   ]
  },
  {
   "cell_type": "code",
   "execution_count": 72,
   "id": "proud-catholic",
   "metadata": {},
   "outputs": [],
   "source": [
    "bb=BernoulliNB(alpha=0.5)\n"
   ]
  },
  {
   "cell_type": "code",
   "execution_count": 93,
   "id": "familiar-effect",
   "metadata": {},
   "outputs": [],
   "source": [
    "def train(model):\n",
    "    model.fit(X_train_vector,y_train)\n",
    "    y_predict=model.predict(X_test_vector)\n",
    "    model_info = model\n",
    "    report = classification_report(y_test,y_predict,output_dict=True)\n",
    "    print(model)\n",
    "    print(confusion_matrix(y_test,y_predict))\n",
    "    print(classification_report(y_test,y_predict))\n",
    "    print(accuracy_score(y_test,y_predict))\n",
    "    return model_info, report"
   ]
  },
  {
   "cell_type": "code",
   "execution_count": 101,
   "id": "fundamental-section",
   "metadata": {
    "scrolled": true
   },
   "outputs": [
    {
     "name": "stdout",
     "output_type": "stream",
     "text": [
      "BernoulliNB(alpha=0.5)\n",
      "[[ 102    2    0 ...    0    0   62]\n",
      " [   2  211    4 ...    1    1   37]\n",
      " [  31    4  246 ...    0    0   60]\n",
      " ...\n",
      " [   1    2    0 ...    5    1    4]\n",
      " [   0    3    0 ...    1    0    3]\n",
      " [  41   15    7 ...    3    0 1428]]\n",
      "              precision    recall  f1-score   support\n",
      "\n",
      "           1       0.30      0.44      0.36       231\n",
      "          10       0.63      0.58      0.60       365\n",
      "          11       0.73      0.55      0.63       446\n",
      "          12       0.25      0.09      0.13       164\n",
      "          13       0.25      0.20      0.22        89\n",
      "          14       0.00      0.00      0.00        22\n",
      "          15       0.32      0.30      0.31       253\n",
      "          16       0.29      0.38      0.33        76\n",
      "          17       0.33      0.56      0.41       100\n",
      "          18       0.30      0.50      0.38        38\n",
      "          19       0.69      0.33      0.45       403\n",
      "           2       0.47      0.41      0.44       219\n",
      "          20       0.28      0.46      0.35       124\n",
      "          21       0.66      0.65      0.66       198\n",
      "          22       0.39      0.49      0.44       295\n",
      "          23       0.50      0.17      0.26        23\n",
      "          24       0.55      0.17      0.26       509\n",
      "          25       0.45      0.74      0.56        34\n",
      "          26       0.60      0.20      0.30        45\n",
      "          27       0.43      0.55      0.49       321\n",
      "          28       0.20      0.15      0.17        46\n",
      "          29       0.83      0.64      0.72        55\n",
      "           3       0.31      0.46      0.37        79\n",
      "          30       0.37      0.65      0.47       198\n",
      "          31       0.75      0.80      0.77        30\n",
      "          32       0.48      0.69      0.57        36\n",
      "          33       0.18      0.17      0.17        18\n",
      "          34       0.33      0.09      0.14        11\n",
      "          35       0.28      0.14      0.18       312\n",
      "          36       0.59      0.64      0.61       187\n",
      "          37       0.63      0.72      0.67        97\n",
      "          38       0.74      0.59      0.65       343\n",
      "          39       0.43      0.21      0.29        28\n",
      "           4       0.37      0.15      0.21       107\n",
      "           5       0.14      0.04      0.06        25\n",
      "           6       0.11      0.03      0.05        69\n",
      "           7       0.62      0.44      0.52        77\n",
      "           8       0.21      0.20      0.20        25\n",
      "           9       0.00      0.00      0.00        13\n",
      "         non       0.60      0.82      0.69      1741\n",
      "\n",
      "    accuracy                           0.51      7452\n",
      "   macro avg       0.42      0.39      0.38      7452\n",
      "weighted avg       0.52      0.51      0.49      7452\n",
      "\n",
      "0.511808910359635\n",
      "CPU times: total: 250 ms\n",
      "Wall time: 256 ms\n"
     ]
    },
    {
     "name": "stderr",
     "output_type": "stream",
     "text": [
      "C:\\Prog\\lib\\site-packages\\sklearn\\metrics\\_classification.py:1248: UndefinedMetricWarning: Precision and F-score are ill-defined and being set to 0.0 in labels with no predicted samples. Use `zero_division` parameter to control this behavior.\n",
      "  _warn_prf(average, modifier, msg_start, len(result))\n",
      "C:\\Prog\\lib\\site-packages\\sklearn\\metrics\\_classification.py:1248: UndefinedMetricWarning: Precision and F-score are ill-defined and being set to 0.0 in labels with no predicted samples. Use `zero_division` parameter to control this behavior.\n",
      "  _warn_prf(average, modifier, msg_start, len(result))\n",
      "C:\\Prog\\lib\\site-packages\\sklearn\\metrics\\_classification.py:1248: UndefinedMetricWarning: Precision and F-score are ill-defined and being set to 0.0 in labels with no predicted samples. Use `zero_division` parameter to control this behavior.\n",
      "  _warn_prf(average, modifier, msg_start, len(result))\n",
      "C:\\Prog\\lib\\site-packages\\sklearn\\metrics\\_classification.py:1248: UndefinedMetricWarning: Precision and F-score are ill-defined and being set to 0.0 in labels with no predicted samples. Use `zero_division` parameter to control this behavior.\n",
      "  _warn_prf(average, modifier, msg_start, len(result))\n",
      "C:\\Prog\\lib\\site-packages\\sklearn\\metrics\\_classification.py:1248: UndefinedMetricWarning: Precision and F-score are ill-defined and being set to 0.0 in labels with no predicted samples. Use `zero_division` parameter to control this behavior.\n",
      "  _warn_prf(average, modifier, msg_start, len(result))\n",
      "C:\\Prog\\lib\\site-packages\\sklearn\\metrics\\_classification.py:1248: UndefinedMetricWarning: Precision and F-score are ill-defined and being set to 0.0 in labels with no predicted samples. Use `zero_division` parameter to control this behavior.\n",
      "  _warn_prf(average, modifier, msg_start, len(result))\n"
     ]
    },
    {
     "data": {
      "text/plain": [
       "(BernoulliNB(alpha=0.5),\n",
       " '              precision    recall  f1-score   support\\n\\n           1       0.30      0.44      0.36       231\\n          10       0.63      0.58      0.60       365\\n          11       0.73      0.55      0.63       446\\n          12       0.25      0.09      0.13       164\\n          13       0.25      0.20      0.22        89\\n          14       0.00      0.00      0.00        22\\n          15       0.32      0.30      0.31       253\\n          16       0.29      0.38      0.33        76\\n          17       0.33      0.56      0.41       100\\n          18       0.30      0.50      0.38        38\\n          19       0.69      0.33      0.45       403\\n           2       0.47      0.41      0.44       219\\n          20       0.28      0.46      0.35       124\\n          21       0.66      0.65      0.66       198\\n          22       0.39      0.49      0.44       295\\n          23       0.50      0.17      0.26        23\\n          24       0.55      0.17      0.26       509\\n          25       0.45      0.74      0.56        34\\n          26       0.60      0.20      0.30        45\\n          27       0.43      0.55      0.49       321\\n          28       0.20      0.15      0.17        46\\n          29       0.83      0.64      0.72        55\\n           3       0.31      0.46      0.37        79\\n          30       0.37      0.65      0.47       198\\n          31       0.75      0.80      0.77        30\\n          32       0.48      0.69      0.57        36\\n          33       0.18      0.17      0.17        18\\n          34       0.33      0.09      0.14        11\\n          35       0.28      0.14      0.18       312\\n          36       0.59      0.64      0.61       187\\n          37       0.63      0.72      0.67        97\\n          38       0.74      0.59      0.65       343\\n          39       0.43      0.21      0.29        28\\n           4       0.37      0.15      0.21       107\\n           5       0.14      0.04      0.06        25\\n           6       0.11      0.03      0.05        69\\n           7       0.62      0.44      0.52        77\\n           8       0.21      0.20      0.20        25\\n           9       0.00      0.00      0.00        13\\n         non       0.60      0.82      0.69      1741\\n\\n    accuracy                           0.51      7452\\n   macro avg       0.42      0.39      0.38      7452\\nweighted avg       0.52      0.51      0.49      7452\\n')"
      ]
     },
     "execution_count": 101,
     "metadata": {},
     "output_type": "execute_result"
    }
   ],
   "source": [
    "%%time\n",
    "train(bb)"
   ]
  },
  {
   "cell_type": "code",
   "execution_count": 102,
   "id": "friendly-republican",
   "metadata": {
    "scrolled": true
   },
   "outputs": [
    {
     "name": "stderr",
     "output_type": "stream",
     "text": [
      "C:\\Prog\\lib\\site-packages\\sklearn\\metrics\\_classification.py:1248: UndefinedMetricWarning: Precision and F-score are ill-defined and being set to 0.0 in labels with no predicted samples. Use `zero_division` parameter to control this behavior.\n",
      "  _warn_prf(average, modifier, msg_start, len(result))\n",
      "C:\\Prog\\lib\\site-packages\\sklearn\\metrics\\_classification.py:1248: UndefinedMetricWarning: Precision and F-score are ill-defined and being set to 0.0 in labels with no predicted samples. Use `zero_division` parameter to control this behavior.\n",
      "  _warn_prf(average, modifier, msg_start, len(result))\n",
      "C:\\Prog\\lib\\site-packages\\sklearn\\metrics\\_classification.py:1248: UndefinedMetricWarning: Precision and F-score are ill-defined and being set to 0.0 in labels with no predicted samples. Use `zero_division` parameter to control this behavior.\n",
      "  _warn_prf(average, modifier, msg_start, len(result))\n",
      "C:\\Prog\\lib\\site-packages\\sklearn\\metrics\\_classification.py:1248: UndefinedMetricWarning: Precision and F-score are ill-defined and being set to 0.0 in labels with no predicted samples. Use `zero_division` parameter to control this behavior.\n",
      "  _warn_prf(average, modifier, msg_start, len(result))\n",
      "C:\\Prog\\lib\\site-packages\\sklearn\\metrics\\_classification.py:1248: UndefinedMetricWarning: Precision and F-score are ill-defined and being set to 0.0 in labels with no predicted samples. Use `zero_division` parameter to control this behavior.\n",
      "  _warn_prf(average, modifier, msg_start, len(result))\n"
     ]
    },
    {
     "name": "stdout",
     "output_type": "stream",
     "text": [
      "LogisticRegression(max_iter=10000, n_jobs=-1, random_state=64)\n",
      "[[  80    1    5 ...    0    0  100]\n",
      " [   0  241    5 ...    0    0   33]\n",
      " [  11    3  306 ...    0    0   61]\n",
      " ...\n",
      " [   0    6    0 ...    2    0    6]\n",
      " [   2    8    0 ...    0    0    1]\n",
      " [   8   15   14 ...    0    0 1573]]\n",
      "              precision    recall  f1-score   support\n",
      "\n",
      "           1       0.56      0.35      0.43       231\n",
      "          10       0.62      0.66      0.64       365\n",
      "          11       0.69      0.69      0.69       446\n",
      "          12       0.56      0.12      0.19       164\n",
      "          13       0.50      0.01      0.02        89\n",
      "          14       0.00      0.00      0.00        22\n",
      "          15       0.39      0.38      0.39       253\n",
      "          16       0.56      0.32      0.40        76\n",
      "          17       0.56      0.48      0.52       100\n",
      "          18       0.48      0.26      0.34        38\n",
      "          19       0.61      0.67      0.64       403\n",
      "           2       0.70      0.48      0.57       219\n",
      "          20       0.49      0.43      0.46       124\n",
      "          21       0.75      0.67      0.71       198\n",
      "          22       0.50      0.58      0.54       295\n",
      "          23       0.00      0.00      0.00        23\n",
      "          24       0.46      0.49      0.48       509\n",
      "          25       0.45      0.59      0.51        34\n",
      "          26       0.00      0.00      0.00        45\n",
      "          27       0.64      0.65      0.64       321\n",
      "          28       0.33      0.11      0.16        46\n",
      "          29       0.75      0.73      0.74        55\n",
      "           3       0.52      0.39      0.45        79\n",
      "          30       0.60      0.59      0.60       198\n",
      "          31       0.75      0.80      0.77        30\n",
      "          32       0.52      0.33      0.41        36\n",
      "          33       0.00      0.00      0.00        18\n",
      "          34       0.00      0.00      0.00        11\n",
      "          35       0.29      0.20      0.24       312\n",
      "          36       0.69      0.65      0.67       187\n",
      "          37       0.72      0.70      0.71        97\n",
      "          38       0.72      0.76      0.74       343\n",
      "          39       0.62      0.18      0.28        28\n",
      "           4       0.48      0.11      0.18       107\n",
      "           5       0.00      0.00      0.00        25\n",
      "           6       0.00      0.00      0.00        69\n",
      "           7       0.83      0.45      0.59        77\n",
      "           8       0.67      0.08      0.14        25\n",
      "           9       0.00      0.00      0.00        13\n",
      "         non       0.60      0.90      0.72      1741\n",
      "\n",
      "    accuracy                           0.59      7452\n",
      "   macro avg       0.47      0.37      0.39      7452\n",
      "weighted avg       0.57      0.59      0.56      7452\n",
      "\n",
      "0.5911164787976382\n",
      "CPU times: total: 312 ms\n",
      "Wall time: 8.4 s\n"
     ]
    },
    {
     "name": "stderr",
     "output_type": "stream",
     "text": [
      "C:\\Prog\\lib\\site-packages\\sklearn\\metrics\\_classification.py:1248: UndefinedMetricWarning: Precision and F-score are ill-defined and being set to 0.0 in labels with no predicted samples. Use `zero_division` parameter to control this behavior.\n",
      "  _warn_prf(average, modifier, msg_start, len(result))\n"
     ]
    },
    {
     "data": {
      "text/plain": [
       "(LogisticRegression(max_iter=10000, n_jobs=-1, random_state=64),\n",
       " '              precision    recall  f1-score   support\\n\\n           1       0.56      0.35      0.43       231\\n          10       0.62      0.66      0.64       365\\n          11       0.69      0.69      0.69       446\\n          12       0.56      0.12      0.19       164\\n          13       0.50      0.01      0.02        89\\n          14       0.00      0.00      0.00        22\\n          15       0.39      0.38      0.39       253\\n          16       0.56      0.32      0.40        76\\n          17       0.56      0.48      0.52       100\\n          18       0.48      0.26      0.34        38\\n          19       0.61      0.67      0.64       403\\n           2       0.70      0.48      0.57       219\\n          20       0.49      0.43      0.46       124\\n          21       0.75      0.67      0.71       198\\n          22       0.50      0.58      0.54       295\\n          23       0.00      0.00      0.00        23\\n          24       0.46      0.49      0.48       509\\n          25       0.45      0.59      0.51        34\\n          26       0.00      0.00      0.00        45\\n          27       0.64      0.65      0.64       321\\n          28       0.33      0.11      0.16        46\\n          29       0.75      0.73      0.74        55\\n           3       0.52      0.39      0.45        79\\n          30       0.60      0.59      0.60       198\\n          31       0.75      0.80      0.77        30\\n          32       0.52      0.33      0.41        36\\n          33       0.00      0.00      0.00        18\\n          34       0.00      0.00      0.00        11\\n          35       0.29      0.20      0.24       312\\n          36       0.69      0.65      0.67       187\\n          37       0.72      0.70      0.71        97\\n          38       0.72      0.76      0.74       343\\n          39       0.62      0.18      0.28        28\\n           4       0.48      0.11      0.18       107\\n           5       0.00      0.00      0.00        25\\n           6       0.00      0.00      0.00        69\\n           7       0.83      0.45      0.59        77\\n           8       0.67      0.08      0.14        25\\n           9       0.00      0.00      0.00        13\\n         non       0.60      0.90      0.72      1741\\n\\n    accuracy                           0.59      7452\\n   macro avg       0.47      0.37      0.39      7452\\nweighted avg       0.57      0.59      0.56      7452\\n')"
      ]
     },
     "execution_count": 102,
     "metadata": {},
     "output_type": "execute_result"
    }
   ],
   "source": [
    "%%time\n",
    "train(LR)"
   ]
  },
  {
   "cell_type": "code",
   "execution_count": 106,
   "id": "advanced-constraint",
   "metadata": {},
   "outputs": [],
   "source": [
    "from sklearn.ensemble import RandomForestClassifier\n"
   ]
  },
  {
   "cell_type": "code",
   "execution_count": 107,
   "id": "quarterly-allah",
   "metadata": {},
   "outputs": [],
   "source": [
    "classifier = RandomForestClassifier(n_estimators=2000, \n",
    "                                    random_state=0, n_jobs=-1)"
   ]
  },
  {
   "cell_type": "code",
   "execution_count": 88,
   "id": "absolute-cylinder",
   "metadata": {
    "scrolled": true
   },
   "outputs": [
    {
     "name": "stderr",
     "output_type": "stream",
     "text": [
      "C:\\Prog\\lib\\site-packages\\sklearn\\metrics\\_classification.py:1248: UndefinedMetricWarning: Precision and F-score are ill-defined and being set to 0.0 in labels with no predicted samples. Use `zero_division` parameter to control this behavior.\n",
      "  _warn_prf(average, modifier, msg_start, len(result))\n",
      "C:\\Prog\\lib\\site-packages\\sklearn\\metrics\\_classification.py:1248: UndefinedMetricWarning: Precision and F-score are ill-defined and being set to 0.0 in labels with no predicted samples. Use `zero_division` parameter to control this behavior.\n",
      "  _warn_prf(average, modifier, msg_start, len(result))\n",
      "C:\\Prog\\lib\\site-packages\\sklearn\\metrics\\_classification.py:1248: UndefinedMetricWarning: Precision and F-score are ill-defined and being set to 0.0 in labels with no predicted samples. Use `zero_division` parameter to control this behavior.\n",
      "  _warn_prf(average, modifier, msg_start, len(result))\n",
      "C:\\Prog\\lib\\site-packages\\sklearn\\metrics\\_classification.py:1248: UndefinedMetricWarning: Precision and F-score are ill-defined and being set to 0.0 in labels with no predicted samples. Use `zero_division` parameter to control this behavior.\n",
      "  _warn_prf(average, modifier, msg_start, len(result))\n"
     ]
    },
    {
     "name": "stdout",
     "output_type": "stream",
     "text": [
      "RandomForestClassifier(n_estimators=2000, n_jobs=-1, random_state=0)\n",
      "[[ 112    1    2 ...    0    0   82]\n",
      " [   1  250    3 ...    1    0   24]\n",
      " [   6    3  295 ...    0    0   47]\n",
      " ...\n",
      " [   0    4    0 ...    3    1    5]\n",
      " [   0    7    0 ...    0    0    4]\n",
      " [  10   17   14 ...    1    0 1558]]\n",
      "              precision    recall  f1-score   support\n",
      "\n",
      "           1       0.70      0.48      0.57       231\n",
      "          10       0.61      0.68      0.65       365\n",
      "          11       0.71      0.66      0.68       446\n",
      "          12       0.46      0.23      0.30       164\n",
      "          13       0.24      0.09      0.13        89\n",
      "          14       0.67      0.09      0.16        22\n",
      "          15       0.45      0.45      0.45       253\n",
      "          16       0.55      0.37      0.44        76\n",
      "          17       0.57      0.54      0.55       100\n",
      "          18       0.27      0.16      0.20        38\n",
      "          19       0.59      0.66      0.63       403\n",
      "           2       0.78      0.58      0.66       219\n",
      "          20       0.52      0.48      0.50       124\n",
      "          21       0.71      0.72      0.71       198\n",
      "          22       0.52      0.62      0.57       295\n",
      "          23       0.44      0.17      0.25        23\n",
      "          24       0.52      0.51      0.52       509\n",
      "          25       0.45      0.59      0.51        34\n",
      "          26       0.08      0.04      0.06        45\n",
      "          27       0.73      0.71      0.72       321\n",
      "          28       0.25      0.11      0.15        46\n",
      "          29       0.70      0.71      0.70        55\n",
      "           3       0.44      0.35      0.39        79\n",
      "          30       0.60      0.65      0.62       198\n",
      "          31       0.67      0.80      0.73        30\n",
      "          32       0.59      0.47      0.52        36\n",
      "          33       0.50      0.22      0.31        18\n",
      "          34       0.00      0.00      0.00        11\n",
      "          35       0.45      0.28      0.34       312\n",
      "          36       0.64      0.70      0.67       187\n",
      "          37       0.69      0.73      0.71        97\n",
      "          38       0.75      0.77      0.76       343\n",
      "          39       0.40      0.14      0.21        28\n",
      "           4       0.54      0.23      0.33       107\n",
      "           5       0.15      0.08      0.11        25\n",
      "           6       0.28      0.07      0.11        69\n",
      "           7       0.73      0.48      0.58        77\n",
      "           8       0.27      0.12      0.17        25\n",
      "           9       0.00      0.00      0.00        13\n",
      "         non       0.67      0.89      0.77      1741\n",
      "\n",
      "    accuracy                           0.62      7452\n",
      "   macro avg       0.50      0.42      0.44      7452\n",
      "weighted avg       0.60      0.62      0.60      7452\n",
      "\n",
      "0.6218464841653247\n",
      "CPU times: total: 14min 58s\n",
      "Wall time: 1min 36s\n"
     ]
    },
    {
     "name": "stderr",
     "output_type": "stream",
     "text": [
      "C:\\Prog\\lib\\site-packages\\sklearn\\metrics\\_classification.py:1248: UndefinedMetricWarning: Precision and F-score are ill-defined and being set to 0.0 in labels with no predicted samples. Use `zero_division` parameter to control this behavior.\n",
      "  _warn_prf(average, modifier, msg_start, len(result))\n",
      "C:\\Prog\\lib\\site-packages\\sklearn\\metrics\\_classification.py:1248: UndefinedMetricWarning: Precision and F-score are ill-defined and being set to 0.0 in labels with no predicted samples. Use `zero_division` parameter to control this behavior.\n",
      "  _warn_prf(average, modifier, msg_start, len(result))\n"
     ]
    },
    {
     "data": {
      "text/plain": [
       "(RandomForestClassifier(n_estimators=2000, n_jobs=-1, random_state=0),\n",
       " '              precision    recall  f1-score   support\\n\\n           1       0.70      0.48      0.57       231\\n          10       0.61      0.68      0.65       365\\n          11       0.71      0.66      0.68       446\\n          12       0.46      0.23      0.30       164\\n          13       0.24      0.09      0.13        89\\n          14       0.67      0.09      0.16        22\\n          15       0.45      0.45      0.45       253\\n          16       0.55      0.37      0.44        76\\n          17       0.57      0.54      0.55       100\\n          18       0.27      0.16      0.20        38\\n          19       0.59      0.66      0.63       403\\n           2       0.78      0.58      0.66       219\\n          20       0.52      0.48      0.50       124\\n          21       0.71      0.72      0.71       198\\n          22       0.52      0.62      0.57       295\\n          23       0.44      0.17      0.25        23\\n          24       0.52      0.51      0.52       509\\n          25       0.45      0.59      0.51        34\\n          26       0.08      0.04      0.06        45\\n          27       0.73      0.71      0.72       321\\n          28       0.25      0.11      0.15        46\\n          29       0.70      0.71      0.70        55\\n           3       0.44      0.35      0.39        79\\n          30       0.60      0.65      0.62       198\\n          31       0.67      0.80      0.73        30\\n          32       0.59      0.47      0.52        36\\n          33       0.50      0.22      0.31        18\\n          34       0.00      0.00      0.00        11\\n          35       0.45      0.28      0.34       312\\n          36       0.64      0.70      0.67       187\\n          37       0.69      0.73      0.71        97\\n          38       0.75      0.77      0.76       343\\n          39       0.40      0.14      0.21        28\\n           4       0.54      0.23      0.33       107\\n           5       0.15      0.08      0.11        25\\n           6       0.28      0.07      0.11        69\\n           7       0.73      0.48      0.58        77\\n           8       0.27      0.12      0.17        25\\n           9       0.00      0.00      0.00        13\\n         non       0.67      0.89      0.77      1741\\n\\n    accuracy                           0.62      7452\\n   macro avg       0.50      0.42      0.44      7452\\nweighted avg       0.60      0.62      0.60      7452\\n')"
      ]
     },
     "execution_count": 88,
     "metadata": {},
     "output_type": "execute_result"
    }
   ],
   "source": [
    "%%time\n",
    "train(classifier)"
   ]
  },
  {
   "cell_type": "code",
   "execution_count": 32,
   "id": "great-lying",
   "metadata": {
    "scrolled": true
   },
   "outputs": [
    {
     "ename": "NameError",
     "evalue": "name 'bb' is not defined",
     "output_type": "error",
     "traceback": [
      "\u001b[1;31m---------------------------------------------------------------------------\u001b[0m",
      "\u001b[1;31mNameError\u001b[0m                                 Traceback (most recent call last)",
      "File \u001b[1;32m<timed exec>:1\u001b[0m, in \u001b[0;36m<module>\u001b[1;34m\u001b[0m\n",
      "\u001b[1;31mNameError\u001b[0m: name 'bb' is not defined"
     ]
    }
   ],
   "source": [
    "%%time\n",
    "model_, report = train(bb)\n"
   ]
  },
  {
   "cell_type": "code",
   "execution_count": 113,
   "id": "multiple-reach",
   "metadata": {
    "scrolled": true
   },
   "outputs": [
    {
     "data": {
      "text/plain": [
       "0.2917337627482555"
      ]
     },
     "execution_count": 113,
     "metadata": {},
     "output_type": "execute_result"
    }
   ],
   "source": [
    "0.2917337627482555"
   ]
  },
  {
   "cell_type": "code",
   "execution_count": 114,
   "id": "marked-backup",
   "metadata": {},
   "outputs": [],
   "source": [
    "from sklearn.naive_bayes import MultinomialNB"
   ]
  },
  {
   "cell_type": "code",
   "execution_count": 115,
   "id": "operating-paradise",
   "metadata": {},
   "outputs": [],
   "source": [
    "from sklearn.linear_model import LogisticRegression\n",
    "from sklearn.ensemble import RandomForestClassifier\n",
    "from sklearn.svm import LinearSVC\n",
    "from sklearn.model_selection import cross_val_score"
   ]
  },
  {
   "cell_type": "code",
   "execution_count": 94,
   "id": "balanced-anderson",
   "metadata": {},
   "outputs": [],
   "source": [
    "model = LinearSVC(max_iter=1250,C=1)"
   ]
  },
  {
   "cell_type": "code",
   "execution_count": 95,
   "id": "extended-princeton",
   "metadata": {
    "scrolled": true
   },
   "outputs": [
    {
     "name": "stdout",
     "output_type": "stream",
     "text": [
      "LinearSVC(C=1, max_iter=1250)\n",
      "[[ 113    0    2 ...    0    0   69]\n",
      " [   1  254    6 ...    0    0   18]\n",
      " [  16    4  312 ...    0    0   33]\n",
      " ...\n",
      " [   1    3    0 ...    5    1    4]\n",
      " [   0    5    0 ...    0    1    4]\n",
      " [  19   13   18 ...    0    0 1511]]\n",
      "              precision    recall  f1-score   support\n",
      "\n",
      "           1       0.54      0.49      0.51       231\n",
      "          10       0.64      0.70      0.67       365\n",
      "          11       0.72      0.70      0.71       446\n",
      "          12       0.43      0.22      0.29       164\n",
      "          13       0.42      0.12      0.19        89\n",
      "          14       0.50      0.09      0.15        22\n",
      "          15       0.43      0.44      0.43       253\n",
      "          16       0.55      0.49      0.52        76\n",
      "          17       0.59      0.53      0.56       100\n",
      "          18       0.35      0.29      0.32        38\n",
      "          19       0.62      0.70      0.65       403\n",
      "           2       0.67      0.56      0.61       219\n",
      "          20       0.50      0.46      0.48       124\n",
      "          21       0.73      0.71      0.72       198\n",
      "          22       0.54      0.61      0.57       295\n",
      "          23       0.50      0.17      0.26        23\n",
      "          24       0.51      0.48      0.50       509\n",
      "          25       0.47      0.68      0.55        34\n",
      "          26       0.38      0.11      0.17        45\n",
      "          27       0.65      0.67      0.66       321\n",
      "          28       0.32      0.13      0.18        46\n",
      "          29       0.70      0.78      0.74        55\n",
      "           3       0.47      0.41      0.44        79\n",
      "          30       0.60      0.65      0.62       198\n",
      "          31       0.72      0.87      0.79        30\n",
      "          32       0.53      0.53      0.53        36\n",
      "          33       0.50      0.11      0.18        18\n",
      "          34       0.33      0.09      0.14        11\n",
      "          35       0.36      0.26      0.30       312\n",
      "          36       0.62      0.71      0.66       187\n",
      "          37       0.75      0.74      0.75        97\n",
      "          38       0.72      0.81      0.76       343\n",
      "          39       0.57      0.29      0.38        28\n",
      "           4       0.53      0.30      0.38       107\n",
      "           5       0.13      0.08      0.10        25\n",
      "           6       0.23      0.07      0.11        69\n",
      "           7       0.73      0.49      0.59        77\n",
      "           8       0.45      0.20      0.28        25\n",
      "           9       0.50      0.08      0.13        13\n",
      "         non       0.70      0.87      0.78      1741\n",
      "\n",
      "    accuracy                           0.62      7452\n",
      "   macro avg       0.53      0.44      0.46      7452\n",
      "weighted avg       0.60      0.62      0.60      7452\n",
      "\n",
      "0.6223832528180354\n"
     ]
    }
   ],
   "source": [
    "model_, report =train(model)"
   ]
  },
  {
   "cell_type": "code",
   "execution_count": 96,
   "id": "banner-oliver",
   "metadata": {},
   "outputs": [
    {
     "data": {
      "text/plain": [
       "{'1': {'precision': 0.5380952380952381,\n",
       "  'recall': 0.48917748917748916,\n",
       "  'f1-score': 0.5124716553287981,\n",
       "  'support': 231},\n",
       " '10': {'precision': 0.6446700507614214,\n",
       "  'recall': 0.6958904109589041,\n",
       "  'f1-score': 0.6693017127799737,\n",
       "  'support': 365},\n",
       " '11': {'precision': 0.7155963302752294,\n",
       "  'recall': 0.6995515695067265,\n",
       "  'f1-score': 0.7074829931972789,\n",
       "  'support': 446},\n",
       " '12': {'precision': 0.43373493975903615,\n",
       "  'recall': 0.21951219512195122,\n",
       "  'f1-score': 0.29149797570850206,\n",
       "  'support': 164},\n",
       " '13': {'precision': 0.4230769230769231,\n",
       "  'recall': 0.12359550561797752,\n",
       "  'f1-score': 0.19130434782608693,\n",
       "  'support': 89},\n",
       " '14': {'precision': 0.5,\n",
       "  'recall': 0.09090909090909091,\n",
       "  'f1-score': 0.15384615384615385,\n",
       "  'support': 22},\n",
       " '15': {'precision': 0.42857142857142855,\n",
       "  'recall': 0.43873517786561267,\n",
       "  'f1-score': 0.43359375,\n",
       "  'support': 253},\n",
       " '16': {'precision': 0.5522388059701493,\n",
       "  'recall': 0.4868421052631579,\n",
       "  'f1-score': 0.5174825174825174,\n",
       "  'support': 76},\n",
       " '17': {'precision': 0.5888888888888889,\n",
       "  'recall': 0.53,\n",
       "  'f1-score': 0.5578947368421053,\n",
       "  'support': 100},\n",
       " '18': {'precision': 0.3548387096774194,\n",
       "  'recall': 0.2894736842105263,\n",
       "  'f1-score': 0.31884057971014496,\n",
       "  'support': 38},\n",
       " '19': {'precision': 0.6162280701754386,\n",
       "  'recall': 0.6972704714640199,\n",
       "  'f1-score': 0.6542491268917346,\n",
       "  'support': 403},\n",
       " '2': {'precision': 0.6684782608695652,\n",
       "  'recall': 0.5616438356164384,\n",
       "  'f1-score': 0.6104218362282878,\n",
       "  'support': 219},\n",
       " '20': {'precision': 0.5,\n",
       "  'recall': 0.4596774193548387,\n",
       "  'f1-score': 0.4789915966386554,\n",
       "  'support': 124},\n",
       " '21': {'precision': 0.7268041237113402,\n",
       "  'recall': 0.7121212121212122,\n",
       "  'f1-score': 0.7193877551020409,\n",
       "  'support': 198},\n",
       " '22': {'precision': 0.5389221556886228,\n",
       "  'recall': 0.6101694915254238,\n",
       "  'f1-score': 0.5723370429252782,\n",
       "  'support': 295},\n",
       " '23': {'precision': 0.5,\n",
       "  'recall': 0.17391304347826086,\n",
       "  'f1-score': 0.25806451612903225,\n",
       "  'support': 23},\n",
       " '24': {'precision': 0.5126050420168067,\n",
       "  'recall': 0.4793713163064833,\n",
       "  'f1-score': 0.4954314720812183,\n",
       "  'support': 509},\n",
       " '25': {'precision': 0.46938775510204084,\n",
       "  'recall': 0.6764705882352942,\n",
       "  'f1-score': 0.5542168674698795,\n",
       "  'support': 34},\n",
       " '26': {'precision': 0.38461538461538464,\n",
       "  'recall': 0.1111111111111111,\n",
       "  'f1-score': 0.1724137931034483,\n",
       "  'support': 45},\n",
       " '27': {'precision': 0.6456456456456456,\n",
       "  'recall': 0.6697819314641744,\n",
       "  'f1-score': 0.6574923547400612,\n",
       "  'support': 321},\n",
       " '28': {'precision': 0.3157894736842105,\n",
       "  'recall': 0.13043478260869565,\n",
       "  'f1-score': 0.1846153846153846,\n",
       "  'support': 46},\n",
       " '29': {'precision': 0.7049180327868853,\n",
       "  'recall': 0.7818181818181819,\n",
       "  'f1-score': 0.7413793103448276,\n",
       "  'support': 55},\n",
       " '3': {'precision': 0.47058823529411764,\n",
       "  'recall': 0.4050632911392405,\n",
       "  'f1-score': 0.43537414965986393,\n",
       "  'support': 79},\n",
       " '30': {'precision': 0.6037735849056604,\n",
       "  'recall': 0.6464646464646465,\n",
       "  'f1-score': 0.624390243902439,\n",
       "  'support': 198},\n",
       " '31': {'precision': 0.7222222222222222,\n",
       "  'recall': 0.8666666666666667,\n",
       "  'f1-score': 0.7878787878787877,\n",
       "  'support': 30},\n",
       " '32': {'precision': 0.5277777777777778,\n",
       "  'recall': 0.5277777777777778,\n",
       "  'f1-score': 0.5277777777777778,\n",
       "  'support': 36},\n",
       " '33': {'precision': 0.5,\n",
       "  'recall': 0.1111111111111111,\n",
       "  'f1-score': 0.1818181818181818,\n",
       "  'support': 18},\n",
       " '34': {'precision': 0.3333333333333333,\n",
       "  'recall': 0.09090909090909091,\n",
       "  'f1-score': 0.14285714285714288,\n",
       "  'support': 11},\n",
       " '35': {'precision': 0.36283185840707965,\n",
       "  'recall': 0.26282051282051283,\n",
       "  'f1-score': 0.3048327137546468,\n",
       "  'support': 312},\n",
       " '36': {'precision': 0.6244131455399061,\n",
       "  'recall': 0.7112299465240641,\n",
       "  'f1-score': 0.6649999999999999,\n",
       "  'support': 187},\n",
       " '37': {'precision': 0.75,\n",
       "  'recall': 0.7422680412371134,\n",
       "  'f1-score': 0.7461139896373057,\n",
       "  'support': 97},\n",
       " '38': {'precision': 0.7172236503856041,\n",
       "  'recall': 0.8134110787172012,\n",
       "  'f1-score': 0.7622950819672131,\n",
       "  'support': 343},\n",
       " '39': {'precision': 0.5714285714285714,\n",
       "  'recall': 0.2857142857142857,\n",
       "  'f1-score': 0.38095238095238093,\n",
       "  'support': 28},\n",
       " '4': {'precision': 0.5333333333333333,\n",
       "  'recall': 0.29906542056074764,\n",
       "  'f1-score': 0.3832335329341317,\n",
       "  'support': 107},\n",
       " '5': {'precision': 0.13333333333333333,\n",
       "  'recall': 0.08,\n",
       "  'f1-score': 0.1,\n",
       "  'support': 25},\n",
       " '6': {'precision': 0.22727272727272727,\n",
       "  'recall': 0.07246376811594203,\n",
       "  'f1-score': 0.10989010989010989,\n",
       "  'support': 69},\n",
       " '7': {'precision': 0.7307692307692307,\n",
       "  'recall': 0.4935064935064935,\n",
       "  'f1-score': 0.5891472868217055,\n",
       "  'support': 77},\n",
       " '8': {'precision': 0.45454545454545453,\n",
       "  'recall': 0.2,\n",
       "  'f1-score': 0.2777777777777778,\n",
       "  'support': 25},\n",
       " '9': {'precision': 0.5,\n",
       "  'recall': 0.07692307692307693,\n",
       "  'f1-score': 0.13333333333333336,\n",
       "  'support': 13},\n",
       " 'non': {'precision': 0.7021375464684015,\n",
       "  'recall': 0.867892016082711,\n",
       "  'f1-score': 0.7762650911893142,\n",
       "  'support': 1741},\n",
       " 'accuracy': 0.6223832528180354,\n",
       " 'macro avg': {'precision': 0.5307022316097108,\n",
       "  'recall': 0.4420189459501563,\n",
       "  'f1-score': 0.45954137652858795,\n",
       "  'support': 7452},\n",
       " 'weighted avg': {'precision': 0.6031395373404556,\n",
       "  'recall': 0.6223832528180354,\n",
       "  'f1-score': 0.6042000215189686,\n",
       "  'support': 7452}}"
      ]
     },
     "execution_count": 96,
     "metadata": {},
     "output_type": "execute_result"
    }
   ],
   "source": [
    "report"
   ]
  },
  {
   "cell_type": "markdown",
   "id": "greek-angel",
   "metadata": {},
   "source": [
    "# Определение по цветам"
   ]
  },
  {
   "cell_type": "code",
   "execution_count": 97,
   "id": "inclusive-being",
   "metadata": {
    "scrolled": true
   },
   "outputs": [],
   "source": [
    "df_class_rep =  pd.DataFrame(report).transpose()\n",
    "df_class_rep = df_class_rep.sort_values(by=['f1-score'], ascending=False)"
   ]
  },
  {
   "cell_type": "code",
   "execution_count": 105,
   "id": "interior-bosnia",
   "metadata": {},
   "outputs": [],
   "source": [
    "f_1 = df_class_rep['f1-score']"
   ]
  },
  {
   "cell_type": "code",
   "execution_count": 110,
   "id": "ignored-spain",
   "metadata": {
    "scrolled": true
   },
   "outputs": [
    {
     "data": {
      "text/plain": [
       "Index(['31', 'non', '38', '37', '29', '21', '11', '10', '36', '27', '19', '30',\n",
       "       'accuracy', '2', 'weighted avg', '7', '22', '17', '25', '32', '16', '1',\n",
       "       '24', '20', 'macro avg', '3', '15', '4', '39', '18', '35', '12', '8',\n",
       "       '23', '13', '28', '33', '26', '14', '34', '9', '6', '5'],\n",
       "      dtype='object')"
      ]
     },
     "execution_count": 110,
     "metadata": {},
     "output_type": "execute_result"
    }
   ],
   "source": [
    "f_1.index\n"
   ]
  },
  {
   "cell_type": "code",
   "execution_count": 111,
   "id": "victorian-supply",
   "metadata": {},
   "outputs": [
    {
     "data": {
      "text/plain": [
       "array([0.78787879, 0.77626509, 0.76229508, 0.74611399, 0.74137931,\n",
       "       0.71938776, 0.70748299, 0.66930171, 0.665     , 0.65749235,\n",
       "       0.65424913, 0.62439024, 0.62238325, 0.61042184, 0.60420002,\n",
       "       0.58914729, 0.57233704, 0.55789474, 0.55421687, 0.52777778,\n",
       "       0.51748252, 0.51247166, 0.49543147, 0.4789916 , 0.45954138,\n",
       "       0.43537415, 0.43359375, 0.38323353, 0.38095238, 0.31884058,\n",
       "       0.30483271, 0.29149798, 0.27777778, 0.25806452, 0.19130435,\n",
       "       0.18461538, 0.18181818, 0.17241379, 0.15384615, 0.14285714,\n",
       "       0.13333333, 0.10989011, 0.1       ])"
      ]
     },
     "execution_count": 111,
     "metadata": {},
     "output_type": "execute_result"
    }
   ],
   "source": [
    "f_1.values"
   ]
  },
  {
   "cell_type": "code",
   "execution_count": 112,
   "id": "noticed-clinic",
   "metadata": {},
   "outputs": [],
   "source": [
    "dict_class_color = {}"
   ]
  },
  {
   "cell_type": "code",
   "execution_count": 115,
   "id": "sized-volunteer",
   "metadata": {},
   "outputs": [],
   "source": [
    "for class_,value in zip(f_1.index,f_1.values):\n",
    "    if value < .25:\n",
    "        dict_class_color[class_] = 'black'\n",
    "    if value < .5 and value > .25:\n",
    "        dict_class_color[class_] = 'brown'\n",
    "    if value < .75 and value > 0.5:\n",
    "        dict_class_color[class_] = 'green'\n",
    "    if value > .75:\n",
    "        dict_class_color[class_] = 'blue'\n",
    "        "
   ]
  },
  {
   "cell_type": "code",
   "execution_count": 116,
   "id": "powered-houston",
   "metadata": {},
   "outputs": [
    {
     "data": {
      "text/plain": [
       "{'31': 'blue',\n",
       " 'non': 'blue',\n",
       " '38': 'blue',\n",
       " '37': 'green',\n",
       " '29': 'green',\n",
       " '21': 'green',\n",
       " '11': 'green',\n",
       " '10': 'green',\n",
       " '36': 'green',\n",
       " '27': 'green',\n",
       " '19': 'green',\n",
       " '30': 'green',\n",
       " 'accuracy': 'green',\n",
       " '2': 'green',\n",
       " 'weighted avg': 'green',\n",
       " '7': 'green',\n",
       " '22': 'green',\n",
       " '17': 'green',\n",
       " '25': 'green',\n",
       " '32': 'green',\n",
       " '16': 'green',\n",
       " '1': 'green',\n",
       " '24': 'brown',\n",
       " '20': 'brown',\n",
       " 'macro avg': 'brown',\n",
       " '3': 'brown',\n",
       " '15': 'brown',\n",
       " '4': 'brown',\n",
       " '39': 'brown',\n",
       " '18': 'brown',\n",
       " '35': 'brown',\n",
       " '12': 'brown',\n",
       " '8': 'brown',\n",
       " '23': 'brown',\n",
       " '13': 'black',\n",
       " '28': 'black',\n",
       " '33': 'black',\n",
       " '26': 'black',\n",
       " '14': 'black',\n",
       " '34': 'black',\n",
       " '9': 'black',\n",
       " '6': 'black',\n",
       " '5': 'black'}"
      ]
     },
     "execution_count": 116,
     "metadata": {},
     "output_type": "execute_result"
    }
   ],
   "source": [
    "dict_class_color"
   ]
  },
  {
   "cell_type": "markdown",
   "id": "legislative-hotel",
   "metadata": {},
   "source": [
    "# сохранение модели"
   ]
  },
  {
   "cell_type": "code",
   "execution_count": 278,
   "id": "peripheral-distance",
   "metadata": {},
   "outputs": [],
   "source": [
    "import pickle"
   ]
  },
  {
   "cell_type": "code",
   "execution_count": 279,
   "id": "unlimited-cartridge",
   "metadata": {},
   "outputs": [],
   "source": [
    "pkl_filename = r\"LinearSVC_model_2700.pkl\"\n",
    "with open(pkl_filename, 'wb') as file:\n",
    "    pickle.dump(model, file)"
   ]
  },
  {
   "cell_type": "code",
   "execution_count": 280,
   "id": "pending-intersection",
   "metadata": {},
   "outputs": [],
   "source": [
    "with open(pkl_filename, 'rb') as file:\n",
    "    pickle_model = pickle.load(file)"
   ]
  },
  {
   "cell_type": "code",
   "execution_count": 281,
   "id": "demographic-bargain",
   "metadata": {},
   "outputs": [
    {
     "name": "stdout",
     "output_type": "stream",
     "text": [
      "Test score: 62.17 %\n"
     ]
    }
   ],
   "source": [
    "score = pickle_model.score(X_test_vector, y_test)\n",
    "print(\"Test score: {0:.2f} %\".format(100 * score))"
   ]
  },
  {
   "cell_type": "code",
   "execution_count": 282,
   "id": "sustainable-monday",
   "metadata": {},
   "outputs": [
    {
     "data": {
      "text/plain": [
       "array(['38', '30', '10', ..., 'non', '4', 'non'], dtype=object)"
      ]
     },
     "execution_count": 282,
     "metadata": {},
     "output_type": "execute_result"
    }
   ],
   "source": [
    "Ypredict = pickle_model.predict(X_test_vector)\n",
    "Ypredict"
   ]
  },
  {
   "cell_type": "markdown",
   "id": "innocent-organizer",
   "metadata": {},
   "source": [
    "# Загрузка модели "
   ]
  },
  {
   "cell_type": "code",
   "execution_count": 380,
   "id": "auburn-judges",
   "metadata": {},
   "outputs": [],
   "source": [
    "def get_model(path_model):\n",
    "    with open(path_model, 'rb') as file:\n",
    "        pickle_model = pickle.load(file)\n",
    "    return pickle_model"
   ]
  },
  {
   "cell_type": "code",
   "execution_count": 381,
   "id": "expanded-champion",
   "metadata": {},
   "outputs": [],
   "source": [
    "path_model = r\"model\\LinearSVC_model_2700.pkl\"\n",
    "model = get_model(path_model)"
   ]
  },
  {
   "cell_type": "markdown",
   "id": "spectacular-blind",
   "metadata": {},
   "source": [
    "# Загрузка и анализ документа "
   ]
  },
  {
   "cell_type": "code",
   "execution_count": 117,
   "id": "extreme-federal",
   "metadata": {},
   "outputs": [],
   "source": [
    "def load_file(path_to_file):\n",
    "    doc = docx.Document(path_to_file)\n",
    "    all_paragraphs = doc.paragraphs\n",
    "    list_text_doc = [par.text for par in all_paragraphs]\n",
    "    len_doc_paragraph = len(all_paragraphs)\n",
    "    return list_text_doc, len_doc_paragraph"
   ]
  },
  {
   "cell_type": "code",
   "execution_count": 118,
   "id": "deluxe-documentation",
   "metadata": {},
   "outputs": [],
   "source": [
    "path_document = r\"C:\\Users\\79219\\Desktop\\digital_xakaton\\document\\Postanovlenie_Pravitelstva_Rossiyskoy_Federatsii_ot_04_03_2021__314.docx\"\n"
   ]
  },
  {
   "cell_type": "code",
   "execution_count": 119,
   "id": "disturbed-gathering",
   "metadata": {},
   "outputs": [],
   "source": [
    "list_text_doc, len_paragraph = load_file(path_document)"
   ]
  },
  {
   "cell_type": "code",
   "execution_count": 120,
   "id": "extra-laundry",
   "metadata": {},
   "outputs": [
    {
     "data": {
      "text/plain": [
       "101"
      ]
     },
     "execution_count": 120,
     "metadata": {},
     "output_type": "execute_result"
    }
   ],
   "source": [
    "len_paragraph"
   ]
  },
  {
   "cell_type": "code",
   "execution_count": 121,
   "id": "interested-google",
   "metadata": {},
   "outputs": [
    {
     "data": {
      "text/plain": [
       "['Документ предоставлен \\n',\n",
       " '',\n",
       " 'ПРАВИТЕЛЬСТВО РОССИЙСКОЙ ФЕДЕРАЦИИ',\n",
       " '',\n",
       " 'ПОСТАНОВЛЕНИЕ',\n",
       " 'от 4 марта 2021 г. N 314',\n",
       " '',\n",
       " 'ОБ УТВЕРЖДЕНИИ ПРАВИЛ',\n",
       " 'ПРЕДОСТАВЛЕНИЯ В 2021 ГОДУ ИЗ ФЕДЕРАЛЬНОГО БЮДЖЕТА',\n",
       " 'СУБСИДИИ АВТОНОМНОЙ НЕКОММЕРЧЕСКОЙ ОРГАНИЗАЦИИ',\n",
       " '\"ТВ-НОВОСТИ\" НА ПОДДЕРЖАНИЕ, ОБНОВЛЕНИЕ И РАСШИРЕНИЕ',\n",
       " 'МАТЕРИАЛЬНО-ТЕХНИЧЕСКОЙ БАЗЫ ТЕЛЕВИЗИОННО-ТЕХНИЧЕСКОГО',\n",
       " 'КОМПЛЕКСА В Г. МОСКВЕ И О ПРИЗНАНИИ УТРАТИВШИМ СИЛУ',\n",
       " 'ПОСТАНОВЛЕНИЯ ПРАВИТЕЛЬСТВА РОССИЙСКОЙ ФЕДЕРАЦИИ',\n",
       " 'ОТ 19 ДЕКАБРЯ 2019 Г. N 1724',\n",
       " '',\n",
       " 'Правительство Российской Федерации постановляет:',\n",
       " '1. Утвердить прилагаемые  предоставления в 2021 году из федерального бюджета субсидии автономной некоммерческой организации \"ТВ-Новости\" на поддержание, обновление и расширение материально-технической базы телевизионно-технического комплекса в г. Москве.',\n",
       " '2. Признать утратившим силу  Правительства Российской Федерации от 19 декабря 2019 г. N 1724 \"Об утверждении Правил предоставления субсидии из федерального бюджета автономной некоммерческой организации \"ТВ-Новости\" на поддержание, обновление и расширение материально-технической базы телевизионно-технического комплекса в г. Москве\" (Собрание законодательства Российской Федерации, 2019, N 52, ст. 7964).',\n",
       " '3. Установить, что действие , утвержденных настоящим постановлением, распространяется на правоотношения, возникшие с 1 января 2021 г.',\n",
       " '',\n",
       " 'Председатель Правительства',\n",
       " 'Российской Федерации',\n",
       " 'М.МИШУСТИН',\n",
       " '',\n",
       " '',\n",
       " '',\n",
       " '',\n",
       " '',\n",
       " 'Утверждены',\n",
       " 'постановлением Правительства',\n",
       " 'Российской Федерации',\n",
       " 'от 4 марта 2021 г. N 314',\n",
       " '',\n",
       " 'ПРАВИЛА',\n",
       " 'ПРЕДОСТАВЛЕНИЯ В 2021 ГОДУ ИЗ ФЕДЕРАЛЬНОГО БЮДЖЕТА',\n",
       " 'СУБСИДИИ АВТОНОМНОЙ НЕКОММЕРЧЕСКОЙ ОРГАНИЗАЦИИ',\n",
       " '\"ТВ-НОВОСТИ\" НА ПОДДЕРЖАНИЕ, ОБНОВЛЕНИЕ И РАСШИРЕНИЕ',\n",
       " 'МАТЕРИАЛЬНО-ТЕХНИЧЕСКОЙ БАЗЫ ТЕЛЕВИЗИОННО-ТЕХНИЧЕСКОГО',\n",
       " 'КОМПЛЕКСА В Г. МОСКВЕ',\n",
       " '',\n",
       " '1. {35} Настоящие Правила устанавливают цели, условия и порядок предоставления в 2021 году из федерального бюджета субсидии автономной некоммерческой организации \"ТВ-Новости\" (далее - получатель субсидии) на поддержание, обновление и расширение материально-технической базы телевизионно-технического комплекса в г. Москве (далее - субсидия). {35}',\n",
       " '{2} Субсидия предоставляется в рамках подпрограммы \"Информационная среда\" государственной  Российской Федерации \"Информационное общество\".{2}',\n",
       " '2. {35} Субсидия предоставляется получателю субсидии в пределах лимитов бюджетных обязательств, доведенных в установленном порядке до Министерства цифрового развития, связи и массовых коммуникаций Российской Федерации как получателя средств федерального бюджета на цели, указанные в  настоящих Правил. {35}',\n",
       " '3. {7} Сведения (информация) о субсидии размещаются на едином портале бюджетной системы Российской Федерации в информационно-телекоммуникационной сети \"Интернет\" при формировании проекта федерального закона о федеральном бюджете (проекта федерального закона о внесении изменений в федеральный закон о федеральном бюджете). {7}',\n",
       " '4. {33} Субсидия направляется на финансовое обеспечение следующих расходов, связанных с достижением целей, указанных в  настоящих Правил: {33}',\n",
       " 'а) {33} оплата труда, уплата страховых взносов на обязательное пенсионное, обязательное медицинское и обязательное социальное страхование, взносов на обязательное социальное страхование от несчастных случаев на производстве и профессиональных заболеваний; {33}',\n",
       " 'б) {33} компенсационные выплаты работникам в соответствии с законодательством Российской Федерации; {33}',\n",
       " 'в) {33} проведение текущего и капитального ремонта, обслуживание находящегося в эксплуатации оборудования и инвентаря; {33}',\n",
       " 'г) {33} проведение текущего и капитального ремонта зданий, сооружений и помещений; {33}',\n",
       " 'д) {33} приобретение производственно-технологического оборудования, производственного и хозяйственного инвентаря, необходимого для обеспечения производственной деятельности получателя субсидии; {33}',\n",
       " 'е) {33} приобретение расходных материалов и предметов снабжения; {33} ',\n",
       " 'ж) {33} проведение мероприятий по размещению заказов на поставки товаров, выполнение работ и оказание услуг для обеспечения основной деятельности получателя субсидии; {33}',\n",
       " 'з) {33} обеспечение пожарной безопасности; {33}',\n",
       " 'и) {33} обеспечение охраны объектов, в том числе монтаж и наладка системы охраны; {33}',\n",
       " 'к) {33} оплата услуг по переводам документов, аудиторских, бухгалтерских, юридических и консультационных услуг, а также патентных и нотариальных услуг, услуг по таможенному оформлению, по проведению экспертиз и получению заключений, связанных с производственной деятельностью и эксплуатацией технического оборудования; {33}',\n",
       " 'л) {33} уплата налогов и обязательных платежей, а также оплата услуг банков; {33}',\n",
       " 'м) {33} оплата лицензий на использование программного обеспечения и работ по конфигурированию и модернизации программ, а также по поддержке и обновлению лицензионного программного обеспечения, в том числе баз данных, по приобретению экземпляров программ для электронно-вычислительных машин и экземпляров баз данных, облачных вычислений; {33}',\n",
       " 'н) {33} оплата расходов по художественному оформлению, созданию дизайна студий, телеканалов и телекомплексов, организации и проведению съемок и участию в них, созданию и поддержанию средств массовой информации, информационных ресурсов в информационно-телекоммуникационной сети \"Интернет\" и распространению информации в них, а также оплата расходов на изготовление декораций; {33}',\n",
       " 'о) {33} приобретение исключительных прав на результаты интеллектуальной деятельности и (или) средства индивидуализации, приобретение прав использования результатов интеллектуальной деятельности или средств индивидуализации. {33}',\n",
       " '5. {22} Размер субсидии определяется как сумма затрат по направлениям расходов получателя субсидии, предусмотренным  настоящих Правил. {22}',\n",
       " '6. {31} Получателю субсидии, а также иным юридическим лицам, получающим средства на основании договоров, заключенных с получателем субсидии, запрещается приобретать за счет полученной из федерального бюджета субсидии иностранную валюту, за исключением операций, {31} {31} осуществляемых в соответствии с валютным законодательством Российской Федерации при закупке (поставке) высокотехнологичного импортного оборудования, сырья и комплектующих изделий, а также иных операций, связанных с достижением целей предоставления субсидии, указанных в  настоящих Правил. {31}',\n",
       " '7. {24} Субсидия предоставляется в соответствии с соглашением о предоставлении субсидии, заключенным между Министерством цифрового развития, связи и массовых коммуникаций Российской Федерации и получателем субсидии в государственной интегрированной информационной системе управления общественными финансами \"Электронный бюджет\" в соответствии с настоящими Правилами и типовой формой, утвержденной Министерством финансов Российской Федерации (далее - соглашение), в котором предусматривается в том числе: {24}',\n",
       " 'а) {24} согласие получателя субсидии на проведение Министерством цифрового развития, связи и массовых коммуникаций Российской Федерации и органами государственного финансового контроля обязательных проверок соблюдения целей, порядка и условий предоставления субсидии, а также обязательство получателя субсидии по включению в договоры (соглашения), заключенные в целях исполнения обязательств по соглашению, положений о согласии лиц, являющихся поставщиками (подрядчиками, исполнителями), на проведение указанных проверок; {24}',\n",
       " 'б) {24} значение результата предоставления субсидии, предусмотренное  настоящих Правил; {24}',\n",
       " 'в) {24} условия расторжения соглашения; {24}',\n",
       " 'г) {24} ответственность за неисполнение или ненадлежащее исполнение условий соглашения и настоящих Правил; {24}',\n",
       " 'д) {24} порядок возврата сумм, использованных получателем субсидии, в случае установления по итогам проверок, проведенных Министерством цифрового развития, связи и массовых коммуникаций Российской Федерации и органами государственного финансового контроля, факта нарушения целей, условий и порядка предоставления субсидии, установленных настоящими Правилами и соглашением; {24}',\n",
       " 'е) {24} формы отчета о достижении значения результата предоставления субсидии, а также отчета об осуществлении расходов, источником финансового обеспечения которых является субсидия, в соответствии с типовой формой, утвержденной Министерством финансов Российской Федерации; {24}',\n",
       " 'ж) {24} формы представления получателем субсидии дополнительной отчетности; {24}',\n",
       " 'з) {24} положения о казначейском сопровождении субсидии, установленные правилами казначейского сопровождения средств в соответствии с бюджетным законодательством Российской Федерации; {24}',\n",
       " 'и) {24} условие о согласовании новых условий соглашения или о расторжении соглашения при недостижении согласия по новым условиям в случае уменьшения ранее доведенных до Министерства цифрового развития, связи и массовых коммуникаций Российской Федерации лимитов бюджетных обязательств, приводящего к невозможности предоставления субсидии в размере, определенном в соглашении; {24}',\n",
       " 'к) {24} условие об использовании получателем субсидии в очередном финансовом году остатков средств субсидии, не использованных на начало очередного финансового года, на достижение целей, установленных при предоставлении субсидии, на основании решения Министерства цифрового развития, связи и массовых коммуникаций Российской Федерации, принятого в соответствии с бюджетным законодательством Российской Федерации. {24}',\n",
       " '8. {24} Дополнительное соглашение к соглашению, в том числе дополнительное соглашение о расторжении соглашения, заключается между Министерством цифрового развития, связи и массовых коммуникаций Российской Федерации и получателем субсидии в государственной интегрированной информационной системе управления общественными финансами \"Электронный бюджет\" в соответствии с типовой формой, утвержденной Министерством финансов Российской Федерации. {24}',\n",
       " '9. {27} Результатом предоставления субсидии является закупка и установка в 2021 году оборудования и программного обеспечения, необходимых для бесперебойного функционирования телевизионного комплекса в г. Москве, в соответствии с согласованным с Министерством цифрового развития, связи и массовых коммуникаций Российской Федерации проектом поддержания, обновления и расширения материально-технической базы телевизионно-технического комплекса в г. Москве. {27}',\n",
       " '10. {10} Получатель субсидии не позднее 22-го рабочего дня, следующего за отчетным кварталом, и по итогам года не позднее 30 марта 2022 г. представляет: {10}',\n",
       " 'а) {10} отчет о достижении значения результата предоставления субсидии, указанного в  настоящих Правил, по форме, предусмотренной типовой формой соглашения, установленной Министерством финансов Российской Федерации; {10}',\n",
       " 'б) {10} отчет об осуществлении расходов, источником финансового обеспечения которых является субсидия, по форме, предусмотренной типовой формой соглашения, установленной Министерством финансов Российской Федерации; {10}',\n",
       " 'в) {10} дополнительную отчетность по форме, предусмотренной соглашением. {10}',\n",
       " '11. {11} Получатель субсидии по состоянию на 15-е число месяца, предшествующего месяцу, в котором планируется заключение соглашения, должен соответствовать следующим требованиям: {11}',\n",
       " 'а) {11} получатель субсидии не является иностранным юридическим лицом, а также российским юридическим лицом, в уставном (складочном) капитале которого доля участия иностранных юридических лиц, местом регистрации которых является государство или территория, включенные {11}{11}в утвержденный Министерством финансов Российской Федерации перечень государств и территорий, предоставляющих льготный налоговый режим налогообложения и (или) не предусматривающих раскрытия и предоставления информации при проведении финансовых операций (офшорные зоны), в совокупности превышает 50 процентов; {11}',\n",
       " 'б) {11} получатель субсидии не получает средства из федерального бюджета в соответствии с иными нормативными правовыми актами на цели, указанные в  настоящих Правил. {11}',\n",
       " '12. {19} Получатель субсидии в целях заключения соглашения представляет следующие документы: {19}',\n",
       " 'а) {19} справка, подписанная руководителем (иным уполномоченным лицом) и главным бухгалтером (при наличии) или иным должностным лицом, на которое возлагается ведение бухгалтерского учета, подтверждающая соответствие получателя субсидии требованиям, предусмотренным  настоящих Правил; {19}',\n",
       " 'б) {19} предложения по значению результата предоставления субсидии; {19}',\n",
       " 'в) {19} смета по направлениям расходов, предусмотренных  настоящих Правил, с приложением обоснований плановых сметных назначений, использованных при формировании сметы. {19}',\n",
       " '13. {20} Министерство цифрового развития, связи и массовых коммуникаций Российской Федерации в течение 10 рабочих дней рассматривает указанные в  настоящих Правил документы и принимает решение о предоставлении субсидии или об отказе в предоставлении субсидии. {20}',\n",
       " '14. {21} Основаниями для отказа в предоставлении субсидии являются: {21}',\n",
       " 'а) {21} несоответствие представленных получателем субсидии документов документам, указанным в  настоящих Правил, или непредставление (представление не в полном объеме) этих документов; {21}',\n",
       " 'б) {21} ненадлежащее оформление представленных документов; {21}',\n",
       " 'в) {21} установление факта недостоверности сведений, содержащихся в представленных документах. {21}',\n",
       " '15. {35} В случае отказа в предоставлении субсидии по основаниям, указанным в  настоящих Правил, получатель субсидии вправе повторно представить в Министерство цифрового развития, связи и массовых коммуникаций Российской Федерации документы, предусмотренные  настоящих Правил. {35}',\n",
       " '16. {29} Перечисление субсидии осуществляется в установленном порядке на казначейский счет для осуществления и отражения операций с денежными средствами юридических лиц, не являющихся участниками бюджетного процесса, бюджетными и автономными учреждениями, открытый в территориальном органе Федерального казначейства, не позднее 2-го рабочего дня после представления в территориальный орган Федерального казначейства получателем субсидии распоряжений о совершении казначейских платежей для оплаты денежного обязательства получателя субсидии. {29}',\n",
       " '17. {32} Министерство цифрового развития, связи и массовых коммуникаций Российской Федерации и орган государственного финансового контроля проводят обязательные проверки соблюдения получателем субсидии целей, условий и порядка предоставления субсидии, установленных настоящими Правилами и соглашением. {32}',\n",
       " '18. {38} В случае установления по итогам проверок, проведенных Министерством цифрового развития, связи и массовых коммуникаций Российской Федерации и (или) органом государственного финансового контроля, факта нарушения получателем субсидии целей, условий и порядка предоставления субсидии, {38}{38} а также недостижения значения результата предоставления субсидии соответствующие средства подлежат возврату в доход федерального бюджета в порядке, установленном бюджетным законодательством Российской Федерации, в размере, пропорциональном недостигнутому значению результата предоставления субсидии, на основании: {38}',\n",
       " 'а) {38} требования Министерства цифрового развития, связи и массовых коммуникаций Российской Федерации - не позднее 10-го рабочего дня со дня получения получателем субсидии указанного требования; {38}',\n",
       " 'б) {38} представления и (или) предписания органа государственного финансового контроля - в сроки, установленные в соответствии с бюджетным законодательством Российской Федерации. {38}',\n",
       " '',\n",
       " '',\n",
       " '',\n",
       " '']"
      ]
     },
     "execution_count": 121,
     "metadata": {},
     "output_type": "execute_result"
    }
   ],
   "source": [
    "list_text_doc"
   ]
  },
  {
   "cell_type": "code",
   "execution_count": 387,
   "id": "convinced-connection",
   "metadata": {},
   "outputs": [],
   "source": [
    "def pandas_df_text(text_doc):\n",
    "    df = pd.DataFrame(text_doc, columns=['text'])\n",
    "    return df"
   ]
  },
  {
   "cell_type": "code",
   "execution_count": 388,
   "id": "cellular-casino",
   "metadata": {},
   "outputs": [],
   "source": [
    "df = pandas_df_text(list_text_doc)"
   ]
  },
  {
   "cell_type": "markdown",
   "id": "julian-salvation",
   "metadata": {},
   "source": [
    "# Обработка текста "
   ]
  },
  {
   "cell_type": "code",
   "execution_count": 389,
   "id": "tribal-tender",
   "metadata": {},
   "outputs": [],
   "source": [
    "stop_words = set(stopwords.words('russian'))\n",
    "stemmer = snow('russian')\n",
    "text_cleaning_re = \"[A-Za-z0-9!#$%&'()*+,./:;<=>?@[\\]^_`{|}~—\\\"\\-]+\"\n",
    "\n",
    "def clear_text(text):\n",
    "    tokens = []\n",
    "    text = re.sub(text_cleaning_re, ' ', str(text).lower()).strip()\n",
    "    text = re.sub(r'\\s+', ' ', text)\n",
    "    for token in text.split():\n",
    "        if token not in stop_words:\n",
    "            token = \"\".join(c for c in token if token.isalnum())\n",
    "            tokens.append(token)\n",
    "    return \" \".join(tokens)\n",
    "\n",
    "def pre_process(text):\n",
    "    tokens = []\n",
    "    for token in text.split():\n",
    "        tokens.append(stemmer.stem(token))\n",
    "    return \" \".join(tokens)\n"
   ]
  },
  {
   "cell_type": "code",
   "execution_count": 390,
   "id": "chubby-nirvana",
   "metadata": {},
   "outputs": [],
   "source": [
    "def preprocess_text(df_text_doc):\n",
    "    texts_ = df_text_doc.text.apply(lambda x: clear_text(x))\n",
    "    texts_stemm = texts_.apply(lambda x: pre_process(x))\n",
    "    return  texts_stemm"
   ]
  },
  {
   "cell_type": "code",
   "execution_count": 391,
   "id": "fewer-pursuit",
   "metadata": {},
   "outputs": [],
   "source": [
    "clear_stem_text = preprocess_text(df)"
   ]
  },
  {
   "cell_type": "markdown",
   "id": "distributed-shoot",
   "metadata": {},
   "source": [
    "# Создание TFiDF"
   ]
  },
  {
   "cell_type": "code",
   "execution_count": 392,
   "id": "olive-hebrew",
   "metadata": {},
   "outputs": [],
   "source": [
    "tfidf_doc=TfidfVectorizer(max_features=2745,ngram_range=(1,4))"
   ]
  },
  {
   "cell_type": "code",
   "execution_count": 393,
   "id": "bronze-chemistry",
   "metadata": {},
   "outputs": [],
   "source": [
    "X = tfidf_doc.fit_transform(clear_stem_text)"
   ]
  },
  {
   "cell_type": "code",
   "execution_count": 394,
   "id": "exempt-touch",
   "metadata": {},
   "outputs": [
    {
     "data": {
      "text/plain": [
       "<101x2745 sparse matrix of type '<class 'numpy.float64'>'\n",
       "\twith 4343 stored elements in Compressed Sparse Row format>"
      ]
     },
     "execution_count": 394,
     "metadata": {},
     "output_type": "execute_result"
    }
   ],
   "source": [
    "X"
   ]
  },
  {
   "cell_type": "code",
   "execution_count": 395,
   "id": "attended-politics",
   "metadata": {},
   "outputs": [],
   "source": [
    "# Вердикт модели "
   ]
  },
  {
   "cell_type": "code",
   "execution_count": 396,
   "id": "specified-lambda",
   "metadata": {
    "scrolled": true
   },
   "outputs": [
    {
     "data": {
      "text/plain": [
       "['non',\n",
       " 'non',\n",
       " '35',\n",
       " 'non',\n",
       " 'non',\n",
       " 'non',\n",
       " 'non',\n",
       " 'non',\n",
       " '18',\n",
       " 'non',\n",
       " 'non',\n",
       " 'non',\n",
       " 'non',\n",
       " '19',\n",
       " 'non',\n",
       " 'non',\n",
       " '11',\n",
       " '11',\n",
       " '11',\n",
       " 'non',\n",
       " 'non',\n",
       " '20',\n",
       " 'non',\n",
       " 'non',\n",
       " 'non',\n",
       " 'non',\n",
       " 'non',\n",
       " 'non',\n",
       " 'non',\n",
       " 'non',\n",
       " 'non',\n",
       " 'non',\n",
       " 'non',\n",
       " 'non',\n",
       " 'non',\n",
       " '18',\n",
       " 'non',\n",
       " 'non',\n",
       " 'non',\n",
       " 'non',\n",
       " 'non',\n",
       " '12',\n",
       " 'non',\n",
       " '10',\n",
       " '27',\n",
       " 'non',\n",
       " '15',\n",
       " 'non',\n",
       " 'non',\n",
       " 'non',\n",
       " '10',\n",
       " 'non',\n",
       " '36',\n",
       " '10',\n",
       " '24',\n",
       " '11',\n",
       " 'non',\n",
       " '10',\n",
       " '30',\n",
       " '11',\n",
       " '15',\n",
       " '35',\n",
       " '11',\n",
       " '11',\n",
       " '22',\n",
       " 'non',\n",
       " '11',\n",
       " '22',\n",
       " '19',\n",
       " '11',\n",
       " 'non',\n",
       " '12',\n",
       " '35',\n",
       " '11',\n",
       " '22',\n",
       " '35',\n",
       " '10',\n",
       " 'non',\n",
       " 'non',\n",
       " '11',\n",
       " '35',\n",
       " '11',\n",
       " 'non',\n",
       " '35',\n",
       " 'non',\n",
       " 'non',\n",
       " 'non',\n",
       " 'non',\n",
       " '10',\n",
       " '13',\n",
       " 'non',\n",
       " '10',\n",
       " '35',\n",
       " '38',\n",
       " '38',\n",
       " '35',\n",
       " '24',\n",
       " 'non',\n",
       " 'non',\n",
       " 'non',\n",
       " 'non']"
      ]
     },
     "execution_count": 396,
     "metadata": {},
     "output_type": "execute_result"
    }
   ],
   "source": [
    "Ypredict = model.predict(X)\n",
    "Ypredict = Ypredict.tolist()\n",
    "Ypredict"
   ]
  },
  {
   "cell_type": "code",
   "execution_count": 403,
   "id": "angry-investigation",
   "metadata": {},
   "outputs": [],
   "source": [
    "range_ = [i for i in range(len(Ypredict))]"
   ]
  },
  {
   "cell_type": "code",
   "execution_count": 404,
   "id": "planned-understanding",
   "metadata": {
    "scrolled": true
   },
   "outputs": [
    {
     "data": {
      "text/plain": [
       "[0,\n",
       " 1,\n",
       " 2,\n",
       " 3,\n",
       " 4,\n",
       " 5,\n",
       " 6,\n",
       " 7,\n",
       " 8,\n",
       " 9,\n",
       " 10,\n",
       " 11,\n",
       " 12,\n",
       " 13,\n",
       " 14,\n",
       " 15,\n",
       " 16,\n",
       " 17,\n",
       " 18,\n",
       " 19,\n",
       " 20,\n",
       " 21,\n",
       " 22,\n",
       " 23,\n",
       " 24,\n",
       " 25,\n",
       " 26,\n",
       " 27,\n",
       " 28,\n",
       " 29,\n",
       " 30,\n",
       " 31,\n",
       " 32,\n",
       " 33,\n",
       " 34,\n",
       " 35,\n",
       " 36,\n",
       " 37,\n",
       " 38,\n",
       " 39,\n",
       " 40,\n",
       " 41,\n",
       " 42,\n",
       " 43,\n",
       " 44,\n",
       " 45,\n",
       " 46,\n",
       " 47,\n",
       " 48,\n",
       " 49,\n",
       " 50,\n",
       " 51,\n",
       " 52,\n",
       " 53,\n",
       " 54,\n",
       " 55,\n",
       " 56,\n",
       " 57,\n",
       " 58,\n",
       " 59,\n",
       " 60,\n",
       " 61,\n",
       " 62,\n",
       " 63,\n",
       " 64,\n",
       " 65,\n",
       " 66,\n",
       " 67,\n",
       " 68,\n",
       " 69,\n",
       " 70,\n",
       " 71,\n",
       " 72,\n",
       " 73,\n",
       " 74,\n",
       " 75,\n",
       " 76,\n",
       " 77,\n",
       " 78,\n",
       " 79,\n",
       " 80,\n",
       " 81,\n",
       " 82,\n",
       " 83,\n",
       " 84,\n",
       " 85,\n",
       " 86,\n",
       " 87,\n",
       " 88,\n",
       " 89,\n",
       " 90,\n",
       " 91,\n",
       " 92,\n",
       " 93,\n",
       " 94,\n",
       " 95,\n",
       " 96,\n",
       " 97,\n",
       " 98,\n",
       " 99,\n",
       " 100]"
      ]
     },
     "execution_count": 404,
     "metadata": {},
     "output_type": "execute_result"
    }
   ],
   "source": [
    "range_"
   ]
  },
  {
   "cell_type": "code",
   "execution_count": 409,
   "id": "broke-therapy",
   "metadata": {},
   "outputs": [],
   "source": [
    "dict_={}\n",
    "for i in range_:\n",
    "    dict_[i] = Ypredict[i]"
   ]
  },
  {
   "cell_type": "code",
   "execution_count": 410,
   "id": "governmental-woman",
   "metadata": {
    "scrolled": true
   },
   "outputs": [
    {
     "data": {
      "text/plain": [
       "{0: 'non',\n",
       " 1: 'non',\n",
       " 2: '35',\n",
       " 3: 'non',\n",
       " 4: 'non',\n",
       " 5: 'non',\n",
       " 6: 'non',\n",
       " 7: 'non',\n",
       " 8: '18',\n",
       " 9: 'non',\n",
       " 10: 'non',\n",
       " 11: 'non',\n",
       " 12: 'non',\n",
       " 13: '19',\n",
       " 14: 'non',\n",
       " 15: 'non',\n",
       " 16: '11',\n",
       " 17: '11',\n",
       " 18: '11',\n",
       " 19: 'non',\n",
       " 20: 'non',\n",
       " 21: '20',\n",
       " 22: 'non',\n",
       " 23: 'non',\n",
       " 24: 'non',\n",
       " 25: 'non',\n",
       " 26: 'non',\n",
       " 27: 'non',\n",
       " 28: 'non',\n",
       " 29: 'non',\n",
       " 30: 'non',\n",
       " 31: 'non',\n",
       " 32: 'non',\n",
       " 33: 'non',\n",
       " 34: 'non',\n",
       " 35: '18',\n",
       " 36: 'non',\n",
       " 37: 'non',\n",
       " 38: 'non',\n",
       " 39: 'non',\n",
       " 40: 'non',\n",
       " 41: '12',\n",
       " 42: 'non',\n",
       " 43: '10',\n",
       " 44: '27',\n",
       " 45: 'non',\n",
       " 46: '15',\n",
       " 47: 'non',\n",
       " 48: 'non',\n",
       " 49: 'non',\n",
       " 50: '10',\n",
       " 51: 'non',\n",
       " 52: '36',\n",
       " 53: '10',\n",
       " 54: '24',\n",
       " 55: '11',\n",
       " 56: 'non',\n",
       " 57: '10',\n",
       " 58: '30',\n",
       " 59: '11',\n",
       " 60: '15',\n",
       " 61: '35',\n",
       " 62: '11',\n",
       " 63: '11',\n",
       " 64: '22',\n",
       " 65: 'non',\n",
       " 66: '11',\n",
       " 67: '22',\n",
       " 68: '19',\n",
       " 69: '11',\n",
       " 70: 'non',\n",
       " 71: '12',\n",
       " 72: '35',\n",
       " 73: '11',\n",
       " 74: '22',\n",
       " 75: '35',\n",
       " 76: '10',\n",
       " 77: 'non',\n",
       " 78: 'non',\n",
       " 79: '11',\n",
       " 80: '35',\n",
       " 81: '11',\n",
       " 82: 'non',\n",
       " 83: '35',\n",
       " 84: 'non',\n",
       " 85: 'non',\n",
       " 86: 'non',\n",
       " 87: 'non',\n",
       " 88: '10',\n",
       " 89: '13',\n",
       " 90: 'non',\n",
       " 91: '10',\n",
       " 92: '35',\n",
       " 93: '38',\n",
       " 94: '38',\n",
       " 95: '35',\n",
       " 96: '24',\n",
       " 97: 'non',\n",
       " 98: 'non',\n",
       " 99: 'non',\n",
       " 100: 'non'}"
      ]
     },
     "execution_count": 410,
     "metadata": {},
     "output_type": "execute_result"
    }
   ],
   "source": [
    "dict_"
   ]
  },
  {
   "cell_type": "markdown",
   "id": "unlimited-aluminum",
   "metadata": {},
   "source": [
    "# Функции помогающие пользователю"
   ]
  },
  {
   "cell_type": "code",
   "execution_count": 397,
   "id": "freelance-electronics",
   "metadata": {},
   "outputs": [],
   "source": [
    "class_ = [str(i) for i in range(1,41)]\n",
    "class_[-1] = 'non'\n",
    "\n",
    "def get_info_class_loss(Ypredict, class_):\n",
    "    list_class = []\n",
    "    for i in Ypredict:\n",
    "        if i not in list_class:\n",
    "            list_class.append(i)\n",
    "    return sorted(list_class)\n",
    "        "
   ]
  },
  {
   "cell_type": "code",
   "execution_count": 398,
   "id": "everyday-treat",
   "metadata": {},
   "outputs": [],
   "source": [
    "x = get_info_class_loss(Ypredict, class_)\n"
   ]
  },
  {
   "cell_type": "code",
   "execution_count": 400,
   "id": "north-spare",
   "metadata": {},
   "outputs": [],
   "source": [
    "from collections import Counter"
   ]
  },
  {
   "cell_type": "code",
   "execution_count": 402,
   "id": "serious-perry",
   "metadata": {},
   "outputs": [
    {
     "data": {
      "text/plain": [
       "[('non', 54),\n",
       " ('11', 12),\n",
       " ('35', 8),\n",
       " ('10', 7),\n",
       " ('22', 3),\n",
       " ('18', 2),\n",
       " ('19', 2),\n",
       " ('12', 2),\n",
       " ('15', 2),\n",
       " ('24', 2),\n",
       " ('38', 2),\n",
       " ('20', 1),\n",
       " ('27', 1),\n",
       " ('36', 1),\n",
       " ('30', 1),\n",
       " ('13', 1)]"
      ]
     },
     "execution_count": 402,
     "metadata": {},
     "output_type": "execute_result"
    }
   ],
   "source": [
    "def freq_class(Ypredict):\n",
    "    cnt = Counter(Ypredict)\n",
    "    return cnt.most_common()"
   ]
  },
  {
   "cell_type": "markdown",
   "id": "afraid-league",
   "metadata": {},
   "source": [
    "# Вернуть обратно word"
   ]
  },
  {
   "cell_type": "code",
   "execution_count": 145,
   "id": "acknowledged-pressure",
   "metadata": {
    "scrolled": true
   },
   "outputs": [
    {
     "data": {
      "text/plain": [
       "{'31': 'blue',\n",
       " 'non': 'blue',\n",
       " '38': 'blue',\n",
       " '37': 'green',\n",
       " '29': 'green',\n",
       " '21': 'green',\n",
       " '11': 'green',\n",
       " '10': 'green',\n",
       " '36': 'green',\n",
       " '27': 'green',\n",
       " '19': 'green',\n",
       " '30': 'green',\n",
       " 'accuracy': 'green',\n",
       " '2': 'green',\n",
       " 'weighted avg': 'green',\n",
       " '7': 'green',\n",
       " '22': 'green',\n",
       " '17': 'green',\n",
       " '25': 'green',\n",
       " '32': 'green',\n",
       " '16': 'green',\n",
       " '1': 'green',\n",
       " '24': 'brown',\n",
       " '20': 'brown',\n",
       " 'macro avg': 'brown',\n",
       " '3': 'brown',\n",
       " '15': 'brown',\n",
       " '4': 'brown',\n",
       " '39': 'brown',\n",
       " '18': 'brown',\n",
       " '35': 'brown',\n",
       " '12': 'brown',\n",
       " '8': 'brown',\n",
       " '23': 'brown',\n",
       " '13': 'black',\n",
       " '28': 'black',\n",
       " '33': 'black',\n",
       " '26': 'black',\n",
       " '14': 'black',\n",
       " '34': 'black',\n",
       " '9': 'black',\n",
       " '6': 'black',\n",
       " '5': 'black'}"
      ]
     },
     "execution_count": 145,
     "metadata": {},
     "output_type": "execute_result"
    }
   ],
   "source": [
    "dict_class_color"
   ]
  },
  {
   "cell_type": "code",
   "execution_count": 159,
   "id": "built-legislature",
   "metadata": {},
   "outputs": [
    {
     "data": {
      "text/plain": [
       "array(['Документ предоставлен \\n', '',\n",
       "       'ПРАВИТЕЛЬСТВО РОССИЙСКОЙ ФЕДЕРАЦИИ', 'ПОСТАНОВЛЕНИЕ',\n",
       "       'от 4 марта 2021 г. N 314', 'ОБ УТВЕРЖДЕНИИ ПРАВИЛ',\n",
       "       'ПРЕДОСТАВЛЕНИЯ В 2021 ГОДУ ИЗ ФЕДЕРАЛЬНОГО БЮДЖЕТА',\n",
       "       'СУБСИДИИ АВТОНОМНОЙ НЕКОММЕРЧЕСКОЙ ОРГАНИЗАЦИИ',\n",
       "       '\"ТВ-НОВОСТИ\" НА ПОДДЕРЖАНИЕ, ОБНОВЛЕНИЕ И РАСШИРЕНИЕ',\n",
       "       'МАТЕРИАЛЬНО-ТЕХНИЧЕСКОЙ БАЗЫ ТЕЛЕВИЗИОННО-ТЕХНИЧЕСКОГО',\n",
       "       'КОМПЛЕКСА В Г. МОСКВЕ И О ПРИЗНАНИИ УТРАТИВШИМ СИЛУ',\n",
       "       'ПОСТАНОВЛЕНИЯ ПРАВИТЕЛЬСТВА РОССИЙСКОЙ ФЕДЕРАЦИИ',\n",
       "       'ОТ 19 ДЕКАБРЯ 2019 Г. N 1724',\n",
       "       'Правительство Российской Федерации постановляет:',\n",
       "       '1. Утвердить прилагаемые  предоставления в 2021 году из федерального бюджета субсидии автономной некоммерческой организации \"ТВ-Новости\" на поддержание, обновление и расширение материально-технической базы телевизионно-технического комплекса в г. Москве.',\n",
       "       '2. Признать утратившим силу  Правительства Российской Федерации от 19 декабря 2019 г. N 1724 \"Об утверждении Правил предоставления субсидии из федерального бюджета автономной некоммерческой организации \"ТВ-Новости\" на поддержание, обновление и расширение материально-технической базы телевизионно-технического комплекса в г. Москве\" (Собрание законодательства Российской Федерации, 2019, N 52, ст. 7964).',\n",
       "       '3. Установить, что действие , утвержденных настоящим постановлением, распространяется на правоотношения, возникшие с 1 января 2021 г.',\n",
       "       'Председатель Правительства', 'Российской Федерации', 'М.МИШУСТИН',\n",
       "       'Утверждены', 'постановлением Правительства', 'ПРАВИЛА',\n",
       "       'КОМПЛЕКСА В Г. МОСКВЕ',\n",
       "       ' Настоящие Правила устанавливают цели, условия и порядок предоставления в 2021 году из федерального бюджета субсидии автономной некоммерческой организации \"ТВ-Новости\" (далее - получатель субсидии) на поддержание, обновление и расширение материально-технической базы телевизионно-технического комплекса в г. Москве (далее - субсидия',\n",
       "       ' Субсидия предоставляется в рамках подпрограммы \"Информационная среда\" государственной  Российской Федерации \"Информационное общество\".',\n",
       "       ' Субсидия предоставляется получателю субсидии в пределах лимитов бюджетных обязательств, доведенных в установленном порядке до Министерства цифрового развития, связи и массовых коммуникаций Российской Федерации как получателя средств федерального бюджета на цели, указанные в  настоящих Прави',\n",
       "       ' Сведения (информация) о субсидии размещаются на едином портале бюджетной системы Российской Федерации в информационно-телекоммуникационной сети \"Интернет\" при формировании проекта федерального закона о федеральном бюджете (проекта федерального закона о внесении изменений в федеральный закон о федеральном бюджете',\n",
       "       ' Субсидия направляется на финансовое обеспечение следующих расходов, связанных с достижением целей, указанных в  настоящих Прави',\n",
       "       ' оплата труда, уплата страховых взносов на обязательное пенсионное, обязательное медицинское и обязательное социальное страхование, взносов на обязательное социальное страхование от несчастных случаев на производстве и профессиональных заболевани',\n",
       "       ' компенсационные выплаты работникам в соответствии с законодательством Российской Федераци',\n",
       "       ' проведение текущего и капитального ремонта, обслуживание находящегося в эксплуатации оборудования и инвентар',\n",
       "       ' проведение текущего и капитального ремонта зданий, сооружений и помещени',\n",
       "       ' приобретение производственно-технологического оборудования, производственного и хозяйственного инвентаря, необходимого для обеспечения производственной деятельности получателя субсиди',\n",
       "       ' приобретение расходных материалов и предметов снабжения',\n",
       "       ' проведение мероприятий по размещению заказов на поставки товаров, выполнение работ и оказание услуг для обеспечения основной деятельности получателя субсиди',\n",
       "       ' обеспечение пожарной безопасност',\n",
       "       ' обеспечение охраны объектов, в том числе монтаж и наладка системы охран',\n",
       "       ' оплата услуг по переводам документов, аудиторских, бухгалтерских, юридических и консультационных услуг, а также патентных и нотариальных услуг, услуг по таможенному оформлению, по проведению экспертиз и получению заключений, связанных с производственной деятельностью и эксплуатацией технического оборудовани',\n",
       "       ' уплата налогов и обязательных платежей, а также оплата услуг банко',\n",
       "       ' оплата лицензий на использование программного обеспечения и работ по конфигурированию и модернизации программ, а также по поддержке и обновлению лицензионного программного обеспечения, в том числе баз данных, по приобретению экземпляров программ для электронно-вычислительных машин и экземпляров баз данных, облачных вычислени',\n",
       "       ' оплата расходов по художественному оформлению, созданию дизайна студий, телеканалов и телекомплексов, организации и проведению съемок и участию в них, созданию и поддержанию средств массовой информации, информационных ресурсов в информационно-телекоммуникационной сети \"Интернет\" и распространению информации в них, а также оплата расходов на изготовление декораци',\n",
       "       ' приобретение исключительных прав на результаты интеллектуальной деятельности и (или) средства индивидуализации, приобретение прав использования результатов интеллектуальной деятельности или средств индивидуализаци',\n",
       "       ' Размер субсидии определяется как сумма затрат по направлениям расходов получателя субсидии, предусмотренным  настоящих Прави',\n",
       "       ' Получателю субсидии, а также иным юридическим лицам, получающим средства на основании договоров, заключенных с получателем субсидии, запрещается приобретать за счет полученной из федерального бюджета субсидии иностранную валюту, за исключением операций, {31} {31} осуществляемых в соответствии с валютным законодательством Российской Федерации при закупке (поставке) высокотехнологичного импортного оборудования, сырья и комплектующих изделий, а также иных операций, связанных с достижением целей предоставления субсидии, указанных в  настоящих Прави',\n",
       "       ' {31} осуществляемых в соответств', ' осуществляемых в соотв',\n",
       "       ' Субсидия предоставляется в соответствии с соглашением о предоставлении субсидии, заключенным между Министерством цифрового развития, связи и массовых коммуникаций Российской Федерации и получателем субсидии в государственной интегрированной информационной системе управления общественными финансами \"Электронный бюджет\" в соответствии с настоящими Правилами и типовой формой, утвержденной Министерством финансов Российской Федерации (далее - соглашение), в котором предусматривается в том числ',\n",
       "       ' согласие получателя субсидии на проведение Министерством цифрового развития, связи и массовых коммуникаций Российской Федерации и органами государственного финансового контроля обязательных проверок соблюдения целей, порядка и условий предоставления субсидии, а также обязательство получателя субсидии по включению в договоры (соглашения), заключенные в целях исполнения обязательств по соглашению, положений о согласии лиц, являющихся поставщиками (подрядчиками, исполнителями), на проведение указанных проверо',\n",
       "       ' значение результата предоставления субсидии, предусмотренное  настоящих Прави',\n",
       "       ' условия расторжения соглашени',\n",
       "       ' ответственность за неисполнение или ненадлежащее исполнение условий соглашения и настоящих Прави',\n",
       "       ' порядок возврата сумм, использованных получателем субсидии, в случае установления по итогам проверок, проведенных Министерством цифрового развития, связи и массовых коммуникаций Российской Федерации и органами государственного финансового контроля, факта нарушения целей, условий и порядка предоставления субсидии, установленных настоящими Правилами и соглашение',\n",
       "       ' формы отчета о достижении значения результата предоставления субсидии, а также отчета об осуществлении расходов, источником финансового обеспечения которых является субсидия, в соответствии с типовой формой, утвержденной Министерством финансов Российской Федераци',\n",
       "       ' формы представления получателем субсидии дополнительной отчетност',\n",
       "       ' положения о казначейском сопровождении субсидии, установленные правилами казначейского сопровождения средств в соответствии с бюджетным законодательством Российской Федераци',\n",
       "       ' условие о согласовании новых условий соглашения или о расторжении соглашения при недостижении согласия по новым условиям в случае уменьшения ранее доведенных до Министерства цифрового развития, связи и массовых коммуникаций Российской Федерации лимитов бюджетных обязательств, приводящего к невозможности предоставления субсидии в размере, определенном в соглашени',\n",
       "       ' условие об использовании получателем субсидии в очередном финансовом году остатков средств субсидии, не использованных на начало очередного финансового года, на достижение целей, установленных при предоставлении субсидии, на основании решения Министерства цифрового развития, связи и массовых коммуникаций Российской Федерации, принятого в соответствии с бюджетным законодательством Российской Федераци',\n",
       "       ' Дополнительное соглашение к соглашению, в том числе дополнительное соглашение о расторжении соглашения, заключается между Министерством цифрового развития, связи и массовых коммуникаций Российской Федерации и получателем субсидии в государственной интегрированной информационной системе управления общественными финансами \"Электронный бюджет\" в соответствии с типовой формой, утвержденной Министерством финансов Российской Федераци',\n",
       "       ' Результатом предоставления субсидии является закупка и установка в 2021 году оборудования и программного обеспечения, необходимых для бесперебойного функционирования телевизионного комплекса в г. Москве, в соответствии с согласованным с Министерством цифрового развития, связи и массовых коммуникаций Российской Федерации проектом поддержания, обновления и расширения материально-технической базы телевизионно-технического комплекса в г. Москв',\n",
       "       ' Получатель субсидии не позднее 22-го рабочего дня, следующего за отчетным кварталом, и по итогам года не позднее 30 марта 2022 г. представля',\n",
       "       ' отчет о достижении значения результата предоставления субсидии, указанного в  настоящих Правил, по форме, предусмотренной типовой формой соглашения, установленной Министерством финансов Российской Федераци',\n",
       "       ' отчет об осуществлении расходов, источником финансового обеспечения которых является субсидия, по форме, предусмотренной типовой формой соглашения, установленной Министерством финансов Российской Федераци',\n",
       "       ' дополнительную отчетность по форме, предусмотренной соглашение',\n",
       "       ' Получатель субсидии по состоянию на 15-е число месяца, предшествующего месяцу, в котором планируется заключение соглашения, должен соответствовать следующим требовани',\n",
       "       ' получатель субсидии не является иностранным юридическим лицом, а также российским юридическим лицом, в уставном (складочном) капитале которого доля участия иностранных юридических лиц, местом регистрации которых является государство или территория, включенные {11}{11}в утвержденный Министерством финансов Российской Федерации перечень государств и территорий, предоставляющих льготный налоговый режим налогообложения и (или) не предусматривающих раскрытия и предоставления информации при проведении финансовых операций (офшорные зоны), в совокупности превышает 50 проценто',\n",
       "       '{11}в утвержденный Министерством финансов Ро',\n",
       "       'в утвержденный Министерством финансо',\n",
       "       ' получатель субсидии не получает средства из федерального бюджета в соответствии с иными нормативными правовыми актами на цели, указанные в  настоящих Прави',\n",
       "       ' Получатель субсидии в целях заключения соглашения представляет следующие докумен',\n",
       "       ' справка, подписанная руководителем (иным уполномоченным лицом) и главным бухгалтером (при наличии) или иным должностным лицом, на которое возлагается ведение бухгалтерского учета, подтверждающая соответствие получателя субсидии требованиям, предусмотренным  настоящих Прави',\n",
       "       ' предложения по значению результата предоставления субсиди',\n",
       "       ' смета по направлениям расходов, предусмотренных  настоящих Правил, с приложением обоснований плановых сметных назначений, использованных при формировании смет',\n",
       "       ' Министерство цифрового развития, связи и массовых коммуникаций Российской Федерации в течение 10 рабочих дней рассматривает указанные в  настоящих Правил документы и принимает решение о предоставлении субсидии или об отказе в предоставлении субсид',\n",
       "       ' Основаниями для отказа в предоставлении субсидии являют',\n",
       "       ' несоответствие представленных получателем субсидии документов документам, указанным в  настоящих Правил, или непредставление (представление не в полном объеме) этих документо',\n",
       "       ' ненадлежащее оформление представленных документо',\n",
       "       ' установление факта недостоверности сведений, содержащихся в представленных документа',\n",
       "       ' В случае отказа в предоставлении субсидии по основаниям, указанным в  настоящих Правил, получатель субсидии вправе повторно представить в Министерство цифрового развития, связи и массовых коммуникаций Российской Федерации документы, предусмотренные  настоящих Прав',\n",
       "       ' Перечисление субсидии осуществляется в установленном порядке на казначейский счет для осуществления и отражения операций с денежными средствами юридических лиц, не являющихся участниками бюджетного процесса, бюджетными и автономными учреждениями, открытый в территориальном органе Федерального казначейства, не позднее 2-го рабочего дня после представления в территориальный орган Федерального казначейства получателем субсидии распоряжений о совершении казначейских платежей для оплаты денежного обязательства получателя субсид',\n",
       "       ' Министерство цифрового развития, связи и массовых коммуникаций Российской Федерации и орган государственного финансового контроля проводят обязательные проверки соблюдения получателем субсидии целей, условий и порядка предоставления субсидии, установленных настоящими Правилами и соглашени',\n",
       "       ' В случае установления по итогам проверок, проведенных Министерством цифрового развития, связи и массовых коммуникаций Российской Федерации и (или) органом государственного финансового контроля, факта нарушения получателем субсидии целей, условий и порядка предоставления субсидии, {38}{38} а также недостижения значения результата предоставления субсидии соответствующие средства подлежат возврату в доход федерального бюджета в порядке, установленном бюджетным законодательством Российской Федерации, в размере, пропорциональном недостигнутому значению результата предоставления субсидии, на основан',\n",
       "       '{38} а также недостижения зна', ' а также недостижения',\n",
       "       ' требования Министерства цифрового развития, связи и массовых коммуникаций Российской Федерации - не позднее 10-го рабочего дня со дня получения получателем субсидии указанного требовани',\n",
       "       ' представления и (или) предписания органа государственного финансового контроля - в сроки, установленные в соответствии с бюджетным законодательством Российской Федераци'],\n",
       "      dtype=object)"
      ]
     },
     "execution_count": 159,
     "metadata": {},
     "output_type": "execute_result"
    }
   ],
   "source": [
    "df_test.text.values"
   ]
  },
  {
   "cell_type": "code",
   "execution_count": 147,
   "id": "current-render",
   "metadata": {},
   "outputs": [],
   "source": [
    "pathfile = 'test.docx'"
   ]
  },
  {
   "cell_type": "code",
   "execution_count": 158,
   "id": "regulation-clark",
   "metadata": {},
   "outputs": [],
   "source": [
    "def get_docx(df,dict_class_color,path):\n",
    "    pass"
   ]
  },
  {
   "cell_type": "code",
   "execution_count": null,
   "id": "knowing-bundle",
   "metadata": {
    "scrolled": true
   },
   "outputs": [],
   "source": [
    "get_word_doc(df_test, dict_class_color,pathfile)"
   ]
  },
  {
   "cell_type": "code",
   "execution_count": null,
   "id": "headed-report",
   "metadata": {},
   "outputs": [],
   "source": []
  }
 ],
 "metadata": {
  "kernelspec": {
   "display_name": "Python 3",
   "language": "python",
   "name": "python3"
  },
  "language_info": {
   "codemirror_mode": {
    "name": "ipython",
    "version": 3
   },
   "file_extension": ".py",
   "mimetype": "text/x-python",
   "name": "python",
   "nbconvert_exporter": "python",
   "pygments_lexer": "ipython3",
   "version": "3.8.3"
  }
 },
 "nbformat": 4,
 "nbformat_minor": 5
}
