{
 "cells": [
  {
   "cell_type": "markdown",
   "id": "criminal-pitch",
   "metadata": {},
   "source": [
    "# Импортирование библиотек"
   ]
  },
  {
   "cell_type": "code",
   "execution_count": 1,
   "id": "minimal-toilet",
   "metadata": {},
   "outputs": [
    {
     "name": "stderr",
     "output_type": "stream",
     "text": [
      "C:\\Prog\\lib\\site-packages\\numpy\\_distributor_init.py:30: UserWarning: loaded more than 1 DLL from .libs:\n",
      "C:\\Prog\\lib\\site-packages\\numpy\\.libs\\libopenblas.GK7GX5KEQ4F6UYO3P26ULGBQYHGQO7J4.gfortran-win_amd64.dll\n",
      "C:\\Prog\\lib\\site-packages\\numpy\\.libs\\libopenblas.WCDJNK7YVMPZQ2ME2ZZHJJRJ3JIKNDB7.gfortran-win_amd64.dll\n",
      "  warnings.warn(\"loaded more than 1 DLL from .libs:\"\n"
     ]
    },
    {
     "ename": "RuntimeError",
     "evalue": "module compiled against API version 0xe but this version of numpy is 0xd",
     "output_type": "error",
     "traceback": [
      "\u001b[1;31m---------------------------------------------------------------------------\u001b[0m",
      "\u001b[1;31mRuntimeError\u001b[0m                              Traceback (most recent call last)",
      "\u001b[1;31mRuntimeError\u001b[0m: module compiled against API version 0xe but this version of numpy is 0xd"
     ]
    },
    {
     "ename": "RuntimeError",
     "evalue": "module compiled against API version 0xe but this version of numpy is 0xd",
     "output_type": "error",
     "traceback": [
      "\u001b[1;31m---------------------------------------------------------------------------\u001b[0m",
      "\u001b[1;31mRuntimeError\u001b[0m                              Traceback (most recent call last)",
      "\u001b[1;31mRuntimeError\u001b[0m: module compiled against API version 0xe but this version of numpy is 0xd"
     ]
    },
    {
     "ename": "RuntimeError",
     "evalue": "module compiled against API version 0xe but this version of numpy is 0xd",
     "output_type": "error",
     "traceback": [
      "\u001b[1;31m---------------------------------------------------------------------------\u001b[0m",
      "\u001b[1;31mRuntimeError\u001b[0m                              Traceback (most recent call last)",
      "\u001b[1;31mRuntimeError\u001b[0m: module compiled against API version 0xe but this version of numpy is 0xd"
     ]
    },
    {
     "ename": "RuntimeError",
     "evalue": "module compiled against API version 0xe but this version of numpy is 0xd",
     "output_type": "error",
     "traceback": [
      "\u001b[1;31m---------------------------------------------------------------------------\u001b[0m",
      "\u001b[1;31mRuntimeError\u001b[0m                              Traceback (most recent call last)",
      "\u001b[1;31mRuntimeError\u001b[0m: module compiled against API version 0xe but this version of numpy is 0xd"
     ]
    }
   ],
   "source": [
    "import os\n",
    "import docx\n",
    "import re\n",
    "import pandas as pd \n",
    "import numpy as np\n",
    "\n",
    "\n",
    "\n",
    "import matplotlib.pyplot as plt \n",
    "import seaborn as sns\n",
    "\n",
    "import spacy\n",
    "\n",
    "from sklearn import metrics\n",
    "from sklearn.svm import SVC, LinearSVC, NuSVC\n",
    "from sklearn.preprocessing import LabelEncoder\n",
    "from sklearn.feature_extraction.text import CountVectorizer, TfidfVectorizer\n",
    "from sklearn.model_selection import train_test_split\n",
    "from sklearn.naive_bayes import GaussianNB,MultinomialNB,BernoulliNB\n",
    "from sklearn.linear_model import LogisticRegression\n",
    "from sklearn.metrics import classification_report, confusion_matrix, accuracy_score\n",
    "\n",
    "import nltk\n",
    "from nltk.corpus import stopwords\n",
    "from nltk.stem.porter import PorterStemmer\n",
    "from nltk.stem import WordNetLemmatizer\n",
    "from nltk.stem import SnowballStemmer as snow\n",
    "\n"
   ]
  },
  {
   "cell_type": "markdown",
   "id": "fuzzy-abortion",
   "metadata": {},
   "source": [
    "# Переход в необходимую территорю"
   ]
  },
  {
   "cell_type": "code",
   "execution_count": 2,
   "id": "forbidden-monday",
   "metadata": {},
   "outputs": [],
   "source": [
    "def get_list_doc(folder):\n",
    "    paths = []\n",
    "    for root, dirs, files in os.walk(folder):\n",
    "        for file in files:\n",
    "            if file.endswith('docx') and not file.startswith('~'):\n",
    "                paths.append(os.path.join(file))\n",
    "    return paths"
   ]
  },
  {
   "cell_type": "code",
   "execution_count": 8,
   "id": "convinced-cowboy",
   "metadata": {},
   "outputs": [],
   "source": [
    "path =get_list_doc(r\"C:\\Users\\79219\\Desktop\\digital_xakaton\\document\")"
   ]
  },
  {
   "cell_type": "code",
   "execution_count": 25,
   "id": "express-defendant",
   "metadata": {},
   "outputs": [
    {
     "data": {
      "text/plain": [
       "165"
      ]
     },
     "execution_count": 25,
     "metadata": {},
     "output_type": "execute_result"
    }
   ],
   "source": [
    "len(path)"
   ]
  },
  {
   "cell_type": "markdown",
   "id": "mysterious-affect",
   "metadata": {},
   "source": [
    "# Словарь по таргетам "
   ]
  },
  {
   "cell_type": "code",
   "execution_count": 4,
   "id": "collected-comparison",
   "metadata": {},
   "outputs": [],
   "source": [
    "def get_all_paragrah_target(list_doc):\n",
    "    str_falsee = \"{\"\n",
    "    dict_non_targe = {}\n",
    "    dict_text_target = {}\n",
    "    len_doc = len(list_doc)\n",
    "    count = 0\n",
    "    for doc in list_doc:\n",
    "        print(count+1)\n",
    "        doc = docx.Document(doc)\n",
    "        for paragraph in doc.paragraphs:\n",
    "            if  str_falsee not in  paragraph.text:\n",
    "                    dict_non_targe[paragraph.text] = 'nan'\n",
    "            for str_ in range(len(paragraph.text)):\n",
    "                if paragraph.text[str_] == '{':\n",
    "                    star_ = str_\n",
    "                if paragraph.text[str_] == '}':\n",
    "                    end_ = str_\n",
    "                    range_ = end_ - star_\n",
    "                    string_text_target = paragraph.text[end_+1:-end_-1]\n",
    "                    target = paragraph.text[star_+1:end_]\n",
    "                    dict_text_target[string_text_target] = target\n",
    "                \n",
    "        count +=1\n",
    "\n",
    "\n",
    "    return dict_text_target,dict_non_targe"
   ]
  },
  {
   "cell_type": "code",
   "execution_count": 5,
   "id": "chicken-fiber",
   "metadata": {},
   "outputs": [],
   "source": [
    "path =r'C:\\Users\\79219\\Desktop\\digital_xakaton\\document'"
   ]
  },
  {
   "cell_type": "code",
   "execution_count": 6,
   "id": "challenging-closer",
   "metadata": {},
   "outputs": [],
   "source": [
    "path = os.chdir(path)"
   ]
  },
  {
   "cell_type": "code",
   "execution_count": 9,
   "id": "affecting-manhattan",
   "metadata": {
    "scrolled": true
   },
   "outputs": [
    {
     "name": "stdout",
     "output_type": "stream",
     "text": [
      "1\n",
      "2\n",
      "3\n",
      "4\n",
      "5\n",
      "6\n",
      "7\n",
      "8\n",
      "9\n",
      "10\n",
      "11\n",
      "12\n",
      "13\n",
      "14\n",
      "15\n",
      "16\n",
      "17\n",
      "18\n",
      "19\n",
      "20\n",
      "21\n",
      "22\n",
      "23\n",
      "24\n",
      "25\n",
      "26\n",
      "27\n",
      "28\n",
      "29\n",
      "30\n",
      "31\n",
      "32\n",
      "33\n",
      "34\n",
      "35\n",
      "36\n",
      "37\n",
      "38\n",
      "39\n",
      "40\n",
      "41\n",
      "42\n",
      "43\n",
      "44\n",
      "45\n",
      "46\n",
      "47\n",
      "48\n",
      "49\n",
      "50\n",
      "51\n",
      "52\n",
      "53\n",
      "54\n",
      "55\n",
      "56\n",
      "57\n",
      "58\n",
      "59\n",
      "60\n",
      "61\n",
      "62\n",
      "63\n",
      "64\n",
      "65\n",
      "66\n",
      "67\n",
      "68\n",
      "69\n",
      "70\n",
      "71\n",
      "72\n",
      "73\n",
      "74\n",
      "75\n",
      "76\n",
      "77\n",
      "78\n",
      "79\n",
      "80\n",
      "81\n",
      "82\n",
      "83\n",
      "84\n",
      "85\n",
      "86\n",
      "87\n",
      "88\n",
      "89\n",
      "90\n",
      "91\n",
      "92\n",
      "93\n",
      "94\n",
      "95\n",
      "96\n",
      "97\n",
      "98\n",
      "99\n",
      "100\n",
      "101\n",
      "102\n",
      "103\n",
      "104\n",
      "105\n",
      "106\n",
      "107\n",
      "108\n",
      "109\n",
      "110\n",
      "111\n",
      "112\n",
      "113\n",
      "114\n",
      "115\n",
      "116\n",
      "117\n",
      "118\n",
      "119\n",
      "120\n",
      "121\n",
      "122\n",
      "123\n",
      "124\n",
      "125\n",
      "126\n",
      "127\n",
      "128\n",
      "129\n",
      "130\n",
      "131\n",
      "132\n",
      "133\n",
      "134\n",
      "135\n",
      "136\n",
      "137\n",
      "138\n",
      "139\n",
      "140\n",
      "141\n",
      "142\n",
      "143\n",
      "144\n",
      "145\n",
      "146\n",
      "147\n",
      "148\n",
      "149\n",
      "150\n",
      "151\n",
      "152\n",
      "153\n",
      "154\n",
      "155\n",
      "156\n",
      "157\n",
      "158\n",
      "159\n",
      "160\n",
      "161\n",
      "162\n",
      "163\n",
      "164\n",
      "165\n",
      "CPU times: total: 5min 24s\n",
      "Wall time: 5min 24s\n"
     ]
    }
   ],
   "source": [
    "%%time\n",
    "dict_text_target,dict_nan_target  = get_all_paragrah_target(path)"
   ]
  },
  {
   "cell_type": "code",
   "execution_count": 10,
   "id": "varied-approach",
   "metadata": {},
   "outputs": [
    {
     "name": "stdout",
     "output_type": "stream",
     "text": [
      "5018\n"
     ]
    }
   ],
   "source": [
    "print(len(dict_nan_target))\n"
   ]
  },
  {
   "cell_type": "code",
   "execution_count": 11,
   "id": "interstate-greek",
   "metadata": {},
   "outputs": [
    {
     "name": "stdout",
     "output_type": "stream",
     "text": [
      "16272\n"
     ]
    }
   ],
   "source": [
    "print(len(dict_text_target))"
   ]
  },
  {
   "cell_type": "code",
   "execution_count": 12,
   "id": "equal-force",
   "metadata": {},
   "outputs": [
    {
     "data": {
      "text/plain": [
       "21290"
      ]
     },
     "execution_count": 12,
     "metadata": {},
     "output_type": "execute_result"
    }
   ],
   "source": [
    "len(dict_nan_target) + len(dict_text_target)"
   ]
  },
  {
   "cell_type": "markdown",
   "id": "shaped-february",
   "metadata": {},
   "source": [
    "# Создание Df"
   ]
  },
  {
   "cell_type": "code",
   "execution_count": 13,
   "id": "annual-universal",
   "metadata": {},
   "outputs": [],
   "source": [
    "df_target = pd.DataFrame(list(dict_text_target.items()),\n",
    "                   columns=['text', 'target'])"
   ]
  },
  {
   "cell_type": "code",
   "execution_count": 14,
   "id": "voluntary-wholesale",
   "metadata": {},
   "outputs": [
    {
     "data": {
      "text/html": [
       "<div>\n",
       "<style scoped>\n",
       "    .dataframe tbody tr th:only-of-type {\n",
       "        vertical-align: middle;\n",
       "    }\n",
       "\n",
       "    .dataframe tbody tr th {\n",
       "        vertical-align: top;\n",
       "    }\n",
       "\n",
       "    .dataframe thead th {\n",
       "        text-align: right;\n",
       "    }\n",
       "</style>\n",
       "<table border=\"1\" class=\"dataframe\">\n",
       "  <thead>\n",
       "    <tr style=\"text-align: right;\">\n",
       "      <th></th>\n",
       "      <th>text</th>\n",
       "      <th>target</th>\n",
       "    </tr>\n",
       "  </thead>\n",
       "  <tbody>\n",
       "    <tr>\n",
       "      <th>0</th>\n",
       "      <td>Настоящие Правила устанавливают цели, условия ...</td>\n",
       "      <td>2</td>\n",
       "    </tr>\n",
       "    <tr>\n",
       "      <th>1</th>\n",
       "      <td></td>\n",
       "      <td>18</td>\n",
       "    </tr>\n",
       "    <tr>\n",
       "      <th>2</th>\n",
       "      <td>Сведения о субсидии размещаются на едином порт...</td>\n",
       "      <td>7</td>\n",
       "    </tr>\n",
       "    <tr>\n",
       "      <th>3</th>\n",
       "      <td>Понятия, используемые в настоящих Правилах, оз...</td>\n",
       "      <td>1</td>\n",
       "    </tr>\n",
       "    <tr>\n",
       "      <th>4</th>\n",
       "      <td>\"вознаграждение\" - процентные отчисления, выпл...</td>\n",
       "      <td>1</td>\n",
       "    </tr>\n",
       "    <tr>\n",
       "      <th>...</th>\n",
       "      <td>...</td>\n",
       "      <td>...</td>\n",
       "    </tr>\n",
       "    <tr>\n",
       "      <th>16267</th>\n",
       "      <td>Ответственность за нарушение условий, цели и п...</td>\n",
       "      <td>38</td>\n",
       "    </tr>\n",
       "    <tr>\n",
       "      <th>16268</th>\n",
       "      <td>возврат средств субсидии в федеральный бюджет ...</td>\n",
       "      <td>38</td>\n",
       "    </tr>\n",
       "    <tr>\n",
       "      <th>16269</th>\n",
       "      <td>штрафные санкции, рассчитываемые в соответстви...</td>\n",
       "      <td>38</td>\n",
       "    </tr>\n",
       "    <tr>\n",
       "      <th>16270</th>\n",
       "      <td>В случае если требование, указанное в  настоящ...</td>\n",
       "      <td>38</td>\n",
       "    </tr>\n",
       "    <tr>\n",
       "      <th>16271</th>\n",
       "      <td>на основании требования Министерства экономиче...</td>\n",
       "      <td>18</td>\n",
       "    </tr>\n",
       "  </tbody>\n",
       "</table>\n",
       "<p>16272 rows × 2 columns</p>\n",
       "</div>"
      ],
      "text/plain": [
       "                                                    text target\n",
       "0      Настоящие Правила устанавливают цели, условия ...      2\n",
       "1                                                            18\n",
       "2      Сведения о субсидии размещаются на едином порт...      7\n",
       "3      Понятия, используемые в настоящих Правилах, оз...      1\n",
       "4      \"вознаграждение\" - процентные отчисления, выпл...      1\n",
       "...                                                  ...    ...\n",
       "16267  Ответственность за нарушение условий, цели и п...     38\n",
       "16268  возврат средств субсидии в федеральный бюджет ...     38\n",
       "16269  штрафные санкции, рассчитываемые в соответстви...     38\n",
       "16270  В случае если требование, указанное в  настоящ...     38\n",
       "16271  на основании требования Министерства экономиче...     18\n",
       "\n",
       "[16272 rows x 2 columns]"
      ]
     },
     "execution_count": 14,
     "metadata": {},
     "output_type": "execute_result"
    }
   ],
   "source": [
    "df_target"
   ]
  },
  {
   "cell_type": "code",
   "execution_count": 15,
   "id": "choice-raleigh",
   "metadata": {},
   "outputs": [],
   "source": [
    "raw = df_target[df_target['target'] == '']"
   ]
  },
  {
   "cell_type": "code",
   "execution_count": 16,
   "id": "solid-geneva",
   "metadata": {},
   "outputs": [
    {
     "data": {
      "text/plain": [
       "Int64Index([11379], dtype='int64')"
      ]
     },
     "execution_count": 16,
     "metadata": {},
     "output_type": "execute_result"
    }
   ],
   "source": [
    "raw.index"
   ]
  },
  {
   "cell_type": "code",
   "execution_count": 17,
   "id": "therapeutic-numbers",
   "metadata": {},
   "outputs": [],
   "source": [
    "df_target.drop(labels = [11379],axis = 0, inplace = True)"
   ]
  },
  {
   "cell_type": "code",
   "execution_count": 18,
   "id": "sorted-cross",
   "metadata": {},
   "outputs": [],
   "source": [
    "df_non_target = pd.DataFrame(list(dict_nan_target.items()),\n",
    "                   columns=['text', 'target'])"
   ]
  },
  {
   "cell_type": "code",
   "execution_count": 19,
   "id": "later-membrane",
   "metadata": {},
   "outputs": [
    {
     "data": {
      "text/plain": [
       "nan    5018\n",
       "Name: target, dtype: int64"
      ]
     },
     "execution_count": 19,
     "metadata": {},
     "output_type": "execute_result"
    }
   ],
   "source": [
    "df_non_target.target.value_counts()"
   ]
  },
  {
   "cell_type": "markdown",
   "id": "fewer-canyon",
   "metadata": {},
   "source": [
    "# Слияние Df"
   ]
  },
  {
   "cell_type": "code",
   "execution_count": 20,
   "id": "impossible-management",
   "metadata": {},
   "outputs": [
    {
     "name": "stderr",
     "output_type": "stream",
     "text": [
      "<ipython-input-20-ca48f2f8f6ec>:1: FutureWarning: The frame.append method is deprecated and will be removed from pandas in a future version. Use pandas.concat instead.\n",
      "  df_append = df_non_target.append(df_target, ignore_index=True)\n"
     ]
    }
   ],
   "source": [
    "df_append = df_non_target.append(df_target, ignore_index=True)"
   ]
  },
  {
   "cell_type": "code",
   "execution_count": 21,
   "id": "boolean-rebate",
   "metadata": {},
   "outputs": [],
   "source": [
    "df_append = df_append.sample(frac=1)"
   ]
  },
  {
   "cell_type": "code",
   "execution_count": 22,
   "id": "drawn-damage",
   "metadata": {},
   "outputs": [
    {
     "data": {
      "text/plain": [
       "21289"
      ]
     },
     "execution_count": 22,
     "metadata": {},
     "output_type": "execute_result"
    }
   ],
   "source": [
    "df_append['target'].value_counts()[:].sum()"
   ]
  },
  {
   "cell_type": "markdown",
   "id": "perfect-declaration",
   "metadata": {},
   "source": [
    "# Сохранение Df"
   ]
  },
  {
   "cell_type": "code",
   "execution_count": 2,
   "id": "plastic-preservation",
   "metadata": {},
   "outputs": [
    {
     "ename": "NameError",
     "evalue": "name 'df_append' is not defined",
     "output_type": "error",
     "traceback": [
      "\u001b[1;31m---------------------------------------------------------------------------\u001b[0m",
      "\u001b[1;31mNameError\u001b[0m                                 Traceback (most recent call last)",
      "Input \u001b[1;32mIn [2]\u001b[0m, in \u001b[0;36m<cell line: 1>\u001b[1;34m()\u001b[0m\n\u001b[1;32m----> 1\u001b[0m \u001b[43mdf_append\u001b[49m\u001b[38;5;241m.\u001b[39mto_csv(\u001b[38;5;124mr\u001b[39m\u001b[38;5;124m'\u001b[39m\u001b[38;5;124mC:\u001b[39m\u001b[38;5;124m\\\u001b[39m\u001b[38;5;124mUsers\u001b[39m\u001b[38;5;124m\\\u001b[39m\u001b[38;5;124m79219\u001b[39m\u001b[38;5;124m\\\u001b[39m\u001b[38;5;124mDesktop\u001b[39m\u001b[38;5;124m\\\u001b[39m\u001b[38;5;124mdigital_xakaton\u001b[39m\u001b[38;5;124m\\\u001b[39m\u001b[38;5;124mdata.csv\u001b[39m\u001b[38;5;124m'\u001b[39m, index\u001b[38;5;241m=\u001b[39m\u001b[38;5;28;01mFalse\u001b[39;00m)\n",
      "\u001b[1;31mNameError\u001b[0m: name 'df_append' is not defined"
     ]
    }
   ],
   "source": [
    "df_append.to_csv(r'C:\\Users\\79219\\Desktop\\digital_xakaton\\data.csv', index=False)"
   ]
  },
  {
   "cell_type": "code",
   "execution_count": 23,
   "id": "absent-ordering",
   "metadata": {},
   "outputs": [],
   "source": [
    "df_test = pd.read_csv(r'C:\\Users\\79219\\Desktop\\digital_xakaton\\data.csv')"
   ]
  },
  {
   "cell_type": "code",
   "execution_count": 24,
   "id": "humanitarian-carolina",
   "metadata": {},
   "outputs": [
    {
     "data": {
      "text/html": [
       "<div>\n",
       "<style scoped>\n",
       "    .dataframe tbody tr th:only-of-type {\n",
       "        vertical-align: middle;\n",
       "    }\n",
       "\n",
       "    .dataframe tbody tr th {\n",
       "        vertical-align: top;\n",
       "    }\n",
       "\n",
       "    .dataframe thead th {\n",
       "        text-align: right;\n",
       "    }\n",
       "</style>\n",
       "<table border=\"1\" class=\"dataframe\">\n",
       "  <thead>\n",
       "    <tr style=\"text-align: right;\">\n",
       "      <th></th>\n",
       "      <th>text</th>\n",
       "      <th>target</th>\n",
       "    </tr>\n",
       "  </thead>\n",
       "  <tbody>\n",
       "    <tr>\n",
       "      <th>0</th>\n",
       "      <td>Отчетность об осуществлении расходов, источни...</td>\n",
       "      <td>36</td>\n",
       "    </tr>\n",
       "    <tr>\n",
       "      <th>1</th>\n",
       "      <td>кредитный договор (соглашение) предусматривае...</td>\n",
       "      <td>24</td>\n",
       "    </tr>\n",
       "    <tr>\n",
       "      <th>2</th>\n",
       "      <td>Отчетность, указанная в  и  настоящих Правил, ...</td>\n",
       "      <td>36</td>\n",
       "    </tr>\n",
       "    <tr>\n",
       "      <th>3</th>\n",
       "      <td>Основаниями для отклонения Министерством экон...</td>\n",
       "      <td>17</td>\n",
       "    </tr>\n",
       "    <tr>\n",
       "      <th>4</th>\n",
       "      <td>В случае если значение выражения  более 1, его...</td>\n",
       "      <td>22</td>\n",
       "    </tr>\n",
       "    <tr>\n",
       "      <th>...</th>\n",
       "      <td>...</td>\n",
       "      <td>...</td>\n",
       "    </tr>\n",
       "    <tr>\n",
       "      <th>21284</th>\n",
       "      <td>информация, содержащаяся в документах, указанн...</td>\n",
       "      <td>17</td>\n",
       "    </tr>\n",
       "    <tr>\n",
       "      <th>21285</th>\n",
       "      <td>значения результата предоставления субсидии, ...</td>\n",
       "      <td>24</td>\n",
       "    </tr>\n",
       "    <tr>\n",
       "      <th>21286</th>\n",
       "      <td>значение результатов предоставления субсидии,...</td>\n",
       "      <td>27</td>\n",
       "    </tr>\n",
       "    <tr>\n",
       "      <th>21287</th>\n",
       "      <td>обязанность организации направлять сведения о ...</td>\n",
       "      <td>24</td>\n",
       "    </tr>\n",
       "    <tr>\n",
       "      <th>21288</th>\n",
       "      <td>организации выявления и сопровождения дальнейш...</td>\n",
       "      <td>2</td>\n",
       "    </tr>\n",
       "  </tbody>\n",
       "</table>\n",
       "<p>21289 rows × 2 columns</p>\n",
       "</div>"
      ],
      "text/plain": [
       "                                                    text target\n",
       "0       Отчетность об осуществлении расходов, источни...     36\n",
       "1       кредитный договор (соглашение) предусматривае...     24\n",
       "2      Отчетность, указанная в  и  настоящих Правил, ...     36\n",
       "3       Основаниями для отклонения Министерством экон...     17\n",
       "4      В случае если значение выражения  более 1, его...     22\n",
       "...                                                  ...    ...\n",
       "21284  информация, содержащаяся в документах, указанн...     17\n",
       "21285   значения результата предоставления субсидии, ...     24\n",
       "21286   значение результатов предоставления субсидии,...     27\n",
       "21287  обязанность организации направлять сведения о ...     24\n",
       "21288  организации выявления и сопровождения дальнейш...      2\n",
       "\n",
       "[21289 rows x 2 columns]"
      ]
     },
     "execution_count": 24,
     "metadata": {},
     "output_type": "execute_result"
    }
   ],
   "source": [
    "df_test"
   ]
  },
  {
   "cell_type": "markdown",
   "id": "closing-duplicate",
   "metadata": {},
   "source": [
    "# Анализ Df "
   ]
  },
  {
   "cell_type": "code",
   "execution_count": 25,
   "id": "overhead-titanium",
   "metadata": {},
   "outputs": [],
   "source": [
    "df_append = df_test.copy()"
   ]
  },
  {
   "cell_type": "code",
   "execution_count": 26,
   "id": "collective-belize",
   "metadata": {},
   "outputs": [
    {
     "data": {
      "image/png": "[encoded data removed]",
      "text/plain": [
       "<Figure size 640x480 with 1 Axes>"
      ]
     },
     "metadata": {},
     "output_type": "display_data"
    }
   ],
   "source": [
    "list_cancer = df_append['target'].unique()\n",
    "list_count_values = df_append['target'].value_counts()\n",
    "plt.bar(list_cancer,list_count_values)\n",
    "plt.show()"
   ]
  },
  {
   "cell_type": "code",
   "execution_count": 27,
   "id": "abstract-privacy",
   "metadata": {
    "scrolled": true
   },
   "outputs": [
    {
     "data": {
      "text/plain": [
       "array(['36', '24', '17', '22', '1', 'non', '30', '32', '2', '10', '11',\n",
       "       '20', '38', '35', '19', '21', '13', '27', '15', '8', '18', '7',\n",
       "       '16', '3', '12', '4', '31', '37', '5', '6', '25', '26', '9', '29',\n",
       "       '14', '28', '34', '39', '33', '23'], dtype=object)"
      ]
     },
     "execution_count": 27,
     "metadata": {},
     "output_type": "execute_result"
    }
   ],
   "source": [
    "df_append['target'].unique()\n"
   ]
  },
  {
   "cell_type": "code",
   "execution_count": 28,
   "id": "threaded-affiliate",
   "metadata": {
    "scrolled": true
   },
   "outputs": [
    {
     "data": {
      "text/plain": [
       "non    5018\n",
       "24     1432\n",
       "11     1266\n",
       "19     1183\n",
       "10     1056\n",
       "38      942\n",
       "22      927\n",
       "27      909\n",
       "35      880\n",
       "15      740\n",
       "1       656\n",
       "2       645\n",
       "30      602\n",
       "36      556\n",
       "21      523\n",
       "12      438\n",
       "20      329\n",
       "17      312\n",
       "4       291\n",
       "37      263\n",
       "7       233\n",
       "13      227\n",
       "3       209\n",
       "16      202\n",
       "6       175\n",
       "29      151\n",
       "28      144\n",
       "26      114\n",
       "25      109\n",
       "18      105\n",
       "32      102\n",
       "31       95\n",
       "5        85\n",
       "8        80\n",
       "39       72\n",
       "23       62\n",
       "33       46\n",
       "14       41\n",
       "34       38\n",
       "9        31\n",
       "Name: target, dtype: int64"
      ]
     },
     "execution_count": 28,
     "metadata": {},
     "output_type": "execute_result"
    }
   ],
   "source": [
    "df_append.target.value_counts()"
   ]
  },
  {
   "cell_type": "code",
   "execution_count": 29,
   "id": "refined-pressure",
   "metadata": {},
   "outputs": [
    {
     "data": {
      "text/plain": [
       "40"
      ]
     },
     "execution_count": 29,
     "metadata": {},
     "output_type": "execute_result"
    }
   ],
   "source": [
    "len(df_append.target.unique())"
   ]
  },
  {
   "cell_type": "code",
   "execution_count": 30,
   "id": "compressed-alloy",
   "metadata": {},
   "outputs": [
    {
     "data": {
      "text/plain": [
       "text      2\n",
       "target    0\n",
       "dtype: int64"
      ]
     },
     "execution_count": 30,
     "metadata": {},
     "output_type": "execute_result"
    }
   ],
   "source": [
    "df_append.isnull().sum()"
   ]
  },
  {
   "cell_type": "code",
   "execution_count": null,
   "id": "processed-crash",
   "metadata": {},
   "outputs": [],
   "source": []
  },
  {
   "cell_type": "code",
   "execution_count": 31,
   "id": "arranged-translator",
   "metadata": {
    "scrolled": true
   },
   "outputs": [
    {
     "data": {
      "text/html": [
       "<div>\n",
       "<style scoped>\n",
       "    .dataframe tbody tr th:only-of-type {\n",
       "        vertical-align: middle;\n",
       "    }\n",
       "\n",
       "    .dataframe tbody tr th {\n",
       "        vertical-align: top;\n",
       "    }\n",
       "\n",
       "    .dataframe thead th {\n",
       "        text-align: right;\n",
       "    }\n",
       "</style>\n",
       "<table border=\"1\" class=\"dataframe\">\n",
       "  <thead>\n",
       "    <tr style=\"text-align: right;\">\n",
       "      <th></th>\n",
       "      <th>text</th>\n",
       "      <th>target</th>\n",
       "    </tr>\n",
       "  </thead>\n",
       "  <tbody>\n",
       "    <tr>\n",
       "      <th>0</th>\n",
       "      <td>Отчетность об осуществлении расходов, источни...</td>\n",
       "      <td>36</td>\n",
       "    </tr>\n",
       "    <tr>\n",
       "      <th>1</th>\n",
       "      <td>кредитный договор (соглашение) предусматривае...</td>\n",
       "      <td>24</td>\n",
       "    </tr>\n",
       "    <tr>\n",
       "      <th>2</th>\n",
       "      <td>Отчетность, указанная в  и  настоящих Правил, ...</td>\n",
       "      <td>36</td>\n",
       "    </tr>\n",
       "    <tr>\n",
       "      <th>3</th>\n",
       "      <td>Основаниями для отклонения Министерством экон...</td>\n",
       "      <td>17</td>\n",
       "    </tr>\n",
       "    <tr>\n",
       "      <th>4</th>\n",
       "      <td>В случае если значение выражения  более 1, его...</td>\n",
       "      <td>22</td>\n",
       "    </tr>\n",
       "    <tr>\n",
       "      <th>...</th>\n",
       "      <td>...</td>\n",
       "      <td>...</td>\n",
       "    </tr>\n",
       "    <tr>\n",
       "      <th>21284</th>\n",
       "      <td>информация, содержащаяся в документах, указанн...</td>\n",
       "      <td>17</td>\n",
       "    </tr>\n",
       "    <tr>\n",
       "      <th>21285</th>\n",
       "      <td>значения результата предоставления субсидии, ...</td>\n",
       "      <td>24</td>\n",
       "    </tr>\n",
       "    <tr>\n",
       "      <th>21286</th>\n",
       "      <td>значение результатов предоставления субсидии,...</td>\n",
       "      <td>27</td>\n",
       "    </tr>\n",
       "    <tr>\n",
       "      <th>21287</th>\n",
       "      <td>обязанность организации направлять сведения о ...</td>\n",
       "      <td>24</td>\n",
       "    </tr>\n",
       "    <tr>\n",
       "      <th>21288</th>\n",
       "      <td>организации выявления и сопровождения дальнейш...</td>\n",
       "      <td>2</td>\n",
       "    </tr>\n",
       "  </tbody>\n",
       "</table>\n",
       "<p>21289 rows × 2 columns</p>\n",
       "</div>"
      ],
      "text/plain": [
       "                                                    text target\n",
       "0       Отчетность об осуществлении расходов, источни...     36\n",
       "1       кредитный договор (соглашение) предусматривае...     24\n",
       "2      Отчетность, указанная в  и  настоящих Правил, ...     36\n",
       "3       Основаниями для отклонения Министерством экон...     17\n",
       "4      В случае если значение выражения  более 1, его...     22\n",
       "...                                                  ...    ...\n",
       "21284  информация, содержащаяся в документах, указанн...     17\n",
       "21285   значения результата предоставления субсидии, ...     24\n",
       "21286   значение результатов предоставления субсидии,...     27\n",
       "21287  обязанность организации направлять сведения о ...     24\n",
       "21288  организации выявления и сопровождения дальнейш...      2\n",
       "\n",
       "[21289 rows x 2 columns]"
      ]
     },
     "execution_count": 31,
     "metadata": {},
     "output_type": "execute_result"
    }
   ],
   "source": [
    "df_append.fillna(0)"
   ]
  },
  {
   "cell_type": "code",
   "execution_count": 32,
   "id": "composed-vanilla",
   "metadata": {},
   "outputs": [
    {
     "data": {
      "text/plain": [
       "text      2\n",
       "target    0\n",
       "dtype: int64"
      ]
     },
     "execution_count": 32,
     "metadata": {},
     "output_type": "execute_result"
    }
   ],
   "source": [
    "df_append.isnull().sum()"
   ]
  },
  {
   "cell_type": "code",
   "execution_count": 33,
   "id": "fifth-preview",
   "metadata": {
    "scrolled": true
   },
   "outputs": [
    {
     "data": {
      "text/plain": [
       "24"
      ]
     },
     "execution_count": 33,
     "metadata": {},
     "output_type": "execute_result"
    }
   ],
   "source": [
    "df_append.text.duplicated().sum()"
   ]
  },
  {
   "cell_type": "markdown",
   "id": "affiliated-academy",
   "metadata": {},
   "source": [
    "# Функции для предобработки "
   ]
  },
  {
   "cell_type": "code",
   "execution_count": 34,
   "id": "brief-custom",
   "metadata": {},
   "outputs": [],
   "source": [
    "stop_words = set(stopwords.words('russian'))\n",
    "nlp = spacy.load('ru_core_news_lg')\n",
    "stemmer = snow('russian')\n",
    "text_cleaning_re = \"[A-Za-z0-9!#$%&'()*+,./:;<=>?@[\\]^_`{|}~—\\\"\\-]+\"\n"
   ]
  },
  {
   "cell_type": "code",
   "execution_count": 35,
   "id": "sticky-mozambique",
   "metadata": {},
   "outputs": [],
   "source": [
    "def clear_text(text):\n",
    "    tokens = []\n",
    "    text = re.sub(text_cleaning_re, ' ', str(text).lower()).strip()\n",
    "    text = re.sub(r'\\s+', ' ', text)\n",
    "    for token in text.split():\n",
    "        if token not in stop_words:\n",
    "            token = \"\".join(c for c in token if token.isalnum())\n",
    "            tokens.append(token)\n",
    "    return \" \".join(tokens)\n",
    "\n",
    "def pre_process(text):\n",
    "    tokens = []\n",
    "    for token in text.split():\n",
    "        tokens.append(stemmer.stem(token))\n",
    "    return \" \".join(tokens)\n",
    "\n",
    "\n",
    "def lemm_text_test(doc):\n",
    "    tokens = []\n",
    "    sentense = nlp(doc)\n",
    "    for token in sentense:\n",
    "        tokens.append(token.lemma_)\n",
    "        \n",
    "    return \" \".join(tokens)"
   ]
  },
  {
   "cell_type": "code",
   "execution_count": 36,
   "id": "exterior-dream",
   "metadata": {},
   "outputs": [
    {
     "data": {
      "text/plain": [
       "0         Отчетность об осуществлении расходов, источни...\n",
       "1         кредитный договор (соглашение) предусматривае...\n",
       "2        Отчетность, указанная в  и  настоящих Правил, ...\n",
       "3         Основаниями для отклонения Министерством экон...\n",
       "4        В случае если значение выражения  более 1, его...\n",
       "                               ...                        \n",
       "21284    информация, содержащаяся в документах, указанн...\n",
       "21285     значения результата предоставления субсидии, ...\n",
       "21286     значение результатов предоставления субсидии,...\n",
       "21287    обязанность организации направлять сведения о ...\n",
       "21288    организации выявления и сопровождения дальнейш...\n",
       "Name: text, Length: 21289, dtype: object"
      ]
     },
     "execution_count": 36,
     "metadata": {},
     "output_type": "execute_result"
    }
   ],
   "source": [
    "df_append.text"
   ]
  },
  {
   "cell_type": "code",
   "execution_count": 37,
   "id": "polish-poster",
   "metadata": {},
   "outputs": [
    {
     "name": "stdout",
     "output_type": "stream",
     "text": [
      "CPU times: total: 1.23 s\n",
      "Wall time: 1.23 s\n"
     ]
    }
   ],
   "source": [
    "%%time\n",
    "texts_ = df_append.text.apply(lambda x: clear_text(x))"
   ]
  },
  {
   "cell_type": "code",
   "execution_count": 38,
   "id": "recent-disease",
   "metadata": {},
   "outputs": [
    {
     "data": {
      "text/plain": [
       "0        отчетность осуществлении расходов источником ф...\n",
       "1        кредитный договор соглашение предусматривает п...\n",
       "2        отчетность указанная настоящих правил представ...\n",
       "3        основаниями отклонения министерством экономиче...\n",
       "4        случае значение выражения значение принимается...\n",
       "                               ...                        \n",
       "21284    информация содержащаяся документах указанных н...\n",
       "21285    значения результата предоставления субсидии со...\n",
       "21286    значение результатов предоставления субсидии т...\n",
       "21287    обязанность организации направлять сведения пр...\n",
       "21288    организации выявления сопровождения дальнейшег...\n",
       "Name: text, Length: 21289, dtype: object"
      ]
     },
     "execution_count": 38,
     "metadata": {},
     "output_type": "execute_result"
    }
   ],
   "source": [
    "texts_"
   ]
  },
  {
   "cell_type": "code",
   "execution_count": 39,
   "id": "cleared-vault",
   "metadata": {},
   "outputs": [
    {
     "name": "stdout",
     "output_type": "stream",
     "text": [
      "CPU times: total: 18.4 s\n",
      "Wall time: 18.4 s\n"
     ]
    }
   ],
   "source": [
    "%%time\n",
    "texts_stemm = texts_.apply(lambda x: pre_process(x))"
   ]
  },
  {
   "cell_type": "code",
   "execution_count": 40,
   "id": "aboriginal-south",
   "metadata": {},
   "outputs": [
    {
     "data": {
      "text/plain": [
       "0        отчетн осуществлен расход источник финансов об...\n",
       "1        кредитн договор соглашен предусматрива получен...\n",
       "2        отчетн указа настоя прав представля форм устан...\n",
       "3        основан отклонен министерств экономическ разви...\n",
       "4                 случа значен выражен значен принима равн\n",
       "                               ...                        \n",
       "21284    информац содержа документ указа настоя прав чи...\n",
       "21285    значен результат предоставлен субсид соответст...\n",
       "21286    значен результат предоставлен субсид такж пока...\n",
       "21287    обязан организац направля сведен проведен науч...\n",
       "21288    организац выявлен сопровожден дальн развит дет...\n",
       "Name: text, Length: 21289, dtype: object"
      ]
     },
     "execution_count": 40,
     "metadata": {},
     "output_type": "execute_result"
    }
   ],
   "source": [
    "texts_stemm"
   ]
  },
  {
   "cell_type": "markdown",
   "id": "comparative-omega",
   "metadata": {},
   "source": [
    "# TFiDF"
   ]
  },
  {
   "cell_type": "code",
   "execution_count": 41,
   "id": "residential-geometry",
   "metadata": {},
   "outputs": [],
   "source": [
    "tfidf=TfidfVectorizer(max_features=12500,ngram_range=(1,3))"
   ]
  },
  {
   "cell_type": "markdown",
   "id": "prospective-laugh",
   "metadata": {},
   "source": [
    "# Создание X , Y"
   ]
  },
  {
   "cell_type": "code",
   "execution_count": 42,
   "id": "earned-david",
   "metadata": {},
   "outputs": [],
   "source": [
    "X = texts_stemm\n",
    "y = df_append.target.values"
   ]
  },
  {
   "cell_type": "code",
   "execution_count": 43,
   "id": "separated-japan",
   "metadata": {},
   "outputs": [
    {
     "data": {
      "text/plain": [
       "(21289,)"
      ]
     },
     "execution_count": 43,
     "metadata": {},
     "output_type": "execute_result"
    }
   ],
   "source": [
    "X.shape"
   ]
  },
  {
   "cell_type": "code",
   "execution_count": 44,
   "id": "blocked-pencil",
   "metadata": {},
   "outputs": [
    {
     "data": {
      "text/plain": [
       "(21289,)"
      ]
     },
     "execution_count": 44,
     "metadata": {},
     "output_type": "execute_result"
    }
   ],
   "source": [
    "y.shape"
   ]
  },
  {
   "cell_type": "code",
   "execution_count": 50,
   "id": "stainless-witness",
   "metadata": {},
   "outputs": [],
   "source": [
    "X_test = tfidf.fit_transform(X)"
   ]
  },
  {
   "cell_type": "markdown",
   "id": "valid-illinois",
   "metadata": {},
   "source": [
    "# разделение выборки"
   ]
  },
  {
   "cell_type": "code",
   "execution_count": 45,
   "id": "pressing-status",
   "metadata": {},
   "outputs": [],
   "source": [
    "X_train,X_test,y_train,y_test=train_test_split(X,y,test_size=0.35,random_state=56)"
   ]
  },
  {
   "cell_type": "code",
   "execution_count": 46,
   "id": "vulnerable-mobility",
   "metadata": {},
   "outputs": [],
   "source": [
    "X_train_vector = tfidf.fit_transform(X_train)\n",
    "X_test_vector = tfidf.transform(X_test)"
   ]
  },
  {
   "cell_type": "markdown",
   "id": "korean-metabolism",
   "metadata": {},
   "source": [
    "# Первая модель ML"
   ]
  },
  {
   "cell_type": "code",
   "execution_count": 47,
   "id": "unknown-ensemble",
   "metadata": {},
   "outputs": [],
   "source": [
    "LR = LogisticRegression( random_state=64, solver='lbfgs', max_iter=10000, n_jobs=-1)\n"
   ]
  },
  {
   "cell_type": "code",
   "execution_count": 48,
   "id": "proud-catholic",
   "metadata": {},
   "outputs": [],
   "source": [
    "bb=BernoulliNB(alpha=0.5)\n"
   ]
  },
  {
   "cell_type": "code",
   "execution_count": 49,
   "id": "familiar-effect",
   "metadata": {},
   "outputs": [],
   "source": [
    "def train(model):\n",
    "    model.fit(X_train_vector,y_train)\n",
    "    y_predict=model.predict(X_test_vector)\n",
    "    print(model)\n",
    "    print(confusion_matrix(y_test,y_predict))\n",
    "    print(classification_report(y_test,y_predict))\n",
    "    print(accuracy_score(y_test,y_predict))"
   ]
  },
  {
   "cell_type": "code",
   "execution_count": 50,
   "id": "federal-comment",
   "metadata": {},
   "outputs": [
    {
     "data": {
      "text/plain": [
       "<13837x12500 sparse matrix of type '<class 'numpy.float64'>'\n",
       "\twith 489573 stored elements in Compressed Sparse Row format>"
      ]
     },
     "execution_count": 50,
     "metadata": {},
     "output_type": "execute_result"
    }
   ],
   "source": [
    "X_train_vector"
   ]
  },
  {
   "cell_type": "code",
   "execution_count": 51,
   "id": "fundamental-section",
   "metadata": {
    "scrolled": true
   },
   "outputs": [
    {
     "name": "stdout",
     "output_type": "stream",
     "text": [
      "BernoulliNB(alpha=0.5)\n",
      "[[ 102    4    0 ...    0    0   70]\n",
      " [   0  227    5 ...    0    0   56]\n",
      " [  15    9  264 ...    0    0   76]\n",
      " ...\n",
      " [   1    4    0 ...    3    0    5]\n",
      " [   0    4    0 ...    0    0    4]\n",
      " [  28   14    8 ...    0    0 1511]]\n",
      "              precision    recall  f1-score   support\n",
      "\n",
      "           1       0.41      0.44      0.42       231\n",
      "          10       0.61      0.62      0.61       365\n",
      "          11       0.74      0.59      0.66       446\n",
      "          12       0.32      0.12      0.18       164\n",
      "          13       0.28      0.08      0.12        89\n",
      "          14       0.00      0.00      0.00        22\n",
      "          15       0.38      0.39      0.38       253\n",
      "          16       0.44      0.11      0.17        76\n",
      "          17       0.57      0.47      0.51       100\n",
      "          18       0.33      0.11      0.16        38\n",
      "          19       0.63      0.48      0.54       403\n",
      "           2       0.51      0.40      0.45       219\n",
      "          20       0.44      0.44      0.44       124\n",
      "          21       0.66      0.71      0.68       198\n",
      "          22       0.41      0.54      0.47       295\n",
      "          23       0.00      0.00      0.00        23\n",
      "          24       0.52      0.26      0.35       509\n",
      "          25       0.45      0.74      0.56        34\n",
      "          26       0.00      0.00      0.00        45\n",
      "          27       0.47      0.61      0.53       321\n",
      "          28       0.30      0.13      0.18        46\n",
      "          29       0.85      0.64      0.73        55\n",
      "           3       0.38      0.44      0.41        79\n",
      "          30       0.47      0.57      0.51       198\n",
      "          31       0.75      0.80      0.77        30\n",
      "          32       0.50      0.44      0.47        36\n",
      "          33       0.00      0.00      0.00        18\n",
      "          34       0.00      0.00      0.00        11\n",
      "          35       0.29      0.20      0.24       312\n",
      "          36       0.62      0.67      0.64       187\n",
      "          37       0.62      0.71      0.66        97\n",
      "          38       0.76      0.71      0.74       343\n",
      "          39       0.00      0.00      0.00        28\n",
      "           4       0.59      0.15      0.24       107\n",
      "           5       1.00      0.04      0.08        25\n",
      "           6       0.25      0.01      0.03        69\n",
      "           7       0.72      0.44      0.55        77\n",
      "           8       0.50      0.12      0.19        25\n",
      "           9       0.00      0.00      0.00        13\n",
      "         non       0.56      0.87      0.68      1741\n",
      "\n",
      "    accuracy                           0.54      7452\n",
      "   macro avg       0.43      0.35      0.36      7452\n",
      "weighted avg       0.53      0.54      0.51      7452\n",
      "\n",
      "0.5449543746645196\n",
      "CPU times: total: 188 ms\n",
      "Wall time: 213 ms\n"
     ]
    },
    {
     "name": "stderr",
     "output_type": "stream",
     "text": [
      "C:\\Prog\\lib\\site-packages\\sklearn\\metrics\\_classification.py:1248: UndefinedMetricWarning: Precision and F-score are ill-defined and being set to 0.0 in labels with no predicted samples. Use `zero_division` parameter to control this behavior.\n",
      "  _warn_prf(average, modifier, msg_start, len(result))\n",
      "C:\\Prog\\lib\\site-packages\\sklearn\\metrics\\_classification.py:1248: UndefinedMetricWarning: Precision and F-score are ill-defined and being set to 0.0 in labels with no predicted samples. Use `zero_division` parameter to control this behavior.\n",
      "  _warn_prf(average, modifier, msg_start, len(result))\n",
      "C:\\Prog\\lib\\site-packages\\sklearn\\metrics\\_classification.py:1248: UndefinedMetricWarning: Precision and F-score are ill-defined and being set to 0.0 in labels with no predicted samples. Use `zero_division` parameter to control this behavior.\n",
      "  _warn_prf(average, modifier, msg_start, len(result))\n"
     ]
    }
   ],
   "source": [
    "%%time\n",
    "train(bb)"
   ]
  },
  {
   "cell_type": "code",
   "execution_count": 52,
   "id": "friendly-republican",
   "metadata": {
    "scrolled": true
   },
   "outputs": [
    {
     "name": "stdout",
     "output_type": "stream",
     "text": [
      "LogisticRegression(max_iter=10000, n_jobs=-1, random_state=64)\n",
      "[[  88    1    3 ...    0    0  100]\n",
      " [   0  244    6 ...    0    0   34]\n",
      " [   5    3  304 ...    0    0   70]\n",
      " ...\n",
      " [   0    5    0 ...    2    0    8]\n",
      " [   2    8    0 ...    0    0    0]\n",
      " [   4   11   13 ...    0    0 1609]]\n",
      "              precision    recall  f1-score   support\n",
      "\n",
      "           1       0.69      0.38      0.49       231\n",
      "          10       0.63      0.67      0.65       365\n",
      "          11       0.71      0.68      0.70       446\n",
      "          12       0.55      0.10      0.17       164\n",
      "          13       1.00      0.01      0.02        89\n",
      "          14       0.00      0.00      0.00        22\n",
      "          15       0.46      0.41      0.43       253\n",
      "          16       0.56      0.29      0.38        76\n",
      "          17       0.60      0.48      0.53       100\n",
      "          18       0.41      0.24      0.30        38\n",
      "          19       0.65      0.69      0.67       403\n",
      "           2       0.75      0.47      0.57       219\n",
      "          20       0.50      0.41      0.45       124\n",
      "          21       0.76      0.69      0.72       198\n",
      "          22       0.54      0.61      0.57       295\n",
      "          23       0.00      0.00      0.00        23\n",
      "          24       0.47      0.51      0.49       509\n",
      "          25       0.49      0.65      0.56        34\n",
      "          26       0.00      0.00      0.00        45\n",
      "          27       0.67      0.64      0.65       321\n",
      "          28       0.44      0.15      0.23        46\n",
      "          29       0.76      0.75      0.75        55\n",
      "           3       0.55      0.37      0.44        79\n",
      "          30       0.61      0.58      0.59       198\n",
      "          31       0.72      0.77      0.74        30\n",
      "          32       0.56      0.42      0.48        36\n",
      "          33       0.00      0.00      0.00        18\n",
      "          34       0.00      0.00      0.00        11\n",
      "          35       0.35      0.24      0.29       312\n",
      "          36       0.69      0.67      0.68       187\n",
      "          37       0.76      0.70      0.73        97\n",
      "          38       0.74      0.79      0.76       343\n",
      "          39       0.80      0.14      0.24        28\n",
      "           4       0.53      0.15      0.23       107\n",
      "           5       0.00      0.00      0.00        25\n",
      "           6       0.00      0.00      0.00        69\n",
      "           7       0.81      0.45      0.58        77\n",
      "           8       1.00      0.08      0.15        25\n",
      "           9       0.00      0.00      0.00        13\n",
      "         non       0.59      0.92      0.72      1741\n",
      "\n",
      "    accuracy                           0.60      7452\n",
      "   macro avg       0.51      0.38      0.40      7452\n",
      "weighted avg       0.59      0.60      0.57      7452\n",
      "\n",
      "0.6042673107890499\n",
      "CPU times: total: 297 ms\n",
      "Wall time: 20.3 s\n"
     ]
    },
    {
     "name": "stderr",
     "output_type": "stream",
     "text": [
      "C:\\Prog\\lib\\site-packages\\sklearn\\metrics\\_classification.py:1248: UndefinedMetricWarning: Precision and F-score are ill-defined and being set to 0.0 in labels with no predicted samples. Use `zero_division` parameter to control this behavior.\n",
      "  _warn_prf(average, modifier, msg_start, len(result))\n",
      "C:\\Prog\\lib\\site-packages\\sklearn\\metrics\\_classification.py:1248: UndefinedMetricWarning: Precision and F-score are ill-defined and being set to 0.0 in labels with no predicted samples. Use `zero_division` parameter to control this behavior.\n",
      "  _warn_prf(average, modifier, msg_start, len(result))\n",
      "C:\\Prog\\lib\\site-packages\\sklearn\\metrics\\_classification.py:1248: UndefinedMetricWarning: Precision and F-score are ill-defined and being set to 0.0 in labels with no predicted samples. Use `zero_division` parameter to control this behavior.\n",
      "  _warn_prf(average, modifier, msg_start, len(result))\n"
     ]
    }
   ],
   "source": [
    "%%time\n",
    "train(LR)"
   ]
  },
  {
   "cell_type": "code",
   "execution_count": 53,
   "id": "miniature-charter",
   "metadata": {},
   "outputs": [
    {
     "data": {
      "text/plain": [
       "0.6029253891572732"
      ]
     },
     "execution_count": 53,
     "metadata": {},
     "output_type": "execute_result"
    }
   ],
   "source": [
    "0.6029253891572732"
   ]
  },
  {
   "cell_type": "code",
   "execution_count": 54,
   "id": "binding-clerk",
   "metadata": {
    "scrolled": true
   },
   "outputs": [
    {
     "data": {
      "text/plain": [
       "0.30515297906602257"
      ]
     },
     "execution_count": 54,
     "metadata": {},
     "output_type": "execute_result"
    }
   ],
   "source": [
    "0.30515297906602257"
   ]
  },
  {
   "cell_type": "code",
   "execution_count": 55,
   "id": "advanced-constraint",
   "metadata": {},
   "outputs": [],
   "source": [
    "from sklearn.ensemble import RandomForestClassifier\n"
   ]
  },
  {
   "cell_type": "code",
   "execution_count": 56,
   "id": "quarterly-allah",
   "metadata": {},
   "outputs": [],
   "source": [
    "classifier = RandomForestClassifier(n_estimators=2000, random_state=0, n_jobs=-1)"
   ]
  },
  {
   "cell_type": "code",
   "execution_count": 57,
   "id": "absolute-cylinder",
   "metadata": {
    "scrolled": true
   },
   "outputs": [
    {
     "name": "stdout",
     "output_type": "stream",
     "text": [
      "RandomForestClassifier(n_estimators=2000, n_jobs=-1, random_state=0)\n",
      "[[ 112    0    1 ...    0    0   93]\n",
      " [   1  249    4 ...    0    0   34]\n",
      " [   2    5  282 ...    0    0   58]\n",
      " ...\n",
      " [   0    4    0 ...    3    1    6]\n",
      " [   0    7    0 ...    0    0    4]\n",
      " [   8   13   13 ...    1    0 1590]]\n",
      "              precision    recall  f1-score   support\n",
      "\n",
      "           1       0.79      0.48      0.60       231\n",
      "          10       0.64      0.68      0.66       365\n",
      "          11       0.71      0.63      0.67       446\n",
      "          12       0.47      0.22      0.30       164\n",
      "          13       0.30      0.10      0.15        89\n",
      "          14       1.00      0.09      0.17        22\n",
      "          15       0.46      0.44      0.45       253\n",
      "          16       0.60      0.36      0.45        76\n",
      "          17       0.60      0.60      0.60       100\n",
      "          18       0.26      0.18      0.22        38\n",
      "          19       0.61      0.66      0.63       403\n",
      "           2       0.79      0.57      0.66       219\n",
      "          20       0.54      0.47      0.50       124\n",
      "          21       0.71      0.72      0.72       198\n",
      "          22       0.53      0.62      0.57       295\n",
      "          23       0.57      0.17      0.27        23\n",
      "          24       0.52      0.51      0.51       509\n",
      "          25       0.48      0.68      0.56        34\n",
      "          26       0.12      0.07      0.09        45\n",
      "          27       0.72      0.73      0.73       321\n",
      "          28       0.21      0.13      0.16        46\n",
      "          29       0.69      0.69      0.69        55\n",
      "           3       0.41      0.33      0.36        79\n",
      "          30       0.65      0.65      0.65       198\n",
      "          31       0.67      0.80      0.73        30\n",
      "          32       0.48      0.39      0.43        36\n",
      "          33       0.71      0.28      0.40        18\n",
      "          34       0.00      0.00      0.00        11\n",
      "          35       0.47      0.27      0.34       312\n",
      "          36       0.65      0.69      0.67       187\n",
      "          37       0.69      0.72      0.70        97\n",
      "          38       0.73      0.76      0.74       343\n",
      "          39       0.40      0.14      0.21        28\n",
      "           4       0.55      0.24      0.34       107\n",
      "           5       0.07      0.04      0.05        25\n",
      "           6       0.52      0.19      0.28        69\n",
      "           7       0.71      0.48      0.57        77\n",
      "           8       0.30      0.12      0.17        25\n",
      "           9       0.00      0.00      0.00        13\n",
      "         non       0.65      0.91      0.76      1741\n",
      "\n",
      "    accuracy                           0.62      7452\n",
      "   macro avg       0.52      0.42      0.44      7452\n",
      "weighted avg       0.61      0.62      0.60      7452\n",
      "\n",
      "0.6245303274288782\n",
      "CPU times: total: 23min 14s\n",
      "Wall time: 2min 20s\n"
     ]
    },
    {
     "name": "stderr",
     "output_type": "stream",
     "text": [
      "C:\\Prog\\lib\\site-packages\\sklearn\\metrics\\_classification.py:1248: UndefinedMetricWarning: Precision and F-score are ill-defined and being set to 0.0 in labels with no predicted samples. Use `zero_division` parameter to control this behavior.\n",
      "  _warn_prf(average, modifier, msg_start, len(result))\n",
      "C:\\Prog\\lib\\site-packages\\sklearn\\metrics\\_classification.py:1248: UndefinedMetricWarning: Precision and F-score are ill-defined and being set to 0.0 in labels with no predicted samples. Use `zero_division` parameter to control this behavior.\n",
      "  _warn_prf(average, modifier, msg_start, len(result))\n",
      "C:\\Prog\\lib\\site-packages\\sklearn\\metrics\\_classification.py:1248: UndefinedMetricWarning: Precision and F-score are ill-defined and being set to 0.0 in labels with no predicted samples. Use `zero_division` parameter to control this behavior.\n",
      "  _warn_prf(average, modifier, msg_start, len(result))\n"
     ]
    }
   ],
   "source": [
    "%%time\n",
    "train(classifier)"
   ]
  },
  {
   "cell_type": "code",
   "execution_count": 58,
   "id": "southwest-disaster",
   "metadata": {},
   "outputs": [
    {
     "data": {
      "text/plain": [
       "0.6245303274288782"
      ]
     },
     "execution_count": 58,
     "metadata": {},
     "output_type": "execute_result"
    }
   ],
   "source": [
    "0.6245303274288782"
   ]
  },
  {
   "cell_type": "code",
   "execution_count": 59,
   "id": "military-plate",
   "metadata": {},
   "outputs": [
    {
     "data": {
      "text/plain": [
       "0.620101986044015"
      ]
     },
     "execution_count": 59,
     "metadata": {},
     "output_type": "execute_result"
    }
   ],
   "source": [
    "0.620101986044015"
   ]
  },
  {
   "cell_type": "code",
   "execution_count": 60,
   "id": "great-lying",
   "metadata": {
    "scrolled": true
   },
   "outputs": [
    {
     "name": "stdout",
     "output_type": "stream",
     "text": [
      "BernoulliNB(alpha=0.5)\n",
      "[[ 102    4    0 ...    0    0   70]\n",
      " [   0  227    5 ...    0    0   56]\n",
      " [  15    9  264 ...    0    0   76]\n",
      " ...\n",
      " [   1    4    0 ...    3    0    5]\n",
      " [   0    4    0 ...    0    0    4]\n",
      " [  28   14    8 ...    0    0 1511]]\n",
      "              precision    recall  f1-score   support\n",
      "\n",
      "           1       0.41      0.44      0.42       231\n",
      "          10       0.61      0.62      0.61       365\n",
      "          11       0.74      0.59      0.66       446\n",
      "          12       0.32      0.12      0.18       164\n",
      "          13       0.28      0.08      0.12        89\n",
      "          14       0.00      0.00      0.00        22\n",
      "          15       0.38      0.39      0.38       253\n",
      "          16       0.44      0.11      0.17        76\n",
      "          17       0.57      0.47      0.51       100\n",
      "          18       0.33      0.11      0.16        38\n",
      "          19       0.63      0.48      0.54       403\n",
      "           2       0.51      0.40      0.45       219\n",
      "          20       0.44      0.44      0.44       124\n",
      "          21       0.66      0.71      0.68       198\n",
      "          22       0.41      0.54      0.47       295\n",
      "          23       0.00      0.00      0.00        23\n",
      "          24       0.52      0.26      0.35       509\n",
      "          25       0.45      0.74      0.56        34\n",
      "          26       0.00      0.00      0.00        45\n",
      "          27       0.47      0.61      0.53       321\n",
      "          28       0.30      0.13      0.18        46\n",
      "          29       0.85      0.64      0.73        55\n",
      "           3       0.38      0.44      0.41        79\n",
      "          30       0.47      0.57      0.51       198\n",
      "          31       0.75      0.80      0.77        30\n",
      "          32       0.50      0.44      0.47        36\n",
      "          33       0.00      0.00      0.00        18\n",
      "          34       0.00      0.00      0.00        11\n",
      "          35       0.29      0.20      0.24       312\n",
      "          36       0.62      0.67      0.64       187\n",
      "          37       0.62      0.71      0.66        97\n",
      "          38       0.76      0.71      0.74       343\n",
      "          39       0.00      0.00      0.00        28\n",
      "           4       0.59      0.15      0.24       107\n",
      "           5       1.00      0.04      0.08        25\n",
      "           6       0.25      0.01      0.03        69\n",
      "           7       0.72      0.44      0.55        77\n",
      "           8       0.50      0.12      0.19        25\n",
      "           9       0.00      0.00      0.00        13\n",
      "         non       0.56      0.87      0.68      1741\n",
      "\n",
      "    accuracy                           0.54      7452\n",
      "   macro avg       0.43      0.35      0.36      7452\n",
      "weighted avg       0.53      0.54      0.51      7452\n",
      "\n",
      "0.5449543746645196\n",
      "CPU times: total: 312 ms\n",
      "Wall time: 339 ms\n"
     ]
    },
    {
     "name": "stderr",
     "output_type": "stream",
     "text": [
      "C:\\Prog\\lib\\site-packages\\sklearn\\metrics\\_classification.py:1248: UndefinedMetricWarning: Precision and F-score are ill-defined and being set to 0.0 in labels with no predicted samples. Use `zero_division` parameter to control this behavior.\n",
      "  _warn_prf(average, modifier, msg_start, len(result))\n",
      "C:\\Prog\\lib\\site-packages\\sklearn\\metrics\\_classification.py:1248: UndefinedMetricWarning: Precision and F-score are ill-defined and being set to 0.0 in labels with no predicted samples. Use `zero_division` parameter to control this behavior.\n",
      "  _warn_prf(average, modifier, msg_start, len(result))\n",
      "C:\\Prog\\lib\\site-packages\\sklearn\\metrics\\_classification.py:1248: UndefinedMetricWarning: Precision and F-score are ill-defined and being set to 0.0 in labels with no predicted samples. Use `zero_division` parameter to control this behavior.\n",
      "  _warn_prf(average, modifier, msg_start, len(result))\n"
     ]
    }
   ],
   "source": [
    "%%time\n",
    "train(bb)"
   ]
  },
  {
   "cell_type": "code",
   "execution_count": 61,
   "id": "multiple-reach",
   "metadata": {},
   "outputs": [
    {
     "data": {
      "text/plain": [
       "0.2917337627482555"
      ]
     },
     "execution_count": 61,
     "metadata": {},
     "output_type": "execute_result"
    }
   ],
   "source": [
    "0.2917337627482555"
   ]
  },
  {
   "cell_type": "code",
   "execution_count": 106,
   "id": "marked-backup",
   "metadata": {},
   "outputs": [],
   "source": [
    "from sklearn.naive_bayes import MultinomialNB"
   ]
  },
  {
   "cell_type": "code",
   "execution_count": 109,
   "id": "operating-paradise",
   "metadata": {},
   "outputs": [],
   "source": [
    "from sklearn.linear_model import LogisticRegression\n",
    "from sklearn.ensemble import RandomForestClassifier\n",
    "from sklearn.svm import LinearSVC\n",
    "from sklearn.model_selection import cross_val_score"
   ]
  },
  {
   "cell_type": "code",
   "execution_count": 108,
   "id": "pressed-politics",
   "metadata": {},
   "outputs": [],
   "source": [
    "models= [RandomForestClassifier(n_estimators=200, max_depth=3, random_state=0),\n",
    "LinearSVC(),\n",
    "MultinomialNB(),\n",
    "LogisticRegression(random_state=0),]"
   ]
  },
  {
   "cell_type": "code",
   "execution_count": 118,
   "id": "cross-criterion",
   "metadata": {},
   "outputs": [
    {
     "data": {
      "text/plain": [
       "model_name\n",
       "LinearSVC                 0.656959\n",
       "LogisticRegression        0.618864\n",
       "MultinomialNB             0.557330\n",
       "RandomForestClassifier    0.260369\n",
       "Name: accuracy, dtype: float64"
      ]
     },
     "execution_count": 118,
     "metadata": {},
     "output_type": "execute_result"
    }
   ],
   "source": [
    "cv_df.groupby('model_name').accuracy.mean()"
   ]
  },
  {
   "cell_type": "code",
   "execution_count": 62,
   "id": "balanced-anderson",
   "metadata": {},
   "outputs": [
    {
     "name": "stdout",
     "output_type": "stream",
     "text": [
      "LinearSVC()\n",
      "[[ 143    4    3 ...    0    0   45]\n",
      " [   0  258    9 ...    3    0   15]\n",
      " [  12    6  315 ...    0    0   34]\n",
      " ...\n",
      " [   2    2    0 ...    5    2    4]\n",
      " [   2    5    0 ...    0    1    0]\n",
      " [  19   15   18 ...    1    0 1520]]\n",
      "              precision    recall  f1-score   support\n",
      "\n",
      "           1       0.62      0.62      0.62       231\n",
      "          10       0.65      0.71      0.68       365\n",
      "          11       0.70      0.71      0.70       446\n",
      "          12       0.46      0.28      0.35       164\n",
      "          13       0.32      0.16      0.21        89\n",
      "          14       0.67      0.09      0.16        22\n",
      "          15       0.47      0.46      0.46       253\n",
      "          16       0.58      0.55      0.57        76\n",
      "          17       0.58      0.56      0.57       100\n",
      "          18       0.32      0.26      0.29        38\n",
      "          19       0.63      0.71      0.67       403\n",
      "           2       0.68      0.64      0.66       219\n",
      "          20       0.51      0.46      0.49       124\n",
      "          21       0.73      0.75      0.74       198\n",
      "          22       0.59      0.69      0.64       295\n",
      "          23       0.40      0.17      0.24        23\n",
      "          24       0.56      0.55      0.55       509\n",
      "          25       0.45      0.71      0.55        34\n",
      "          26       0.36      0.18      0.24        45\n",
      "          27       0.72      0.71      0.72       321\n",
      "          28       0.43      0.20      0.27        46\n",
      "          29       0.69      0.78      0.74        55\n",
      "           3       0.41      0.34      0.37        79\n",
      "          30       0.69      0.73      0.71       198\n",
      "          31       0.74      0.87      0.80        30\n",
      "          32       0.51      0.50      0.51        36\n",
      "          33       0.33      0.11      0.17        18\n",
      "          34       0.67      0.18      0.29        11\n",
      "          35       0.46      0.35      0.39       312\n",
      "          36       0.66      0.72      0.69       187\n",
      "          37       0.68      0.75      0.71        97\n",
      "          38       0.74      0.81      0.77       343\n",
      "          39       0.50      0.25      0.33        28\n",
      "           4       0.51      0.36      0.43       107\n",
      "           5       0.11      0.08      0.09        25\n",
      "           6       0.52      0.23      0.32        69\n",
      "           7       0.67      0.51      0.58        77\n",
      "           8       0.29      0.20      0.24        25\n",
      "           9       0.25      0.08      0.12        13\n",
      "         non       0.77      0.87      0.82      1741\n",
      "\n",
      "    accuracy                           0.65      7452\n",
      "   macro avg       0.54      0.47      0.49      7452\n",
      "weighted avg       0.64      0.65      0.64      7452\n",
      "\n",
      "0.6541867954911433\n"
     ]
    }
   ],
   "source": [
    "model = LinearSVC()\n",
    "train(model)"
   ]
  },
  {
   "cell_type": "markdown",
   "id": "legislative-hotel",
   "metadata": {},
   "source": [
    "# сохранение модели"
   ]
  },
  {
   "cell_type": "code",
   "execution_count": 63,
   "id": "peripheral-distance",
   "metadata": {},
   "outputs": [],
   "source": [
    "import pickle"
   ]
  },
  {
   "cell_type": "code",
   "execution_count": 65,
   "id": "unlimited-cartridge",
   "metadata": {},
   "outputs": [],
   "source": [
    "pkl_filename = r\"LinearSVC_model.pkl\"\n",
    "with open(pkl_filename, 'wb') as file:\n",
    "    pickle.dump(model, file)"
   ]
  },
  {
   "cell_type": "code",
   "execution_count": 66,
   "id": "pending-intersection",
   "metadata": {},
   "outputs": [],
   "source": [
    "with open(pkl_filename, 'rb') as file:\n",
    "    pickle_model = pickle.load(file)"
   ]
  },
  {
   "cell_type": "code",
   "execution_count": 68,
   "id": "demographic-bargain",
   "metadata": {},
   "outputs": [
    {
     "name": "stdout",
     "output_type": "stream",
     "text": [
      "Test score: 65.42 %\n"
     ]
    }
   ],
   "source": [
    "score = pickle_model.score(X_test_vector, y_test)\n",
    "print(\"Test score: {0:.2f} %\".format(100 * score))"
   ]
  },
  {
   "cell_type": "code",
   "execution_count": 69,
   "id": "sustainable-monday",
   "metadata": {},
   "outputs": [
    {
     "data": {
      "text/plain": [
       "array(['38', '30', '10', ..., 'non', '3', 'non'], dtype=object)"
      ]
     },
     "execution_count": 69,
     "metadata": {},
     "output_type": "execute_result"
    }
   ],
   "source": [
    "Ypredict = pickle_model.predict(X_test_vector)\n",
    "Ypredict"
   ]
  },
  {
   "cell_type": "code",
   "execution_count": null,
   "id": "extreme-federal",
   "metadata": {},
   "outputs": [],
   "source": [
    "def anakiz_file(path_to_file):\n",
    "    "
   ]
  }
 ],
 "metadata": {
  "kernelspec": {
   "display_name": "Python 3",
   "language": "python",
   "name": "python3"
  },
  "language_info": {
   "codemirror_mode": {
    "name": "ipython",
    "version": 3
   },
   "file_extension": ".py",
   "mimetype": "text/x-python",
   "name": "python",
   "nbconvert_exporter": "python",
   "pygments_lexer": "ipython3",
   "version": "3.8.3"
  }
 },
 "nbformat": 4,
 "nbformat_minor": 5
}
